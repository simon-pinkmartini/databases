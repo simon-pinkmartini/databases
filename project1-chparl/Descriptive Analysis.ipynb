{
 "cells": [
  {
   "cell_type": "markdown",
   "metadata": {},
   "source": [
    "# Some descriptive analysis on the \"Fragestunden\""
   ]
  },
  {
   "cell_type": "markdown",
   "metadata": {},
   "source": [
    "## 1: get data for the affairs\n",
    "We start by querying the database and getting a list of all questions, joined by the info on the authors."
   ]
  },
  {
   "cell_type": "code",
   "execution_count": 1,
   "metadata": {
    "collapsed": true
   },
   "outputs": [],
   "source": [
    "import pg8000\n",
    "import pandas as pd\n",
    "%matplotlib inline"
   ]
  },
  {
   "cell_type": "markdown",
   "metadata": {},
   "source": [
    "Connect to the database"
   ]
  },
  {
   "cell_type": "code",
   "execution_count": 2,
   "metadata": {
    "collapsed": true
   },
   "outputs": [],
   "source": [
    "conn = pg8000.connect(database=\"parl\", user=\"webapp\", password=\"webapp\")"
   ]
  },
  {
   "cell_type": "markdown",
   "metadata": {},
   "source": [
    "Prepare the query - we only want affair_type = '14' and legistative_period = '50'"
   ]
  },
  {
   "cell_type": "code",
   "execution_count": 3,
   "metadata": {},
   "outputs": [
    {
     "data": {
      "text/plain": [
       "\"SELECT affairs.affair_id, affairs.affair_type, affairs.council, affairs.legislative_period, affairs.language, affairs.affair_title, affairs.affair_text, affairs.answer, councillors.councillor_id, councillors.firstname, councillors.lastname, councillors.canton, councillors.party FROM affairs JOIN councillors ON affairs.councillor_id = councillors.councillor_id WHERE affairs.affair_type = '14' AND affairs.legislative_period = '50' ORDER BY affairs.affair_id;\""
      ]
     },
     "execution_count": 3,
     "metadata": {},
     "output_type": "execute_result"
    }
   ],
   "source": [
    "query = \"SELECT affairs.affair_id, affairs.affair_type, affairs.council, affairs.legislative_period, affairs.language, affairs.affair_title, affairs.affair_text, affairs.answer, \"\n",
    "query += \"councillors.councillor_id, councillors.firstname, councillors.lastname, councillors.canton, councillors.party \"\n",
    "query += \"FROM affairs JOIN councillors ON affairs.councillor_id = councillors.councillor_id \"\n",
    "query += \"WHERE affairs.affair_type = '14' AND affairs.legislative_period = '50' \"\n",
    "query += \"ORDER BY affairs.affair_id;\"\n",
    "query"
   ]
  },
  {
   "cell_type": "markdown",
   "metadata": {},
   "source": [
    "We can use pandas's sql-function to store the query in a DataFrame"
   ]
  },
  {
   "cell_type": "code",
   "execution_count": 4,
   "metadata": {
    "collapsed": true
   },
   "outputs": [],
   "source": [
    "df = pd.read_sql(query, conn)"
   ]
  },
  {
   "cell_type": "code",
   "execution_count": 5,
   "metadata": {},
   "outputs": [
    {
     "data": {
      "text/html": [
       "<div>\n",
       "<style>\n",
       "    .dataframe thead tr:only-child th {\n",
       "        text-align: right;\n",
       "    }\n",
       "\n",
       "    .dataframe thead th {\n",
       "        text-align: left;\n",
       "    }\n",
       "\n",
       "    .dataframe tbody tr th {\n",
       "        vertical-align: top;\n",
       "    }\n",
       "</style>\n",
       "<table border=\"1\" class=\"dataframe\">\n",
       "  <thead>\n",
       "    <tr style=\"text-align: right;\">\n",
       "      <th></th>\n",
       "      <th>b'affair_id'</th>\n",
       "      <th>b'affair_type'</th>\n",
       "      <th>b'council'</th>\n",
       "      <th>b'legislative_period'</th>\n",
       "      <th>b'language'</th>\n",
       "      <th>b'affair_title'</th>\n",
       "      <th>b'affair_text'</th>\n",
       "      <th>b'answer'</th>\n",
       "      <th>b'councillor_id'</th>\n",
       "      <th>b'firstname'</th>\n",
       "      <th>b'lastname'</th>\n",
       "      <th>b'canton'</th>\n",
       "      <th>b'party'</th>\n",
       "    </tr>\n",
       "  </thead>\n",
       "  <tbody>\n",
       "    <tr>\n",
       "      <th>0</th>\n",
       "      <td>20155540</td>\n",
       "      <td>14</td>\n",
       "      <td>NR</td>\n",
       "      <td>50</td>\n",
       "      <td>de</td>\n",
       "      <td>Prinzip der Wahrung der Interessen der Schweiz...</td>\n",
       "      <td>&lt;p&gt;Die Wahrung der Interessen der Schweiz in d...</td>\n",
       "      <td></td>\n",
       "      <td>4025</td>\n",
       "      <td>Roland Rino</td>\n",
       "      <td>Büchel</td>\n",
       "      <td>SG</td>\n",
       "      <td>SVP</td>\n",
       "    </tr>\n",
       "    <tr>\n",
       "      <th>1</th>\n",
       "      <td>20155541</td>\n",
       "      <td>14</td>\n",
       "      <td>NR</td>\n",
       "      <td>50</td>\n",
       "      <td>de</td>\n",
       "      <td>Lebenslängliche Verwahrung                    ...</td>\n",
       "      <td>&lt;p&gt;Das Bundesgericht hat erneut eine lebenslän...</td>\n",
       "      <td></td>\n",
       "      <td>3902</td>\n",
       "      <td>Natalie</td>\n",
       "      <td>Rickli</td>\n",
       "      <td>ZH</td>\n",
       "      <td>SVP</td>\n",
       "    </tr>\n",
       "    <tr>\n",
       "      <th>2</th>\n",
       "      <td>20155542</td>\n",
       "      <td>14</td>\n",
       "      <td>NR</td>\n",
       "      <td>50</td>\n",
       "      <td>de</td>\n",
       "      <td>Für eine rasche Umsetzung der Pädophilen-Initi...</td>\n",
       "      <td>&lt;p&gt;Im November wurden verschiedene pädokrimine...</td>\n",
       "      <td></td>\n",
       "      <td>3902</td>\n",
       "      <td>Natalie</td>\n",
       "      <td>Rickli</td>\n",
       "      <td>ZH</td>\n",
       "      <td>SVP</td>\n",
       "    </tr>\n",
       "    <tr>\n",
       "      <th>3</th>\n",
       "      <td>20155543</td>\n",
       "      <td>14</td>\n",
       "      <td>NR</td>\n",
       "      <td>50</td>\n",
       "      <td>de</td>\n",
       "      <td>Schutz des bewaffneten Personals des Bundes   ...</td>\n",
       "      <td>&lt;p&gt;Gemäss dem Lagebericht 2015 des Nachrichten...</td>\n",
       "      <td></td>\n",
       "      <td>4090</td>\n",
       "      <td>Céline</td>\n",
       "      <td>Amaudruz</td>\n",
       "      <td>GE</td>\n",
       "      <td>SVP</td>\n",
       "    </tr>\n",
       "    <tr>\n",
       "      <th>4</th>\n",
       "      <td>20155544</td>\n",
       "      <td>14</td>\n",
       "      <td>NR</td>\n",
       "      <td>50</td>\n",
       "      <td>de</td>\n",
       "      <td>Wie kann man nicht schwer vergewaltigen?      ...</td>\n",
       "      <td>&lt;p&gt;In seiner Mitteilung vom 30. November 2015 ...</td>\n",
       "      <td></td>\n",
       "      <td>4090</td>\n",
       "      <td>Céline</td>\n",
       "      <td>Amaudruz</td>\n",
       "      <td>GE</td>\n",
       "      <td>SVP</td>\n",
       "    </tr>\n",
       "  </tbody>\n",
       "</table>\n",
       "</div>"
      ],
      "text/plain": [
       "  b'affair_id' b'affair_type' b'council' b'legislative_period' b'language'  \\\n",
       "0     20155540             14         NR                    50          de   \n",
       "1     20155541             14         NR                    50          de   \n",
       "2     20155542             14         NR                    50          de   \n",
       "3     20155543             14         NR                    50          de   \n",
       "4     20155544             14         NR                    50          de   \n",
       "\n",
       "                                     b'affair_title'  \\\n",
       "0  Prinzip der Wahrung der Interessen der Schweiz...   \n",
       "1  Lebenslängliche Verwahrung                    ...   \n",
       "2  Für eine rasche Umsetzung der Pädophilen-Initi...   \n",
       "3  Schutz des bewaffneten Personals des Bundes   ...   \n",
       "4  Wie kann man nicht schwer vergewaltigen?      ...   \n",
       "\n",
       "                                      b'affair_text' b'answer'  \\\n",
       "0  <p>Die Wahrung der Interessen der Schweiz in d...             \n",
       "1  <p>Das Bundesgericht hat erneut eine lebenslän...             \n",
       "2  <p>Im November wurden verschiedene pädokrimine...             \n",
       "3  <p>Gemäss dem Lagebericht 2015 des Nachrichten...             \n",
       "4  <p>In seiner Mitteilung vom 30. November 2015 ...             \n",
       "\n",
       "  b'councillor_id' b'firstname' b'lastname' b'canton' b'party'  \n",
       "0             4025  Roland Rino      Büchel        SG      SVP  \n",
       "1             3902      Natalie      Rickli        ZH      SVP  \n",
       "2             3902      Natalie      Rickli        ZH      SVP  \n",
       "3             4090       Céline    Amaudruz        GE      SVP  \n",
       "4             4090       Céline    Amaudruz        GE      SVP  "
      ]
     },
     "execution_count": 5,
     "metadata": {},
     "output_type": "execute_result"
    }
   ],
   "source": [
    "df.head()"
   ]
  },
  {
   "cell_type": "markdown",
   "metadata": {},
   "source": [
    "## 2: get data for the parlamentarians\n",
    "To have this list separately will be useful for later analysis"
   ]
  },
  {
   "cell_type": "code",
   "execution_count": 6,
   "metadata": {},
   "outputs": [
    {
     "data": {
      "text/plain": [
       "'SELECT councillors.councillor_id, councillors.firstname, councillors.lastname, councillors.canton, councillors.party FROM councillors;'"
      ]
     },
     "execution_count": 6,
     "metadata": {},
     "output_type": "execute_result"
    }
   ],
   "source": [
    "query2 = \"SELECT councillors.councillor_id, councillors.firstname, councillors.lastname, councillors.canton, councillors.party \"\n",
    "query2 += \"FROM councillors;\"\n",
    "query2"
   ]
  },
  {
   "cell_type": "code",
   "execution_count": 7,
   "metadata": {
    "collapsed": true
   },
   "outputs": [],
   "source": [
    "df_c = pd.read_sql(query2, conn)"
   ]
  },
  {
   "cell_type": "code",
   "execution_count": 8,
   "metadata": {},
   "outputs": [
    {
     "data": {
      "text/html": [
       "<div>\n",
       "<style>\n",
       "    .dataframe thead tr:only-child th {\n",
       "        text-align: right;\n",
       "    }\n",
       "\n",
       "    .dataframe thead th {\n",
       "        text-align: left;\n",
       "    }\n",
       "\n",
       "    .dataframe tbody tr th {\n",
       "        vertical-align: top;\n",
       "    }\n",
       "</style>\n",
       "<table border=\"1\" class=\"dataframe\">\n",
       "  <thead>\n",
       "    <tr style=\"text-align: right;\">\n",
       "      <th></th>\n",
       "      <th>b'councillor_id'</th>\n",
       "      <th>b'firstname'</th>\n",
       "      <th>b'lastname'</th>\n",
       "      <th>b'canton'</th>\n",
       "      <th>b'party'</th>\n",
       "    </tr>\n",
       "  </thead>\n",
       "  <tbody>\n",
       "    <tr>\n",
       "      <th>0</th>\n",
       "      <td>4154</td>\n",
       "      <td>Jean-Luc</td>\n",
       "      <td>Addor</td>\n",
       "      <td>VS</td>\n",
       "      <td>SVP</td>\n",
       "    </tr>\n",
       "    <tr>\n",
       "      <th>1</th>\n",
       "      <td>3867</td>\n",
       "      <td>Andreas</td>\n",
       "      <td>Aebi</td>\n",
       "      <td>BE</td>\n",
       "      <td>SVP</td>\n",
       "    </tr>\n",
       "    <tr>\n",
       "      <th>2</th>\n",
       "      <td>4049</td>\n",
       "      <td>Matthias</td>\n",
       "      <td>Aebischer</td>\n",
       "      <td>BE</td>\n",
       "      <td>SP</td>\n",
       "    </tr>\n",
       "    <tr>\n",
       "      <th>3</th>\n",
       "      <td>4053</td>\n",
       "      <td>Thomas</td>\n",
       "      <td>Aeschi</td>\n",
       "      <td>ZG</td>\n",
       "      <td>SVP</td>\n",
       "    </tr>\n",
       "    <tr>\n",
       "      <th>4</th>\n",
       "      <td>1131</td>\n",
       "      <td>Evi</td>\n",
       "      <td>Allemann</td>\n",
       "      <td>BE</td>\n",
       "      <td>SP</td>\n",
       "    </tr>\n",
       "  </tbody>\n",
       "</table>\n",
       "</div>"
      ],
      "text/plain": [
       "  b'councillor_id' b'firstname' b'lastname' b'canton' b'party'\n",
       "0             4154     Jean-Luc       Addor        VS      SVP\n",
       "1             3867      Andreas        Aebi        BE      SVP\n",
       "2             4049     Matthias   Aebischer        BE       SP\n",
       "3             4053       Thomas      Aeschi        ZG      SVP\n",
       "4             1131          Evi    Allemann        BE       SP"
      ]
     },
     "execution_count": 8,
     "metadata": {},
     "output_type": "execute_result"
    }
   ],
   "source": [
    "df_c.head()"
   ]
  },
  {
   "cell_type": "code",
   "execution_count": 9,
   "metadata": {
    "collapsed": true
   },
   "outputs": [],
   "source": [
    "conn.close()"
   ]
  },
  {
   "cell_type": "markdown",
   "metadata": {},
   "source": [
    "## 3. Basic description of the dataset"
   ]
  },
  {
   "cell_type": "markdown",
   "metadata": {},
   "source": [
    "* The **total number of questions** posed during the current legislation is **1022**. This means the adminsitration has to deal with about 500 questions per year (since the current legislature is only two years old) - not bad."
   ]
  },
  {
   "cell_type": "code",
   "execution_count": 10,
   "metadata": {},
   "outputs": [
    {
     "data": {
      "text/plain": [
       "(1022, 13)"
      ]
     },
     "execution_count": 10,
     "metadata": {},
     "output_type": "execute_result"
    }
   ],
   "source": [
    "df.shape"
   ]
  },
  {
   "cell_type": "markdown",
   "metadata": {},
   "source": [
    "* on Average, councillors asked 5.1 questions"
   ]
  },
  {
   "cell_type": "code",
   "execution_count": 11,
   "metadata": {},
   "outputs": [
    {
     "data": {
      "text/plain": [
       "5.11"
      ]
     },
     "execution_count": 11,
     "metadata": {},
     "output_type": "execute_result"
    }
   ],
   "source": [
    "len(df) / len(df_c)"
   ]
  },
  {
   "cell_type": "markdown",
   "metadata": {},
   "source": [
    "* The **language** of all questions is **german** (french was translated - that's handy)"
   ]
  },
  {
   "cell_type": "code",
   "execution_count": 95,
   "metadata": {},
   "outputs": [
    {
     "data": {
      "text/plain": [
       "de    1022\n",
       "Name: b'language', dtype: int64"
      ]
     },
     "execution_count": 95,
     "metadata": {},
     "output_type": "execute_result"
    }
   ],
   "source": [
    "df[b'language'].value_counts()"
   ]
  },
  {
   "cell_type": "markdown",
   "metadata": {},
   "source": [
    "## 4: Description by parties"
   ]
  },
  {
   "cell_type": "markdown",
   "metadata": {},
   "source": [
    "* Here's a list of questions by **party** - it was the **SVP** (rightwing populists) who posed most questions, followed by **SP** (social democrats). Not so surprising, since these parties are the strongest parties in the parliament."
   ]
  },
  {
   "cell_type": "code",
   "execution_count": 141,
   "metadata": {},
   "outputs": [
    {
     "data": {
      "text/plain": [
       "SVP             406\n",
       "SP              243\n",
       "CVP             108\n",
       "GPS              98\n",
       "FDP-Liberale     97\n",
       "BDP              15\n",
       "Lega             13\n",
       "csp-ow           12\n",
       "glp              12\n",
       "BastA             8\n",
       "MCG               4\n",
       "EVP               4\n",
       "PdA               2\n",
       "Name: b'party', dtype: int64"
      ]
     },
     "execution_count": 141,
     "metadata": {},
     "output_type": "execute_result"
    }
   ],
   "source": [
    "parties_hitlist = df[b'party'].value_counts()\n",
    "parties_hitlist"
   ]
  },
  {
   "cell_type": "code",
   "execution_count": 142,
   "metadata": {},
   "outputs": [
    {
     "data": {
      "text/plain": [
       "<matplotlib.text.Text at 0x9100ef0>"
      ]
     },
     "execution_count": 142,
     "metadata": {},
     "output_type": "execute_result"
    },
    {
     "data": {
      "image/png": "[encoded data removed]",
      "text/plain": [
       "<matplotlib.figure.Figure at 0x90fae10>"
      ]
     },
     "metadata": {},
     "output_type": "display_data"
    }
   ],
   "source": [
    "parties_pie = parties_hitlist.plot(kind=\"pie\",figsize=(5,5), title=\"SVP and SP are keeping the Bundesrat busy\")\n",
    "parties_pie.set_xlabel(\"Number of questions asked\")"
   ]
  },
  {
   "cell_type": "markdown",
   "metadata": {},
   "source": [
    "* Lets come up with a measure that sets the number of questions asked by each party in in relation to the number of councillors that a party has in the parliament"
   ]
  },
  {
   "cell_type": "code",
   "execution_count": 157,
   "metadata": {
    "collapsed": true
   },
   "outputs": [],
   "source": [
    "#The number of parlamentarians for each party\n",
    "parties_numcounc = df_c[b'party'].value_counts()\n",
    "#The combined ratio\n",
    "party_factor = parties_hitlist / parties_numcounc"
   ]
  },
  {
   "cell_type": "markdown",
   "metadata": {},
   "source": [
    "* We can now see that it is the *small parties* like **CSP** (1 guy from canton Obwalden), **GPS** (the Greens), **BastA** (the leftists) and **Lega** (rightwing-party from Ticino) who ask the most questions per councillor. Seems logical, as councillors from the big parties might have the same questions and no need to ask them twice. On the other side, the format of \"Fragestunde\" seems to be a popular way for small parties to get themselves heard."
   ]
  },
  {
   "cell_type": "code",
   "execution_count": 156,
   "metadata": {},
   "outputs": [
    {
     "data": {
      "text/plain": [
       "<matplotlib.text.Text at 0x97f2fd0>"
      ]
     },
     "execution_count": 156,
     "metadata": {},
     "output_type": "execute_result"
    },
    {
     "data": {
      "image/png": "[encoded data removed]",
      "text/plain": [
       "<matplotlib.figure.Figure at 0x948f3b0>"
      ]
     },
     "metadata": {},
     "output_type": "display_data"
    }
   ],
   "source": [
    "party_factor_plot = party_factor.sort_values(na_position=\"first\").plot(kind=\"barh\")\n",
    "party_factor_plot.set_title(\"Small parties ask many questions\")\n",
    "party_factor_plot.set_xlabel(\"Number of questions per councillor\")"
   ]
  },
  {
   "cell_type": "markdown",
   "metadata": {},
   "source": [
    "## 5: Description by parlamentarians"
   ]
  },
  {
   "cell_type": "markdown",
   "metadata": {},
   "source": [
    "* And here's the **hitlist of councillors** with the most questions - **Carlo Sommaruga is N. 1**.\n",
    "\n",
    "* We can also see that **SVP has 4 of the top 10 parlamentarians** and **SP has 3 of the top 10**."
   ]
  },
  {
   "cell_type": "code",
   "execution_count": 105,
   "metadata": {
    "collapsed": true
   },
   "outputs": [],
   "source": [
    "#To start, we construct the full name\n",
    "df[b'fullname'] = df[b'firstname'] + \" \" + df[b'lastname'] + \", \" + df[b'party']"
   ]
  },
  {
   "cell_type": "code",
   "execution_count": 106,
   "metadata": {},
   "outputs": [
    {
     "data": {
      "text/plain": [
       "Carlo Sommaruga, SP                   31\n",
       "Jean-Luc Addor, SVP                   29\n",
       "Susanne Leutenegger Oberholzer, SP    27\n",
       "Céline Amaudruz, SVP                  23\n",
       "Maximilian Reimann, SVP               23\n",
       "Claude Béglé, CVP                     22\n",
       "Claudia Friedl, SP                    18\n",
       "Fabio Regazzi, CVP                    18\n",
       "Balthasar Glättli, GPS                18\n",
       "Manfred Bühler, SVP                   17\n",
       "Name: b'fullname', dtype: int64"
      ]
     },
     "execution_count": 106,
     "metadata": {},
     "output_type": "execute_result"
    }
   ],
   "source": []
  },
  {
   "cell_type": "code",
   "execution_count": 167,
   "metadata": {},
   "outputs": [
    {
     "data": {
      "text/plain": [
       "<matplotlib.text.Text at 0xad7add0>"
      ]
     },
     "execution_count": 167,
     "metadata": {},
     "output_type": "execute_result"
    },
    {
     "data": {
      "image/png": "[encoded data removed]",
      "text/plain": [
       "<matplotlib.figure.Figure at 0xadd0370>"
      ]
     },
     "metadata": {},
     "output_type": "display_data"
    }
   ],
   "source": [
    "councillors_hitlist = df[b'fullname'].value_counts()\n",
    "councillors_hitlist_plot = councillors_hitlist.head(10).sort_values().plot(kind=\"barh\")\n",
    "councillors_hitlist_plot.set_title(\"Some parlamentarians ask more than 20 questions\")\n",
    "councillors_hitlist_plot.set_xlabel(\"Number of questions asked\")"
   ]
  },
  {
   "cell_type": "markdown",
   "metadata": {},
   "source": [
    "* Let's see what **Carlo Sommaruga** is concerned with: Lots of foreign policy questions (especially middle east), some on social security"
   ]
  },
  {
   "cell_type": "code",
   "execution_count": 172,
   "metadata": {},
   "outputs": [
    {
     "data": {
      "text/plain": [
       "27      Schutz der Konsumentinnen und Konsumenten. Produkte aus den von Israel besetzten palästinensischen Gebieten                                                                                         ...\n",
       "28      Auslandschweizerinnen und -schweizer. Beitragszahlungen an die Schweizerische Ausgleichskasse sind für Schweizerinnen und Schweizer in Argentinien nicht möglich                                    ...\n",
       "71      Neuverhandlung des Freihandelsabkommens mit Mexiko in Aussicht?                                                                                                                                     ...\n",
       "72      Iran. Todesstrafe und Antidrogenprogramm des UNODC                                                                                                                                                  ...\n",
       "90      AIIB. Perspektiven für den Schweizer Finanzplatz                                                                                                                                                    ...\n",
       "149     Situation in Eritrea. Gibt es Neuigkeiten vonseiten des EDA?                                                                                                                                        ...\n",
       "167     Nachrichtendienste. S-Fichen des französischen Nachrichtendienstes                                                                                                                                  ...\n",
       "282     Türkei. Menschenrechtsverletzungen und Gesetz, das die parlamentarische Immunität der oppositionellen Abgeordneten untergräbt                                                                       ...\n",
       "283     Israelische Siedlungen auf dem Gebiet des palästinensischen Staates. Haltung der Schweiz                                                                                                            ...\n",
       "381     Wäre es nicht an der Zeit, den palästinensischen Staat anzuerkennen? (1)                                                                                                                            ...\n",
       "382     Mietrecht. Wohnungsnot im Sinne des Obligationenrechtes                                                                                                                                             ...\n",
       "383     Hat die Finma Airbnb eine Geschäftsausübungsbewilligung erteilt?                                                                                                                                    ...\n",
       "384     Airbnb. Unlauteren Steuerwettbewerb vermeiden und die Bezahlung von Steuern und Abgaben sicherstellen                                                                                               ...\n",
       "390     Rüstungsprogramm 2017. Für welche Rüstungsprojekte wurde die Beschaffungsreife erklärt?                                                                                                             ...\n",
       "430     Panama Papers. Follow-up des EFD                                                                                                                                                                    ...\n",
       "466     Aktuelle Praxis des Grenzwachtkorps. Umgang mit schutzbedürftigen Personen                                                                                                                          ...\n",
       "481     Tisa. Ein Sonderrecht für multinationale Unternehmen bei der Personenfreizügigkeit?                                                                                                                 ...\n",
       "484     Wäre es nicht an der Zeit, den palästinensischen Staat anzuerkennen? (2)                                                                                                                            ...\n",
       "596     Welche Beziehung gibt es zwischen dem türkischen und dem Schweizer Nachrichtendienst?                                                                                                               ...\n",
       "627     Wäre es nicht an der Zeit, den palästinensischen Staat anzuerkennen? (3)                                                                                                                            ...\n",
       "628     Ehrung eines Rassisten. Wie wird Präsenz Schweiz begreiflich gemacht, dass Louis Agassiz ein Rassist war?                                                                                           ...\n",
       "728     Wäre es nicht an der Zeit, den palästinensischen Staat anzuerkennen? (4)                                                                                                                            ...\n",
       "729     Verschlimmerung der Menschenrechtslage in Bahrain. Was unternimmt die Schweiz?                                                                                                                      ...\n",
       "884     Justiz. Lange Haft in der Schweiz einer in Spanien gefolterten Baskin                                                                                                                               ...\n",
       "897     Internationales Genf. Langsames Ersticken der NGO und abnehmende Präsenz der Zivilgesellschaft in den Uno-Debatten über die Menschenrechte                                                          ...\n",
       "899     Keine Auflehnung der Schweiz gegen die Völkerrechtsordnung. Keine Plattform für Bibi Netanyahu in Basel                                                                                             ...\n",
       "993     Wann wird endlich ein Verfahren wegen Kriegsverbrechen gegen Tzipi Livni eröffnet?                                                                                                                  ...\n",
       "994     Drohnen. Risiken für die Flughäfen                                                                                                                                                                  ...\n",
       "1013    Eutelsat. Zensurierung eines kurdischen Senders auf Verlangen Erdogans (1)                                                                                                                          ...\n",
       "1014    Eutelsat. Zensurierung eines kurdischen Senders auf Verlangen Erdogans (2)                                                                                                                          ...\n",
       "1018    Staatsräson versus Koalitionsfreiheit algerischer Gewerkschafter?                                                                                                                                   ...\n",
       "Name: b'affair_title', dtype: object"
      ]
     },
     "execution_count": 172,
     "metadata": {},
     "output_type": "execute_result"
    }
   ],
   "source": [
    "pd.set_option(\"max_colwidth\", 200)\n",
    "df[df[b'fullname'] == \"Carlo Sommaruga, SP\"][b'affair_title']"
   ]
  },
  {
   "cell_type": "code",
   "execution_count": 177,
   "metadata": {},
   "outputs": [
    {
     "data": {
      "text/plain": [
       "'<p>Das Schweizer Konsulat in Algier hat acht algerischen Gewerkschaftern, die die unabhängige Gewerkschaftsbewegung vertreten, die Visa verweigert. Dadurch hat die Schweiz die Gewerkschaftsbewegung daran gehindert, sich an der aktuell stattfindenden Konferenz der Internationalen Arbeitsorganisation in Genf energisch für die Koalitionsfreiheit in Algerien auszusprechen.</p><p>- Wie rechtfertigt der Bundesrat diese Entscheidung?</p><p>- Besteht nicht die Gefahr, dass der Ruf der Schweiz und des internationalen Genf durch diese Entscheidung geschädigt wird?</p>'"
      ]
     },
     "execution_count": 177,
     "metadata": {},
     "output_type": "execute_result"
    }
   ],
   "source": [
    "df.loc[1018, b'affair_text']"
   ]
  },
  {
   "cell_type": "markdown",
   "metadata": {},
   "source": [
    "## 6: Description by cantons"
   ]
  },
  {
   "cell_type": "markdown",
   "metadata": {},
   "source": [
    "* Not surprisingly, most questions are asked by councillors from **Zurich** and **Berne** (these are the biggest cantons with the most representatives)"
   ]
  },
  {
   "cell_type": "code",
   "execution_count": 159,
   "metadata": {},
   "outputs": [
    {
     "data": {
      "text/plain": [
       "<matplotlib.text.Text at 0x9844810>"
      ]
     },
     "execution_count": 159,
     "metadata": {},
     "output_type": "execute_result"
    },
    {
     "data": {
      "image/png": "[encoded data removed]",
      "text/plain": [
       "<matplotlib.figure.Figure at 0xa8701b0>"
      ]
     },
     "metadata": {},
     "output_type": "display_data"
    }
   ],
   "source": [
    "cantons_hitlist = df[b'canton'].value_counts()\n",
    "cantons_pie = cantons_hitlist.plot(kind=\"pie\", figsize=(8,8))\n",
    "cantons_pie.set_title(\"Parlamentarians from Zurich and Berne are very active\")\n",
    "cantons_pie.set_xlabel(\"Number of questions asked\")"
   ]
  },
  {
   "cell_type": "markdown",
   "metadata": {},
   "source": [
    "* We will now also put this number in context by giving the number of councillors for each canton"
   ]
  },
  {
   "cell_type": "code",
   "execution_count": 161,
   "metadata": {
    "collapsed": true
   },
   "outputs": [],
   "source": [
    "#the nuber of councillors per canton\n",
    "cantons_numcounc = df_c[b'canton'].value_counts()\n",
    "#the combined ratio\n",
    "cantons_factor = cantons_hitlist / cantons_numcounc"
   ]
  },
  {
   "cell_type": "markdown",
   "metadata": {},
   "source": [
    "* Zurich and Berne are now somewhere in the middle. Apart from **Obwalden** (where we had the CSP-guy) we also have **Nidwalden** (the neighbor canton) on top - seems like these two mountain-cantons have many questions. Apart from that, there is no clear regional pattern (like urban-rural, french-german or so)"
   ]
  },
  {
   "cell_type": "code",
   "execution_count": 166,
   "metadata": {},
   "outputs": [
    {
     "data": {
      "text/plain": [
       "<matplotlib.text.Text at 0xacb0c70>"
      ]
     },
     "execution_count": 166,
     "metadata": {},
     "output_type": "execute_result"
    },
    {
     "data": {
      "image/png": "[encoded data removed]",
      "text/plain": [
       "<matplotlib.figure.Figure at 0xaccd310>"
      ]
     },
     "metadata": {},
     "output_type": "display_data"
    }
   ],
   "source": [
    "cantons_factor_plot = cantons_factor.sort_values(na_position=\"first\").plot(kind=\"barh\", figsize=(5,8))\n",
    "cantons_factor_plot.set_title(\"Nidwalden and Obwalden have many questions\")\n",
    "cantons_factor_plot.set_xlabel(\"Number of questions per councillor\")"
   ]
  },
  {
   "cell_type": "code",
   "execution_count": null,
   "metadata": {
    "collapsed": true
   },
   "outputs": [],
   "source": []
  }
 ],
 "metadata": {
  "kernelspec": {
   "display_name": "Python 3",
   "language": "python",
   "name": "python3"
  },
  "language_info": {
   "codemirror_mode": {
    "name": "ipython",
    "version": 3
   },
   "file_extension": ".py",
   "mimetype": "text/x-python",
   "name": "python",
   "nbconvert_exporter": "python",
   "pygments_lexer": "ipython3",
   "version": "3.6.1"
  }
 },
 "nbformat": 4,
 "nbformat_minor": 2
}
