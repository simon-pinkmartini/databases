{
 "cells": [
  {
   "cell_type": "markdown",
   "metadata": {},
   "source": [
    "# Create info that will be displayed in the map\n",
    "we re-use some code from the notebook 'Descriptive Analysis' here"
   ]
  },
  {
   "cell_type": "code",
   "execution_count": 1,
   "metadata": {
    "collapsed": true
   },
   "outputs": [],
   "source": [
    "import json"
   ]
  },
  {
   "cell_type": "code",
   "execution_count": 2,
   "metadata": {
    "collapsed": true
   },
   "outputs": [],
   "source": [
    "import pg8000"
   ]
  },
  {
   "cell_type": "code",
   "execution_count": 3,
   "metadata": {
    "collapsed": true
   },
   "outputs": [],
   "source": [
    "import pandas as pd"
   ]
  },
  {
   "cell_type": "code",
   "execution_count": 4,
   "metadata": {
    "collapsed": true
   },
   "outputs": [],
   "source": [
    "import numpy as np"
   ]
  },
  {
   "cell_type": "markdown",
   "metadata": {},
   "source": [
    "## 1 Get the data out of the database"
   ]
  },
  {
   "cell_type": "code",
   "execution_count": 70,
   "metadata": {
    "collapsed": true
   },
   "outputs": [],
   "source": [
    "conn = pg8000.connect(database=\"parl\", user=\"webapp\", password=\"webapp\")"
   ]
  },
  {
   "cell_type": "markdown",
   "metadata": {},
   "source": [
    "* affairs"
   ]
  },
  {
   "cell_type": "code",
   "execution_count": 49,
   "metadata": {},
   "outputs": [
    {
     "data": {
      "text/plain": [
       "\"SELECT affairs.affair_id, affairs.affair_type, affairs.council, affairs.legislative_period, affairs.language, affairs.affair_title, affairs.affair_text, affairs.answer, councillors.councillor_id, councillors.firstname, councillors.lastname, councillors.canton, councillors.party FROM affairs JOIN councillors ON affairs.councillor_id = councillors.councillor_id WHERE affairs.affair_type = '14' AND affairs.legislative_period = '50' ORDER BY affairs.affair_id;\""
      ]
     },
     "execution_count": 49,
     "metadata": {},
     "output_type": "execute_result"
    }
   ],
   "source": [
    "query = \"SELECT affairs.affair_id, affairs.affair_type, affairs.council, affairs.legislative_period, affairs.language, affairs.affair_title, affairs.affair_text, affairs.answer, \"\n",
    "query += \"councillors.councillor_id, councillors.firstname, councillors.lastname, councillors.canton, councillors.party \"\n",
    "query += \"FROM affairs JOIN councillors ON affairs.councillor_id = councillors.councillor_id \"\n",
    "query += \"WHERE affairs.affair_type = '14' AND affairs.legislative_period = '50' \"\n",
    "query += \"ORDER BY affairs.affair_id;\"\n",
    "query"
   ]
  },
  {
   "cell_type": "code",
   "execution_count": 50,
   "metadata": {},
   "outputs": [],
   "source": [
    "df = pd.read_sql(query, conn)"
   ]
  },
  {
   "cell_type": "code",
   "execution_count": 51,
   "metadata": {},
   "outputs": [
    {
     "data": {
      "text/html": [
       "<div>\n",
       "<style>\n",
       "    .dataframe thead tr:only-child th {\n",
       "        text-align: right;\n",
       "    }\n",
       "\n",
       "    .dataframe thead th {\n",
       "        text-align: left;\n",
       "    }\n",
       "\n",
       "    .dataframe tbody tr th {\n",
       "        vertical-align: top;\n",
       "    }\n",
       "</style>\n",
       "<table border=\"1\" class=\"dataframe\">\n",
       "  <thead>\n",
       "    <tr style=\"text-align: right;\">\n",
       "      <th></th>\n",
       "      <th>b'affair_id'</th>\n",
       "      <th>b'affair_type'</th>\n",
       "      <th>b'council'</th>\n",
       "      <th>b'legislative_period'</th>\n",
       "      <th>b'language'</th>\n",
       "      <th>b'affair_title'</th>\n",
       "      <th>b'affair_text'</th>\n",
       "      <th>b'answer'</th>\n",
       "      <th>b'councillor_id'</th>\n",
       "      <th>b'firstname'</th>\n",
       "      <th>b'lastname'</th>\n",
       "      <th>b'canton'</th>\n",
       "      <th>b'party'</th>\n",
       "    </tr>\n",
       "  </thead>\n",
       "  <tbody>\n",
       "    <tr>\n",
       "      <th>0</th>\n",
       "      <td>20155540</td>\n",
       "      <td>14</td>\n",
       "      <td>NR</td>\n",
       "      <td>50</td>\n",
       "      <td>de</td>\n",
       "      <td>Prinzip der Wahrung der Interessen der Schweiz...</td>\n",
       "      <td>&lt;p&gt;Die Wahrung der Interessen der Schweiz in d...</td>\n",
       "      <td></td>\n",
       "      <td>4025</td>\n",
       "      <td>Roland Rino</td>\n",
       "      <td>Büchel</td>\n",
       "      <td>SG</td>\n",
       "      <td>SVP</td>\n",
       "    </tr>\n",
       "  </tbody>\n",
       "</table>\n",
       "</div>"
      ],
      "text/plain": [
       "  b'affair_id' b'affair_type' b'council' b'legislative_period' b'language'  \\\n",
       "0     20155540             14         NR                    50          de   \n",
       "\n",
       "                                     b'affair_title'  \\\n",
       "0  Prinzip der Wahrung der Interessen der Schweiz...   \n",
       "\n",
       "                                      b'affair_text' b'answer'  \\\n",
       "0  <p>Die Wahrung der Interessen der Schweiz in d...             \n",
       "\n",
       "  b'councillor_id' b'firstname' b'lastname' b'canton' b'party'  \n",
       "0             4025  Roland Rino      Büchel        SG      SVP  "
      ]
     },
     "execution_count": 51,
     "metadata": {},
     "output_type": "execute_result"
    }
   ],
   "source": [
    "df.head(1)"
   ]
  },
  {
   "cell_type": "code",
   "execution_count": 52,
   "metadata": {},
   "outputs": [],
   "source": [
    "df_colnames = {\n",
    "    b'affair_id': 'affair_id',\n",
    "    b'affair_type': 'affair_type',\n",
    "    b'council': 'council',\n",
    "    b'legislative_period': 'legislative_period',\n",
    "    b'language': 'language',\n",
    "    b'affair_title': 'affair_title',\n",
    "    b'affair_text': 'affair_text',\n",
    "    b'answer': 'answer',\n",
    "    b'councillor_id': 'councillor_id',\n",
    "    b'firstname': 'firstname',\n",
    "    b'lastname': 'lastname',\n",
    "    b'party': 'party',\n",
    "    b'canton': 'canton'\n",
    "}"
   ]
  },
  {
   "cell_type": "code",
   "execution_count": 53,
   "metadata": {
    "collapsed": true
   },
   "outputs": [],
   "source": [
    "df = df.rename(columns=df_colnames)"
   ]
  },
  {
   "cell_type": "code",
   "execution_count": 54,
   "metadata": {},
   "outputs": [
    {
     "data": {
      "text/html": [
       "<div>\n",
       "<style>\n",
       "    .dataframe thead tr:only-child th {\n",
       "        text-align: right;\n",
       "    }\n",
       "\n",
       "    .dataframe thead th {\n",
       "        text-align: left;\n",
       "    }\n",
       "\n",
       "    .dataframe tbody tr th {\n",
       "        vertical-align: top;\n",
       "    }\n",
       "</style>\n",
       "<table border=\"1\" class=\"dataframe\">\n",
       "  <thead>\n",
       "    <tr style=\"text-align: right;\">\n",
       "      <th></th>\n",
       "      <th>affair_id</th>\n",
       "      <th>affair_type</th>\n",
       "      <th>council</th>\n",
       "      <th>legislative_period</th>\n",
       "      <th>language</th>\n",
       "      <th>affair_title</th>\n",
       "      <th>affair_text</th>\n",
       "      <th>answer</th>\n",
       "      <th>councillor_id</th>\n",
       "      <th>firstname</th>\n",
       "      <th>lastname</th>\n",
       "      <th>canton</th>\n",
       "      <th>party</th>\n",
       "    </tr>\n",
       "  </thead>\n",
       "  <tbody>\n",
       "    <tr>\n",
       "      <th>0</th>\n",
       "      <td>20155540</td>\n",
       "      <td>14</td>\n",
       "      <td>NR</td>\n",
       "      <td>50</td>\n",
       "      <td>de</td>\n",
       "      <td>Prinzip der Wahrung der Interessen der Schweiz...</td>\n",
       "      <td>&lt;p&gt;Die Wahrung der Interessen der Schweiz in d...</td>\n",
       "      <td></td>\n",
       "      <td>4025</td>\n",
       "      <td>Roland Rino</td>\n",
       "      <td>Büchel</td>\n",
       "      <td>SG</td>\n",
       "      <td>SVP</td>\n",
       "    </tr>\n",
       "  </tbody>\n",
       "</table>\n",
       "</div>"
      ],
      "text/plain": [
       "  affair_id affair_type council legislative_period language  \\\n",
       "0  20155540          14      NR                 50       de   \n",
       "\n",
       "                                        affair_title  \\\n",
       "0  Prinzip der Wahrung der Interessen der Schweiz...   \n",
       "\n",
       "                                         affair_text answer councillor_id  \\\n",
       "0  <p>Die Wahrung der Interessen der Schweiz in d...                 4025   \n",
       "\n",
       "     firstname lastname canton party  \n",
       "0  Roland Rino   Büchel     SG   SVP  "
      ]
     },
     "execution_count": 54,
     "metadata": {},
     "output_type": "execute_result"
    }
   ],
   "source": [
    "df.head(1)"
   ]
  },
  {
   "cell_type": "markdown",
   "metadata": {},
   "source": [
    "* the councillors"
   ]
  },
  {
   "cell_type": "code",
   "execution_count": 71,
   "metadata": {},
   "outputs": [
    {
     "data": {
      "text/plain": [
       "'SELECT councillors.councillor_id, councillors.firstname, councillors.lastname, councillors.canton, councillors.party FROM councillors;'"
      ]
     },
     "execution_count": 71,
     "metadata": {},
     "output_type": "execute_result"
    }
   ],
   "source": [
    "query2 = \"SELECT councillors.councillor_id, councillors.firstname, councillors.lastname, councillors.canton, councillors.party \"\n",
    "query2 += \"FROM councillors;\"\n",
    "query2"
   ]
  },
  {
   "cell_type": "code",
   "execution_count": 72,
   "metadata": {
    "collapsed": true
   },
   "outputs": [],
   "source": [
    "df_c = pd.read_sql(query2, conn)"
   ]
  },
  {
   "cell_type": "code",
   "execution_count": 73,
   "metadata": {},
   "outputs": [
    {
     "data": {
      "text/html": [
       "<div>\n",
       "<style>\n",
       "    .dataframe thead tr:only-child th {\n",
       "        text-align: right;\n",
       "    }\n",
       "\n",
       "    .dataframe thead th {\n",
       "        text-align: left;\n",
       "    }\n",
       "\n",
       "    .dataframe tbody tr th {\n",
       "        vertical-align: top;\n",
       "    }\n",
       "</style>\n",
       "<table border=\"1\" class=\"dataframe\">\n",
       "  <thead>\n",
       "    <tr style=\"text-align: right;\">\n",
       "      <th></th>\n",
       "      <th>b'councillor_id'</th>\n",
       "      <th>b'firstname'</th>\n",
       "      <th>b'lastname'</th>\n",
       "      <th>b'canton'</th>\n",
       "      <th>b'party'</th>\n",
       "    </tr>\n",
       "  </thead>\n",
       "  <tbody>\n",
       "    <tr>\n",
       "      <th>0</th>\n",
       "      <td>4154</td>\n",
       "      <td>Jean-Luc</td>\n",
       "      <td>Addor</td>\n",
       "      <td>VS</td>\n",
       "      <td>SVP</td>\n",
       "    </tr>\n",
       "  </tbody>\n",
       "</table>\n",
       "</div>"
      ],
      "text/plain": [
       "  b'councillor_id' b'firstname' b'lastname' b'canton' b'party'\n",
       "0             4154     Jean-Luc       Addor        VS      SVP"
      ]
     },
     "execution_count": 73,
     "metadata": {},
     "output_type": "execute_result"
    }
   ],
   "source": [
    "df_c.head(1)"
   ]
  },
  {
   "cell_type": "code",
   "execution_count": 74,
   "metadata": {
    "collapsed": true
   },
   "outputs": [],
   "source": [
    "df_c_colnames = {\n",
    "    b'councillor_id': 'councillor_id',\n",
    "    b'firstname': 'firstname',\n",
    "    b'lastname': 'lastname',\n",
    "    b'party': 'party',\n",
    "    b'canton': 'canton'\n",
    "}"
   ]
  },
  {
   "cell_type": "code",
   "execution_count": 75,
   "metadata": {
    "collapsed": true
   },
   "outputs": [],
   "source": [
    "df_c = df_c.rename(columns=df_c_colnames)"
   ]
  },
  {
   "cell_type": "code",
   "execution_count": 76,
   "metadata": {},
   "outputs": [
    {
     "data": {
      "text/html": [
       "<div>\n",
       "<style>\n",
       "    .dataframe thead tr:only-child th {\n",
       "        text-align: right;\n",
       "    }\n",
       "\n",
       "    .dataframe thead th {\n",
       "        text-align: left;\n",
       "    }\n",
       "\n",
       "    .dataframe tbody tr th {\n",
       "        vertical-align: top;\n",
       "    }\n",
       "</style>\n",
       "<table border=\"1\" class=\"dataframe\">\n",
       "  <thead>\n",
       "    <tr style=\"text-align: right;\">\n",
       "      <th></th>\n",
       "      <th>councillor_id</th>\n",
       "      <th>firstname</th>\n",
       "      <th>lastname</th>\n",
       "      <th>canton</th>\n",
       "      <th>party</th>\n",
       "    </tr>\n",
       "  </thead>\n",
       "  <tbody>\n",
       "    <tr>\n",
       "      <th>0</th>\n",
       "      <td>4154</td>\n",
       "      <td>Jean-Luc</td>\n",
       "      <td>Addor</td>\n",
       "      <td>VS</td>\n",
       "      <td>SVP</td>\n",
       "    </tr>\n",
       "  </tbody>\n",
       "</table>\n",
       "</div>"
      ],
      "text/plain": [
       "  councillor_id firstname lastname canton party\n",
       "0          4154  Jean-Luc    Addor     VS   SVP"
      ]
     },
     "execution_count": 76,
     "metadata": {},
     "output_type": "execute_result"
    }
   ],
   "source": [
    "df_c.head(1)"
   ]
  },
  {
   "cell_type": "code",
   "execution_count": 77,
   "metadata": {
    "collapsed": true
   },
   "outputs": [],
   "source": [
    "conn.close()"
   ]
  },
  {
   "cell_type": "markdown",
   "metadata": {},
   "source": [
    "## 2 Prepare json-like structures"
   ]
  },
  {
   "cell_type": "markdown",
   "metadata": {},
   "source": [
    "* Define the canton_factor - how many questions per councillor in each canton. This will be used as the basis for the coloring of the cantons in the map"
   ]
  },
  {
   "cell_type": "code",
   "execution_count": 62,
   "metadata": {
    "collapsed": true
   },
   "outputs": [],
   "source": [
    "cantons_hitlist = df['canton'].value_counts()\n",
    "cantons_numcounc = df_c['canton'].value_counts()\n",
    "cantons_factor = cantons_hitlist / cantons_numcounc"
   ]
  },
  {
   "cell_type": "code",
   "execution_count": 63,
   "metadata": {
    "collapsed": true
   },
   "outputs": [],
   "source": [
    "#some cleaning up is necessary\n",
    "cantons_factor.fillna(0, inplace=True)\n",
    "cantons_factor = round(cantons_factor, 1).astype(str)"
   ]
  },
  {
   "cell_type": "code",
   "execution_count": 64,
   "metadata": {},
   "outputs": [
    {
     "data": {
      "text/plain": [
       "AG     5.6\n",
       "AI     1.0\n",
       "AR    11.0\n",
       "BE     4.5\n",
       "BL    11.1\n",
       "BS     4.0\n",
       "FR     2.4\n",
       "GE     8.2\n",
       "GL     0.0\n",
       "GR     2.4\n",
       "JU     4.5\n",
       "LU     3.5\n",
       "NE     3.0\n",
       "NW    15.0\n",
       "OW    12.0\n",
       "SG     5.2\n",
       "SH     7.5\n",
       "SO     6.5\n",
       "SZ     2.5\n",
       "TG     2.0\n",
       "TI     7.1\n",
       "UR     7.0\n",
       "VD     4.7\n",
       "VS     7.1\n",
       "ZG     7.7\n",
       "ZH     4.1\n",
       "Name: canton, dtype: object"
      ]
     },
     "execution_count": 64,
     "metadata": {},
     "output_type": "execute_result"
    }
   ],
   "source": [
    "cantons_factor"
   ]
  },
  {
   "cell_type": "markdown",
   "metadata": {},
   "source": [
    "* create a dictionary for each canton that has a dictionary for each councillor, containing id, name, party, number of questions"
   ]
  },
  {
   "cell_type": "code",
   "execution_count": 78,
   "metadata": {
    "collapsed": true
   },
   "outputs": [],
   "source": [
    "#To start, we construct the full name\n",
    "df_c['fullname'] = df_c['firstname'] + \" \" + df_c['lastname']"
   ]
  },
  {
   "cell_type": "code",
   "execution_count": 79,
   "metadata": {},
   "outputs": [],
   "source": [
    "c_dicts = df_c[['councillor_id', 'fullname', 'party', 'canton']]"
   ]
  },
  {
   "cell_type": "code",
   "execution_count": 80,
   "metadata": {},
   "outputs": [
    {
     "data": {
      "text/html": [
       "<div>\n",
       "<style>\n",
       "    .dataframe thead tr:only-child th {\n",
       "        text-align: right;\n",
       "    }\n",
       "\n",
       "    .dataframe thead th {\n",
       "        text-align: left;\n",
       "    }\n",
       "\n",
       "    .dataframe tbody tr th {\n",
       "        vertical-align: top;\n",
       "    }\n",
       "</style>\n",
       "<table border=\"1\" class=\"dataframe\">\n",
       "  <thead>\n",
       "    <tr style=\"text-align: right;\">\n",
       "      <th></th>\n",
       "      <th>councillor_id</th>\n",
       "      <th>fullname</th>\n",
       "      <th>party</th>\n",
       "      <th>canton</th>\n",
       "    </tr>\n",
       "  </thead>\n",
       "  <tbody>\n",
       "    <tr>\n",
       "      <th>0</th>\n",
       "      <td>4154</td>\n",
       "      <td>Jean-Luc Addor</td>\n",
       "      <td>SVP</td>\n",
       "      <td>VS</td>\n",
       "    </tr>\n",
       "    <tr>\n",
       "      <th>1</th>\n",
       "      <td>3867</td>\n",
       "      <td>Andreas Aebi</td>\n",
       "      <td>SVP</td>\n",
       "      <td>BE</td>\n",
       "    </tr>\n",
       "    <tr>\n",
       "      <th>2</th>\n",
       "      <td>4049</td>\n",
       "      <td>Matthias Aebischer</td>\n",
       "      <td>SP</td>\n",
       "      <td>BE</td>\n",
       "    </tr>\n",
       "    <tr>\n",
       "      <th>3</th>\n",
       "      <td>4053</td>\n",
       "      <td>Thomas Aeschi</td>\n",
       "      <td>SVP</td>\n",
       "      <td>ZG</td>\n",
       "    </tr>\n",
       "    <tr>\n",
       "      <th>4</th>\n",
       "      <td>1131</td>\n",
       "      <td>Evi Allemann</td>\n",
       "      <td>SP</td>\n",
       "      <td>BE</td>\n",
       "    </tr>\n",
       "  </tbody>\n",
       "</table>\n",
       "</div>"
      ],
      "text/plain": [
       "  councillor_id            fullname party canton\n",
       "0          4154      Jean-Luc Addor   SVP     VS\n",
       "1          3867        Andreas Aebi   SVP     BE\n",
       "2          4049  Matthias Aebischer    SP     BE\n",
       "3          4053       Thomas Aeschi   SVP     ZG\n",
       "4          1131        Evi Allemann    SP     BE"
      ]
     },
     "execution_count": 80,
     "metadata": {},
     "output_type": "execute_result"
    }
   ],
   "source": [
    "c_dicts.head()"
   ]
  },
  {
   "cell_type": "code",
   "execution_count": 81,
   "metadata": {},
   "outputs": [
    {
     "data": {
      "text/html": [
       "<div>\n",
       "<style>\n",
       "    .dataframe thead tr:only-child th {\n",
       "        text-align: right;\n",
       "    }\n",
       "\n",
       "    .dataframe thead th {\n",
       "        text-align: left;\n",
       "    }\n",
       "\n",
       "    .dataframe tbody tr th {\n",
       "        vertical-align: top;\n",
       "    }\n",
       "</style>\n",
       "<table border=\"1\" class=\"dataframe\">\n",
       "  <thead>\n",
       "    <tr style=\"text-align: right;\">\n",
       "      <th></th>\n",
       "      <th>num_questions</th>\n",
       "    </tr>\n",
       "  </thead>\n",
       "  <tbody>\n",
       "    <tr>\n",
       "      <th>1120</th>\n",
       "      <td>31</td>\n",
       "    </tr>\n",
       "    <tr>\n",
       "      <th>4154</th>\n",
       "      <td>29</td>\n",
       "    </tr>\n",
       "    <tr>\n",
       "      <th>487</th>\n",
       "      <td>27</td>\n",
       "    </tr>\n",
       "    <tr>\n",
       "      <th>4090</th>\n",
       "      <td>23</td>\n",
       "    </tr>\n",
       "    <tr>\n",
       "      <th>173</th>\n",
       "      <td>23</td>\n",
       "    </tr>\n",
       "  </tbody>\n",
       "</table>\n",
       "</div>"
      ],
      "text/plain": [
       "      num_questions\n",
       "1120             31\n",
       "4154             29\n",
       "487              27\n",
       "4090             23\n",
       "173              23"
      ]
     },
     "execution_count": 81,
     "metadata": {},
     "output_type": "execute_result"
    }
   ],
   "source": [
    "c_values = df['councillor_id'].value_counts().to_frame().rename(columns={'councillor_id': 'num_questions'})\n",
    "c_values.head()"
   ]
  },
  {
   "cell_type": "code",
   "execution_count": 82,
   "metadata": {
    "collapsed": true
   },
   "outputs": [],
   "source": [
    "c_dicts = c_dicts.join(c_values, on='councillor_id')\n",
    "c_dicts.fillna(0, inplace=True)"
   ]
  },
  {
   "cell_type": "code",
   "execution_count": 83,
   "metadata": {},
   "outputs": [
    {
     "data": {
      "text/html": [
       "<div>\n",
       "<style>\n",
       "    .dataframe thead tr:only-child th {\n",
       "        text-align: right;\n",
       "    }\n",
       "\n",
       "    .dataframe thead th {\n",
       "        text-align: left;\n",
       "    }\n",
       "\n",
       "    .dataframe tbody tr th {\n",
       "        vertical-align: top;\n",
       "    }\n",
       "</style>\n",
       "<table border=\"1\" class=\"dataframe\">\n",
       "  <thead>\n",
       "    <tr style=\"text-align: right;\">\n",
       "      <th></th>\n",
       "      <th>councillor_id</th>\n",
       "      <th>fullname</th>\n",
       "      <th>party</th>\n",
       "      <th>canton</th>\n",
       "      <th>num_questions</th>\n",
       "    </tr>\n",
       "  </thead>\n",
       "  <tbody>\n",
       "    <tr>\n",
       "      <th>0</th>\n",
       "      <td>4154</td>\n",
       "      <td>Jean-Luc Addor</td>\n",
       "      <td>SVP</td>\n",
       "      <td>VS</td>\n",
       "      <td>29</td>\n",
       "    </tr>\n",
       "    <tr>\n",
       "      <th>1</th>\n",
       "      <td>3867</td>\n",
       "      <td>Andreas Aebi</td>\n",
       "      <td>SVP</td>\n",
       "      <td>BE</td>\n",
       "      <td>8</td>\n",
       "    </tr>\n",
       "    <tr>\n",
       "      <th>2</th>\n",
       "      <td>4049</td>\n",
       "      <td>Matthias Aebischer</td>\n",
       "      <td>SP</td>\n",
       "      <td>BE</td>\n",
       "      <td>2</td>\n",
       "    </tr>\n",
       "    <tr>\n",
       "      <th>3</th>\n",
       "      <td>4053</td>\n",
       "      <td>Thomas Aeschi</td>\n",
       "      <td>SVP</td>\n",
       "      <td>ZG</td>\n",
       "      <td>17</td>\n",
       "    </tr>\n",
       "    <tr>\n",
       "      <th>4</th>\n",
       "      <td>1131</td>\n",
       "      <td>Evi Allemann</td>\n",
       "      <td>SP</td>\n",
       "      <td>BE</td>\n",
       "      <td>1</td>\n",
       "    </tr>\n",
       "  </tbody>\n",
       "</table>\n",
       "</div>"
      ],
      "text/plain": [
       "  councillor_id            fullname party canton  num_questions\n",
       "0          4154      Jean-Luc Addor   SVP     VS             29\n",
       "1          3867        Andreas Aebi   SVP     BE              8\n",
       "2          4049  Matthias Aebischer    SP     BE              2\n",
       "3          4053       Thomas Aeschi   SVP     ZG             17\n",
       "4          1131        Evi Allemann    SP     BE              1"
      ]
     },
     "execution_count": 83,
     "metadata": {},
     "output_type": "execute_result"
    }
   ],
   "source": [
    "c_dicts.head()"
   ]
  },
  {
   "cell_type": "markdown",
   "metadata": {},
   "source": [
    "# 3 Load the GeoJSON and add the prepared structures to it"
   ]
  },
  {
   "cell_type": "markdown",
   "metadata": {},
   "source": [
    "* Load the GeoJSON of the Swiss cantons from a file we found on the internet"
   ]
  },
  {
   "cell_type": "code",
   "execution_count": 84,
   "metadata": {},
   "outputs": [],
   "source": [
    "with open('schweizer_kantone.geojson') as json_data:\n",
    "    cantons_json = json.load(json_data)"
   ]
  },
  {
   "cell_type": "code",
   "execution_count": 85,
   "metadata": {
    "collapsed": true
   },
   "outputs": [],
   "source": [
    "cantons_list = cantons_json['features']"
   ]
  },
  {
   "cell_type": "code",
   "execution_count": 86,
   "metadata": {},
   "outputs": [
    {
     "data": {
      "text/plain": [
       "dict_keys(['type', 'geometry', 'properties'])"
      ]
     },
     "execution_count": 86,
     "metadata": {},
     "output_type": "execute_result"
    }
   ],
   "source": [
    "cantons_list[0].keys()"
   ]
  },
  {
   "cell_type": "code",
   "execution_count": 87,
   "metadata": {},
   "outputs": [
    {
     "data": {
      "text/plain": [
       "{'area_ha': 83851, 'cartodb_id': 20, 'kanton': 'JU'}"
      ]
     },
     "execution_count": 87,
     "metadata": {},
     "output_type": "execute_result"
    }
   ],
   "source": [
    "cantons_list[0]['properties']"
   ]
  },
  {
   "cell_type": "markdown",
   "metadata": {},
   "source": [
    "* Make some modifications in the 'properties' key of each feature:\n",
    "- Add canton names to the abbreviations\n",
    "- drop unnecessary other stuff"
   ]
  },
  {
   "cell_type": "code",
   "execution_count": 88,
   "metadata": {
    "collapsed": true
   },
   "outputs": [],
   "source": [
    "cant_ids = {\n",
    "    'JU': 'Jura',\n",
    "    'NE': 'Neuenburg',\n",
    "    'BE': 'Bern',\n",
    "    'GR': 'Graubünden',\n",
    "    'VD': 'Waadt',\n",
    "    'BS': 'Basel-Stadt',\n",
    "    'ZG': 'Zug',\n",
    "    'NW': 'Nidwalden',\n",
    "    'AI': 'Appenzell Innerrhoden',\n",
    "    'LU': 'Luzern',\n",
    "    'SZ': 'Schwyz',\n",
    "    'UR': 'Uri',\n",
    "    'OW': 'Obwalden',\n",
    "    'GL': 'Glarus',\n",
    "    'BL': 'Basel-Landschaft',\n",
    "    'SO': 'Solothurn',\n",
    "    'SH': 'Schaffhausen',\n",
    "    'AR': 'Appenzell Ausserrhoden',\n",
    "    'SG': 'St. Gallen',\n",
    "    'AG': 'Aargau',\n",
    "    'GE': 'Genf',\n",
    "    'TG': 'Thurgau',\n",
    "    'ZH': 'Zürich',\n",
    "    'FR': 'Freiburg',\n",
    "    'VS': 'Wallis',\n",
    "    'TI': 'Tessin'\n",
    "}"
   ]
  },
  {
   "cell_type": "code",
   "execution_count": 89,
   "metadata": {
    "collapsed": true
   },
   "outputs": [],
   "source": [
    "for canton in cantons_list:\n",
    "    canton['properties'].pop('cartodb_id')\n",
    "    canton['properties'].pop('area_ha')\n",
    "    canton['properties']['kanton_long'] = cant_ids[canton['properties']['kanton']]"
   ]
  },
  {
   "cell_type": "markdown",
   "metadata": {},
   "source": [
    "*then, we insert the ratio of questions/councillors for each canton"
   ]
  },
  {
   "cell_type": "code",
   "execution_count": 90,
   "metadata": {
    "collapsed": true
   },
   "outputs": [],
   "source": [
    "pd.set_option(\"display.float_format\", \"{:,.1f}\".format)"
   ]
  },
  {
   "cell_type": "code",
   "execution_count": 91,
   "metadata": {},
   "outputs": [],
   "source": [
    "for canton in cantons_list:\n",
    "    canton['properties']['factor'] = cantons_factor[canton['properties']['kanton']]"
   ]
  },
  {
   "cell_type": "code",
   "execution_count": 92,
   "metadata": {},
   "outputs": [
    {
     "name": "stdout",
     "output_type": "stream",
     "text": [
      "{'kanton': 'JU', 'kanton_long': 'Jura', 'factor': '4.5'}\n",
      "{'kanton': 'NE', 'kanton_long': 'Neuenburg', 'factor': '3.0'}\n",
      "{'kanton': 'BE', 'kanton_long': 'Bern', 'factor': '4.5'}\n",
      "{'kanton': 'GR', 'kanton_long': 'Graubünden', 'factor': '2.4'}\n",
      "{'kanton': 'VD', 'kanton_long': 'Waadt', 'factor': '4.7'}\n",
      "{'kanton': 'BS', 'kanton_long': 'Basel-Stadt', 'factor': '4.0'}\n",
      "{'kanton': 'ZG', 'kanton_long': 'Zug', 'factor': '7.7'}\n",
      "{'kanton': 'NW', 'kanton_long': 'Nidwalden', 'factor': '15.0'}\n",
      "{'kanton': 'AI', 'kanton_long': 'Appenzell Innerrhoden', 'factor': '1.0'}\n",
      "{'kanton': 'LU', 'kanton_long': 'Luzern', 'factor': '3.5'}\n",
      "{'kanton': 'SZ', 'kanton_long': 'Schwyz', 'factor': '2.5'}\n",
      "{'kanton': 'UR', 'kanton_long': 'Uri', 'factor': '7.0'}\n",
      "{'kanton': 'OW', 'kanton_long': 'Obwalden', 'factor': '12.0'}\n",
      "{'kanton': 'GL', 'kanton_long': 'Glarus', 'factor': '0.0'}\n",
      "{'kanton': 'BL', 'kanton_long': 'Basel-Landschaft', 'factor': '11.1'}\n",
      "{'kanton': 'SO', 'kanton_long': 'Solothurn', 'factor': '6.5'}\n",
      "{'kanton': 'SH', 'kanton_long': 'Schaffhausen', 'factor': '7.5'}\n",
      "{'kanton': 'AR', 'kanton_long': 'Appenzell Ausserrhoden', 'factor': '11.0'}\n",
      "{'kanton': 'SG', 'kanton_long': 'St. Gallen', 'factor': '5.2'}\n",
      "{'kanton': 'AG', 'kanton_long': 'Aargau', 'factor': '5.6'}\n",
      "{'kanton': 'GE', 'kanton_long': 'Genf', 'factor': '8.2'}\n",
      "{'kanton': 'TG', 'kanton_long': 'Thurgau', 'factor': '2.0'}\n",
      "{'kanton': 'ZH', 'kanton_long': 'Zürich', 'factor': '4.1'}\n",
      "{'kanton': 'FR', 'kanton_long': 'Freiburg', 'factor': '2.4'}\n",
      "{'kanton': 'VS', 'kanton_long': 'Wallis', 'factor': '7.1'}\n",
      "{'kanton': 'TI', 'kanton_long': 'Tessin', 'factor': '7.1'}\n"
     ]
    }
   ],
   "source": [
    "for canton in cantons_list:\n",
    "    print (canton['properties'])"
   ]
  },
  {
   "cell_type": "markdown",
   "metadata": {},
   "source": [
    "* now we attach the dictionary on each councillor to the corresponding canton"
   ]
  },
  {
   "cell_type": "code",
   "execution_count": 93,
   "metadata": {
    "collapsed": true
   },
   "outputs": [],
   "source": [
    "pd.set_option(\"display.float_format\", \"{:,.0f}\".format)"
   ]
  },
  {
   "cell_type": "code",
   "execution_count": 95,
   "metadata": {},
   "outputs": [],
   "source": [
    "for canton in cantons_list:\n",
    "    canton['properties']['councillors'] = c_dicts[c_dicts['canton'] == canton['properties']['kanton']].sort_values('num_questions', ascending=False).to_dict(orient=\"records\")"
   ]
  },
  {
   "cell_type": "code",
   "execution_count": 96,
   "metadata": {},
   "outputs": [
    {
     "name": "stdout",
     "output_type": "stream",
     "text": [
      "[{'councillor_id': '4074', 'fullname': 'Pierre-Alain Fridez', 'party': 'SP', 'canton': 'JU', 'num_questions': 7.0}, {'councillor_id': '4087', 'fullname': 'Jean-Paul Gschwind', 'party': 'CVP', 'canton': 'JU', 'num_questions': 2.0}]\n",
      "[{'councillor_id': '4018', 'fullname': 'Jacques-André Maire', 'party': 'SP', 'canton': 'NE', 'num_questions': 4.0}, {'councillor_id': '4187', 'fullname': 'Philippe Bauer', 'party': 'FDP-Liberale', 'canton': 'NE', 'num_questions': 3.0}, {'councillor_id': '4135', 'fullname': 'Raymond Clottu', 'party': 'SVP', 'canton': 'NE', 'num_questions': 3.0}, {'councillor_id': '4201', 'fullname': 'Denis de la Reussille', 'party': 'PdA', 'canton': 'NE', 'num_questions': 2.0}]\n",
      "[{'councillor_id': '4157', 'fullname': 'Manfred Bühler', 'party': 'SVP', 'canton': 'BE', 'num_questions': 17.0}, {'councillor_id': '4095', 'fullname': 'Regula Rytz', 'party': 'GPS', 'canton': 'BE', 'num_questions': 15.0}, {'councillor_id': '3880', 'fullname': 'Andrea Martina Geissbühler', 'party': 'SVP', 'canton': 'BE', 'num_questions': 13.0}, {'councillor_id': '1147', 'fullname': 'Margret Kiener Nellen', 'party': 'SP', 'canton': 'BE', 'num_questions': 12.0}, {'councillor_id': '4065', 'fullname': 'Nadja Pieren', 'party': 'SVP', 'canton': 'BE', 'num_questions': 11.0}, {'councillor_id': '3910', 'fullname': 'Erich von Siebenthal', 'party': 'SVP', 'canton': 'BE', 'num_questions': 9.0}, {'councillor_id': '3867', 'fullname': 'Andreas Aebi', 'party': 'SVP', 'canton': 'BE', 'num_questions': 8.0}, {'councillor_id': '4172', 'fullname': 'Werner Salzmann', 'party': 'SVP', 'canton': 'BE', 'num_questions': 7.0}, {'councillor_id': '4083', 'fullname': 'Jürg Grossen', 'party': 'glp', 'canton': 'BE', 'num_questions': 4.0}, {'councillor_id': '4149', 'fullname': 'Christine Häsler', 'party': 'GPS', 'canton': 'BE', 'num_questions': 4.0}, {'councillor_id': '4130', 'fullname': 'Nadine Masshardt', 'party': 'SP', 'canton': 'BE', 'num_questions': 3.0}, {'councillor_id': '4100', 'fullname': 'Albert Rösti', 'party': 'SVP', 'canton': 'BE', 'num_questions': 2.0}, {'councillor_id': '4049', 'fullname': 'Matthias Aebischer', 'party': 'SP', 'canton': 'BE', 'num_questions': 2.0}, {'councillor_id': '4036', 'fullname': 'Marianne Streiff-Feller', 'party': 'EVP', 'canton': 'BE', 'num_questions': 1.0}, {'councillor_id': '4094', 'fullname': 'Lorenz Hess', 'party': 'BDP', 'canton': 'BE', 'num_questions': 1.0}, {'councillor_id': '3886', 'fullname': 'Hans Grunder', 'party': 'BDP', 'canton': 'BE', 'num_questions': 1.0}, {'councillor_id': '1135', 'fullname': 'Adrian Amstutz', 'party': 'SVP', 'canton': 'BE', 'num_questions': 1.0}, {'councillor_id': '1131', 'fullname': 'Evi Allemann', 'party': 'SP', 'canton': 'BE', 'num_questions': 1.0}, {'councillor_id': '3912', 'fullname': 'Christian Wasserfallen', 'party': 'FDP-Liberale', 'canton': 'BE', 'num_questions': 1.0}, {'councillor_id': '1139', 'fullname': 'Christa Markwalder', 'party': 'FDP-Liberale', 'canton': 'BE', 'num_questions': 0.0}, {'councillor_id': '4045', 'fullname': 'Corrado Pardini', 'party': 'SP', 'canton': 'BE', 'num_questions': 0.0}, {'councillor_id': '4163', 'fullname': 'Erich Hess', 'party': 'SVP', 'canton': 'BE', 'num_questions': 0.0}, {'councillor_id': '4071', 'fullname': 'Urs Gasche', 'party': 'BDP', 'canton': 'BE', 'num_questions': 0.0}, {'councillor_id': '4102', 'fullname': 'Kathrin Bertschy', 'party': 'glp', 'canton': 'BE', 'num_questions': 0.0}, {'councillor_id': '224 ', 'fullname': 'Alexander Tschäppät', 'party': 'SP', 'canton': 'BE', 'num_questions': 0.0}]\n",
      "[{'councillor_id': '4070', 'fullname': 'Martin Candinas', 'party': 'CVP', 'canton': 'GR', 'num_questions': 5.0}, {'councillor_id': '354 ', 'fullname': 'Silva Semadeni', 'party': 'SP', 'canton': 'GR', 'num_questions': 3.0}, {'councillor_id': '4200', 'fullname': 'Duri Campell', 'party': 'BDP', 'canton': 'GR', 'num_questions': 2.0}, {'councillor_id': '4067', 'fullname': 'Heinz Brand', 'party': 'SVP', 'canton': 'GR', 'num_questions': 1.0}, {'councillor_id': '4167', 'fullname': 'Magdalena Martullo-Blocher', 'party': 'SVP', 'canton': 'GR', 'num_questions': 1.0}]\n",
      "[{'councillor_id': '4182', 'fullname': 'Claude Béglé', 'party': 'CVP', 'canton': 'VD', 'num_questions': 22.0}, {'councillor_id': '3907', 'fullname': 'Adèle Thorens Goumaz', 'party': 'GPS', 'canton': 'VD', 'num_questions': 16.0}, {'councillor_id': '4079', 'fullname': 'Fathi Derder', 'party': 'FDP-Liberale', 'canton': 'VD', 'num_questions': 12.0}, {'councillor_id': '3885', 'fullname': 'Jean-Pierre Grin', 'party': 'SVP', 'canton': 'VD', 'num_questions': 10.0}, {'councillor_id': '4156', 'fullname': 'Michaël Buffat', 'party': 'SVP', 'canton': 'VD', 'num_questions': 5.0}, {'councillor_id': '4108', 'fullname': 'Isabelle Chevalley', 'party': 'glp', 'canton': 'VD', 'num_questions': 5.0}, {'councillor_id': '4143', 'fullname': 'Rebecca Ana Ruiz', 'party': 'SP', 'canton': 'VD', 'num_questions': 3.0}, {'councillor_id': '724 ', 'fullname': 'Daniel Brélaz', 'party': 'GPS', 'canton': 'VD', 'num_questions': 2.0}, {'councillor_id': '4077', 'fullname': 'Olivier Feller', 'party': 'FDP-Liberale', 'canton': 'VD', 'num_questions': 2.0}, {'councillor_id': '3883', 'fullname': 'Alice Glauser-Zufferey', 'party': 'SVP', 'canton': 'VD', 'num_questions': 2.0}, {'councillor_id': '4194', 'fullname': 'Laurent Wehrli', 'party': 'FDP-Liberale', 'canton': 'VD', 'num_questions': 2.0}, {'councillor_id': '1346', 'fullname': 'Isabelle Moret', 'party': 'FDP-Liberale', 'canton': 'VD', 'num_questions': 1.0}, {'councillor_id': '1279', 'fullname': 'Roger Nordmann', 'party': 'SP', 'canton': 'VD', 'num_questions': 1.0}, {'councillor_id': '4115', 'fullname': 'Jean Christophe Schwaab', 'party': 'SP', 'canton': 'VD', 'num_questions': 1.0}, {'councillor_id': '4213', 'fullname': 'Samuel Bendahan', 'party': 'SP', 'canton': 'VD', 'num_questions': 0.0}, {'councillor_id': '3923', 'fullname': 'Ada Marra', 'party': 'SP', 'canton': 'VD', 'num_questions': 0.0}, {'councillor_id': '4168', 'fullname': 'Jacques Nicolet', 'party': 'SVP', 'canton': 'VD', 'num_questions': 0.0}, {'councillor_id': '4188', 'fullname': 'Frédéric Borloz', 'party': 'FDP-Liberale', 'canton': 'VD', 'num_questions': 0.0}]\n",
      "[{'councillor_id': '4184', 'fullname': 'Sibel Arslan', 'party': 'BastA', 'canton': 'BS', 'num_questions': 8.0}, {'councillor_id': '4042', 'fullname': 'Sebastian Frehner', 'party': 'SVP', 'canton': 'BS', 'num_questions': 7.0}, {'councillor_id': '4032', 'fullname': 'Beat Jans', 'party': 'SP', 'canton': 'BS', 'num_questions': 4.0}, {'councillor_id': '1129', 'fullname': 'Silvia Schenker', 'party': 'SP', 'canton': 'BS', 'num_questions': 1.0}, {'councillor_id': '74  ', 'fullname': 'Christoph Eymann', 'party': 'LDP', 'canton': 'BS', 'num_questions': 0.0}]\n",
      "[{'councillor_id': '4053', 'fullname': 'Thomas Aeschi', 'party': 'SVP', 'canton': 'ZG', 'num_questions': 17.0}, {'councillor_id': '4084', 'fullname': 'Bruno Pezzatti', 'party': 'FDP-Liberale', 'canton': 'ZG', 'num_questions': 4.0}, {'councillor_id': '1109', 'fullname': 'Gerhard Pfister', 'party': 'CVP', 'canton': 'ZG', 'num_questions': 2.0}]\n",
      "[{'councillor_id': '4098', 'fullname': 'Peter Keller', 'party': 'SVP', 'canton': 'NW', 'num_questions': 15.0}]\n",
      "[{'councillor_id': '4056', 'fullname': 'Daniel Fässler', 'party': 'CVP', 'canton': 'AI', 'num_questions': 1.0}]\n",
      "[{'councillor_id': '4054', 'fullname': 'Albert Vitali', 'party': 'FDP-Liberale', 'canton': 'LU', 'num_questions': 11.0}, {'councillor_id': '4030', 'fullname': 'Prisca Birrer-Heimo', 'party': 'SP', 'canton': 'LU', 'num_questions': 9.0}, {'councillor_id': '1318', 'fullname': 'Louis Schelbert', 'party': 'GPS', 'canton': 'LU', 'num_questions': 4.0}, {'councillor_id': '4097', 'fullname': 'Leo Müller', 'party': 'CVP', 'canton': 'LU', 'num_questions': 3.0}, {'councillor_id': '1337', 'fullname': 'Ida Glanzmann-Hunkeler', 'party': 'CVP', 'canton': 'LU', 'num_questions': 2.0}, {'councillor_id': '4162', 'fullname': 'Franz Grüter', 'party': 'SVP', 'canton': 'LU', 'num_questions': 2.0}, {'councillor_id': '1111', 'fullname': 'Felix Müri', 'party': 'SVP', 'canton': 'LU', 'num_questions': 2.0}, {'councillor_id': '3876', 'fullname': 'Yvette Estermann', 'party': 'SVP', 'canton': 'LU', 'num_questions': 1.0}, {'councillor_id': '4124', 'fullname': 'Peter Schilliger', 'party': 'FDP-Liberale', 'canton': 'LU', 'num_questions': 1.0}, {'councillor_id': '4181', 'fullname': 'Andrea Gmür-Schönenberger', 'party': 'CVP', 'canton': 'LU', 'num_questions': 0.0}]\n",
      "[{'councillor_id': '4160', 'fullname': 'Marcel Dettling', 'party': 'SVP', 'canton': 'SZ', 'num_questions': 4.0}, {'councillor_id': '1159', 'fullname': 'Pirmin Schwander', 'party': 'SVP', 'canton': 'SZ', 'num_questions': 3.0}, {'councillor_id': '4116', 'fullname': 'Petra Gössi', 'party': 'FDP-Liberale', 'canton': 'SZ', 'num_questions': 2.0}, {'councillor_id': '4096', 'fullname': 'Alois Gmür', 'party': 'CVP', 'canton': 'SZ', 'num_questions': 1.0}]\n",
      "[{'councillor_id': '4155', 'fullname': 'Beat Arnold', 'party': 'SVP', 'canton': 'UR', 'num_questions': 7.0}]\n",
      "[{'councillor_id': '4085', 'fullname': 'Karl Vogler', 'party': 'csp-ow', 'canton': 'OW', 'num_questions': 12.0}]\n",
      "[{'councillor_id': '4008', 'fullname': 'Martin Landolt', 'party': 'BDP', 'canton': 'GL', 'num_questions': 0.0}]\n",
      "[{'councillor_id': '487 ', 'fullname': 'Susanne Leutenegger Oberholzer', 'party': 'SP', 'canton': 'BL', 'num_questions': 27.0}, {'councillor_id': '4060', 'fullname': 'Daniela Schneeberger', 'party': 'FDP-Liberale', 'canton': 'BL', 'num_questions': 14.0}, {'councillor_id': '806 ', 'fullname': 'Maya Graf', 'party': 'GPS', 'canton': 'BL', 'num_questions': 13.0}, {'councillor_id': '4051', 'fullname': 'Thomas de Courten', 'party': 'SVP', 'canton': 'BL', 'num_questions': 8.0}, {'councillor_id': '4040', 'fullname': 'Elisabeth Schneider-Schneiter', 'party': 'CVP', 'canton': 'BL', 'num_questions': 7.0}, {'councillor_id': '4173', 'fullname': 'Sandra Sollberger', 'party': 'SVP', 'canton': 'BL', 'num_questions': 5.0}, {'councillor_id': '3899', 'fullname': 'Eric Nussbaumer', 'party': 'SP', 'canton': 'BL', 'num_questions': 4.0}]\n",
      "[{'councillor_id': '1156', 'fullname': 'Bea Heim', 'party': 'SP', 'canton': 'SO', 'num_questions': 16.0}, {'councillor_id': '1142', 'fullname': 'Walter Wobmann', 'party': 'SVP', 'canton': 'SO', 'num_questions': 9.0}, {'councillor_id': '4164', 'fullname': 'Christian Imark', 'party': 'SVP', 'canton': 'SO', 'num_questions': 7.0}, {'councillor_id': '1122', 'fullname': 'Kurt Fluri', 'party': 'FDP-Liberale', 'canton': 'SO', 'num_questions': 3.0}, {'councillor_id': '4063', 'fullname': 'Stefan Müller-Altermatt', 'party': 'CVP', 'canton': 'SO', 'num_questions': 3.0}, {'councillor_id': '4076', 'fullname': 'Philipp Hadorn', 'party': 'SP', 'canton': 'SO', 'num_questions': 1.0}]\n",
      "[{'councillor_id': '4134', 'fullname': 'Martina Munz', 'party': 'SP', 'canton': 'SH', 'num_questions': 8.0}, {'councillor_id': '3890', 'fullname': 'Thomas Hurter', 'party': 'SVP', 'canton': 'SH', 'num_questions': 7.0}]\n",
      "[{'councillor_id': '4179', 'fullname': 'David Zuberbühler', 'party': 'SVP', 'canton': 'AR', 'num_questions': 11.0}]\n",
      "[{'councillor_id': '4131', 'fullname': 'Claudia Friedl', 'party': 'SP', 'canton': 'SG', 'num_questions': 18.0}, {'councillor_id': '4025', 'fullname': 'Roland Rino Büchel', 'party': 'SVP', 'canton': 'SG', 'num_questions': 16.0}, {'councillor_id': '307 ', 'fullname': 'Toni Brunner', 'party': 'SVP', 'canton': 'SG', 'num_questions': 8.0}, {'councillor_id': '1104', 'fullname': 'Jakob Büchler', 'party': 'CVP', 'canton': 'SG', 'num_questions': 4.0}, {'councillor_id': '4190', 'fullname': 'Marcel Dobler', 'party': 'FDP-Liberale', 'canton': 'SG', 'num_questions': 4.0}, {'councillor_id': '4121', 'fullname': 'Barbara Gysi', 'party': 'SP', 'canton': 'SG', 'num_questions': 4.0}, {'councillor_id': '3901', 'fullname': 'Lukas Reimann', 'party': 'SVP', 'canton': 'SG', 'num_questions': 3.0}, {'councillor_id': '4180', 'fullname': 'Thomas Ammann', 'party': 'CVP', 'canton': 'SG', 'num_questions': 2.0}, {'councillor_id': '1137', 'fullname': 'Walter Müller', 'party': 'FDP-Liberale', 'canton': 'SG', 'num_questions': 2.0}, {'councillor_id': '1345', 'fullname': 'Thomas Müller', 'party': 'SVP', 'canton': 'SG', 'num_questions': 1.0}, {'councillor_id': '4165', 'fullname': 'Barbara Keller-Inhelder', 'party': 'SVP', 'canton': 'SG', 'num_questions': 0.0}, {'councillor_id': '4052', 'fullname': 'Markus Ritter', 'party': 'CVP', 'canton': 'SG', 'num_questions': 0.0}]\n",
      "[{'councillor_id': '173 ', 'fullname': 'Maximilian Reimann', 'party': 'SVP', 'canton': 'AG', 'num_questions': 23.0}, {'councillor_id': '3878', 'fullname': 'Sylvia Flückiger-Bäni', 'party': 'SVP', 'canton': 'AG', 'num_questions': 15.0}, {'councillor_id': '4057', 'fullname': 'Cédric Wermuth', 'party': 'SP', 'canton': 'AG', 'num_questions': 14.0}, {'councillor_id': '4185', 'fullname': 'Jonas Fricker', 'party': 'GPS', 'canton': 'AG', 'num_questions': 8.0}, {'councillor_id': '4161', 'fullname': 'Andreas Glarner', 'party': 'SVP', 'canton': 'AG', 'num_questions': 6.0}, {'councillor_id': '4208', 'fullname': 'Matthias Samuel Jauslin', 'party': 'FDP-Liberale', 'canton': 'AG', 'num_questions': 5.0}, {'councillor_id': '4069', 'fullname': 'Yvonne Feri', 'party': 'SP', 'canton': 'AG', 'num_questions': 4.0}, {'councillor_id': '4082', 'fullname': 'Bernhard Guhl', 'party': 'BDP', 'canton': 'AG', 'num_questions': 4.0}, {'councillor_id': '1071', 'fullname': 'Ruth Humbel', 'party': 'CVP', 'canton': 'AG', 'num_questions': 3.0}, {'councillor_id': '4189', 'fullname': 'Thierry Burkart', 'party': 'FDP-Liberale', 'canton': 'AG', 'num_questions': 2.0}, {'councillor_id': '4114', 'fullname': 'Hansjörg Knecht', 'party': 'SVP', 'canton': 'AG', 'num_questions': 2.0}, {'councillor_id': '3875', 'fullname': 'Corina Eichenberger-Walther', 'party': 'FDP-Liberale', 'canton': 'AG', 'num_questions': 1.0}, {'councillor_id': '91  ', 'fullname': 'Ulrich Giezendanner', 'party': 'SVP', 'canton': 'AG', 'num_questions': 1.0}, {'councillor_id': '214 ', 'fullname': 'Luzi Stamm', 'party': 'SVP', 'canton': 'AG', 'num_questions': 1.0}, {'councillor_id': '4158', 'fullname': 'Thomas Burgherr', 'party': 'SVP', 'canton': 'AG', 'num_questions': 0.0}, {'councillor_id': '4059', 'fullname': 'Beat Flach', 'party': 'glp', 'canton': 'AG', 'num_questions': 0.0}]\n",
      "[{'councillor_id': '1120', 'fullname': 'Carlo Sommaruga', 'party': 'SP', 'canton': 'GE', 'num_questions': 31.0}, {'councillor_id': '4090', 'fullname': 'Céline Amaudruz', 'party': 'SVP', 'canton': 'GE', 'num_questions': 23.0}, {'councillor_id': '4186', 'fullname': 'Lisa Mazzone', 'party': 'GPS', 'canton': 'GE', 'num_questions': 16.0}, {'councillor_id': '4195', 'fullname': 'Laurence Fehlmann Rielle', 'party': 'SP', 'canton': 'GE', 'num_questions': 10.0}, {'councillor_id': '4137', 'fullname': 'Roger Golay', 'party': 'MCG', 'canton': 'GE', 'num_questions': 4.0}, {'councillor_id': '3898', 'fullname': 'Yves Nidegger', 'party': 'SVP', 'canton': 'GE', 'num_questions': 3.0}, {'councillor_id': '4113', 'fullname': 'Manuel Tornare', 'party': 'SP', 'canton': 'GE', 'num_questions': 2.0}, {'councillor_id': '3888', 'fullname': 'Hugues Hiltpold', 'party': 'FDP-Liberale', 'canton': 'GE', 'num_questions': 1.0}, {'councillor_id': '4138', 'fullname': 'Guillaume Barazzone', 'party': 'CVP', 'canton': 'GE', 'num_questions': 0.0}, {'councillor_id': '4191', 'fullname': 'Benoît Genecand', 'party': 'FDP-Liberale', 'canton': 'GE', 'num_questions': 0.0}, {'councillor_id': '3895', 'fullname': 'Christian Lüscher', 'party': 'FDP-Liberale', 'canton': 'GE', 'num_questions': 0.0}]\n",
      "[{'councillor_id': '4129', 'fullname': 'Verena Herzog', 'party': 'SVP', 'canton': 'TG', 'num_questions': 5.0}, {'councillor_id': '1295', 'fullname': 'Edith Graf-Litscher', 'party': 'SP', 'canton': 'TG', 'num_questions': 4.0}, {'councillor_id': '4103', 'fullname': 'Markus Hausammann', 'party': 'SVP', 'canton': 'TG', 'num_questions': 3.0}, {'councillor_id': '4192', 'fullname': 'Hermann Hess', 'party': 'FDP-Liberale', 'canton': 'TG', 'num_questions': 0.0}, {'councillor_id': '4118', 'fullname': 'Christian Lohr', 'party': 'CVP', 'canton': 'TG', 'num_questions': 0.0}, {'councillor_id': '519 ', 'fullname': 'Hansjörg Walter', 'party': 'SVP', 'canton': 'TG', 'num_questions': 0.0}]\n",
      "[{'councillor_id': '4093', 'fullname': 'Balthasar Glättli', 'party': 'GPS', 'canton': 'ZH', 'num_questions': 18.0}, {'councillor_id': '4125', 'fullname': 'Gregor Rutz', 'party': 'SVP', 'canton': 'ZH', 'num_questions': 14.0}, {'councillor_id': '3902', 'fullname': 'Natalie Rickli', 'party': 'SVP', 'canton': 'ZH', 'num_questions': 12.0}, {'councillor_id': '4209', 'fullname': 'Hans-Ulrich Bigler', 'party': 'FDP-Liberale', 'canton': 'ZH', 'num_questions': 11.0}, {'councillor_id': '4174', 'fullname': 'Barbara Steinemann', 'party': 'SVP', 'canton': 'ZH', 'num_questions': 10.0}, {'councillor_id': '4175', 'fullname': 'Mauro Tuena', 'party': 'SVP', 'canton': 'ZH', 'num_questions': 9.0}, {'councillor_id': '502 ', 'fullname': 'Kathy Riklin', 'party': 'CVP', 'canton': 'ZH', 'num_questions': 7.0}, {'councillor_id': '4066', 'fullname': 'Rosmarie Quadranti', 'party': 'BDP', 'canton': 'ZH', 'num_questions': 7.0}, {'councillor_id': '4203', 'fullname': 'Angelo Barrile', 'party': 'SP', 'canton': 'ZH', 'num_questions': 6.0}, {'councillor_id': '4106', 'fullname': 'Martin Naef', 'party': 'SP', 'canton': 'ZH', 'num_questions': 5.0}, {'councillor_id': '4199', 'fullname': 'Priska Seiler Graf', 'party': 'SP', 'canton': 'ZH', 'num_questions': 5.0}, {'councillor_id': '4198', 'fullname': 'Mattea Meyer', 'party': 'SP', 'canton': 'ZH', 'num_questions': 4.0}, {'councillor_id': '4196', 'fullname': 'Tim Guldimann', 'party': 'SP', 'canton': 'ZH', 'num_questions': 4.0}, {'councillor_id': '3877', 'fullname': 'Doris Fiala', 'party': 'FDP-Liberale', 'canton': 'ZH', 'num_questions': 4.0}, {'councillor_id': '4031', 'fullname': 'Maja Ingold', 'party': 'EVP', 'canton': 'ZH', 'num_questions': 3.0}, {'councillor_id': '4144', 'fullname': 'Thomas Matter', 'party': 'SVP', 'canton': 'ZH', 'num_questions': 3.0}, {'councillor_id': '3897', 'fullname': 'Tiana Angelina Moser', 'party': 'glp', 'canton': 'ZH', 'num_questions': 3.0}, {'councillor_id': '4202', 'fullname': 'Regine Sauter', 'party': 'FDP-Liberale', 'canton': 'ZH', 'num_questions': 2.0}, {'councillor_id': '4177', 'fullname': 'Bruno Walliser', 'party': 'SVP', 'canton': 'ZH', 'num_questions': 2.0}, {'councillor_id': '4178', 'fullname': 'Claudio Zanetti', 'party': 'SVP', 'canton': 'ZH', 'num_questions': 2.0}, {'councillor_id': '4197', 'fullname': 'Min Li Marti', 'party': 'SP', 'canton': 'ZH', 'num_questions': 2.0}, {'councillor_id': '4166', 'fullname': 'Roger Köppel', 'party': 'SVP', 'canton': 'ZH', 'num_questions': 2.0}, {'councillor_id': '3882', 'fullname': 'Bastien Girod', 'party': 'GPS', 'canton': 'ZH', 'num_questions': 2.0}, {'councillor_id': '4061', 'fullname': 'Thomas Hardegger', 'party': 'SP', 'canton': 'ZH', 'num_questions': 1.0}, {'councillor_id': '3904', 'fullname': 'Barbara Schmid-Federer', 'party': 'CVP', 'canton': 'ZH', 'num_questions': 1.0}, {'councillor_id': '1125', 'fullname': 'Chantal Galladé', 'party': 'SP', 'canton': 'ZH', 'num_questions': 1.0}, {'councillor_id': '4176', 'fullname': 'Hans-Ueli Vogt', 'party': 'SVP', 'canton': 'ZH', 'num_questions': 1.0}, {'councillor_id': '4142', 'fullname': 'Beat Walti', 'party': 'FDP-Liberale', 'canton': 'ZH', 'num_questions': 1.0}, {'councillor_id': '4141', 'fullname': 'Hans-Peter Portmann', 'party': 'FDP-Liberale', 'canton': 'ZH', 'num_questions': 0.0}, {'councillor_id': '3887', 'fullname': 'Alfred Heer', 'party': 'SVP', 'canton': 'ZH', 'num_questions': 0.0}, {'councillor_id': '514 ', 'fullname': 'Jürg Stahl', 'party': 'SVP', 'canton': 'ZH', 'num_questions': 0.0}, {'councillor_id': '4110', 'fullname': 'Hans Egloff', 'party': 'SVP', 'canton': 'ZH', 'num_questions': 0.0}, {'councillor_id': '1138', 'fullname': 'Martin Bäumle', 'party': 'glp', 'canton': 'ZH', 'num_questions': 0.0}, {'councillor_id': '3931', 'fullname': 'Thomas Weibel', 'party': 'glp', 'canton': 'ZH', 'num_questions': 0.0}, {'councillor_id': '4058', 'fullname': 'Jacqueline Badran', 'party': 'SP', 'canton': 'ZH', 'num_questions': 0.0}]\n",
      "[{'councillor_id': '4109', 'fullname': 'Valérie Piller Carrard', 'party': 'SP', 'canton': 'FR', 'num_questions': 5.0}, {'councillor_id': '3872', 'fullname': 'Jacques Bourgeois', 'party': 'FDP-Liberale', 'canton': 'FR', 'num_questions': 3.0}, {'councillor_id': '4101', 'fullname': 'Christine Bulliard-Marbach', 'party': 'CVP', 'canton': 'FR', 'num_questions': 3.0}, {'councillor_id': '1124', 'fullname': 'Dominique de Buman', 'party': 'CVP', 'canton': 'FR', 'num_questions': 2.0}, {'councillor_id': '4123', 'fullname': 'Ursula Schneider Schüttel', 'party': 'SP', 'canton': 'FR', 'num_questions': 2.0}, {'councillor_id': '4169', 'fullname': 'Pierre-André Page', 'party': 'SVP', 'canton': 'FR', 'num_questions': 1.0}, {'councillor_id': '1119', 'fullname': 'Jean-François Rime', 'party': 'SVP', 'canton': 'FR', 'num_questions': 1.0}]\n",
      "[{'councillor_id': '4154', 'fullname': 'Jean-Luc Addor', 'party': 'SVP', 'canton': 'VS', 'num_questions': 29.0}, {'councillor_id': '4091', 'fullname': 'Mathias Reynard', 'party': 'SP', 'canton': 'VS', 'num_questions': 9.0}, {'councillor_id': '4170', 'fullname': 'Franz Ruppen', 'party': 'SVP', 'canton': 'VS', 'num_questions': 9.0}, {'councillor_id': '4193', 'fullname': 'Philippe Nantermod', 'party': 'FDP-Liberale', 'canton': 'VS', 'num_questions': 4.0}, {'councillor_id': '1288', 'fullname': 'Viola Amherd', 'party': 'CVP', 'canton': 'VS', 'num_questions': 3.0}, {'councillor_id': '4086', 'fullname': 'Yannick Buttet', 'party': 'CVP', 'canton': 'VS', 'num_questions': 2.0}, {'councillor_id': '4183', 'fullname': 'Géraldine Marchand-Balet', 'party': 'CVP', 'canton': 'VS', 'num_questions': 1.0}, {'councillor_id': '4212', 'fullname': 'Thomas Egger', 'party': 'CSPO', 'canton': 'VS', 'num_questions': 0.0}]\n",
      "[{'councillor_id': '4072', 'fullname': 'Fabio Regazzi', 'party': 'CVP', 'canton': 'TI', 'num_questions': 18.0}, {'councillor_id': '4120', 'fullname': 'Marco Romano', 'party': 'CVP', 'canton': 'TI', 'num_questions': 14.0}, {'councillor_id': '4046', 'fullname': 'Lorenzo Quadri', 'party': 'Lega', 'canton': 'TI', 'num_questions': 11.0}, {'councillor_id': '4159', 'fullname': 'Marco Chiesa', 'party': 'SVP', 'canton': 'TI', 'num_questions': 6.0}, {'councillor_id': '3830', 'fullname': 'Marina Carobbio Guscetti', 'party': 'SP', 'canton': 'TI', 'num_questions': 5.0}, {'councillor_id': '4073', 'fullname': 'Roberta Pantani', 'party': 'Lega', 'canton': 'TI', 'num_questions': 2.0}, {'councillor_id': '3828', 'fullname': 'Ignazio Cassis', 'party': 'FDP-Liberale', 'canton': 'TI', 'num_questions': 1.0}, {'councillor_id': '4140', 'fullname': 'Giovanni Merlini', 'party': 'FDP-Liberale', 'canton': 'TI', 'num_questions': 0.0}]\n"
     ]
    }
   ],
   "source": [
    "for canton in cantons_list:\n",
    "    print (canton['properties']['councillors'])"
   ]
  },
  {
   "cell_type": "code",
   "execution_count": null,
   "metadata": {},
   "outputs": [],
   "source": [
    "cantons_json"
   ]
  },
  {
   "cell_type": "markdown",
   "metadata": {},
   "source": [
    "# 3b Create another json which stores questions"
   ]
  },
  {
   "cell_type": "markdown",
   "metadata": {},
   "source": [
    "* We are putting this in a separate json / js file in order not to overload the other one"
   ]
  },
  {
   "cell_type": "code",
   "execution_count": 97,
   "metadata": {
    "collapsed": true
   },
   "outputs": [],
   "source": [
    "#Some simplification, like above\n",
    "df['fullname'] = df['firstname'] + \" \" + df['lastname']"
   ]
  },
  {
   "cell_type": "code",
   "execution_count": 98,
   "metadata": {},
   "outputs": [
    {
     "data": {
      "text/html": [
       "<div>\n",
       "<style>\n",
       "    .dataframe thead tr:only-child th {\n",
       "        text-align: right;\n",
       "    }\n",
       "\n",
       "    .dataframe thead th {\n",
       "        text-align: left;\n",
       "    }\n",
       "\n",
       "    .dataframe tbody tr th {\n",
       "        vertical-align: top;\n",
       "    }\n",
       "</style>\n",
       "<table border=\"1\" class=\"dataframe\">\n",
       "  <thead>\n",
       "    <tr style=\"text-align: right;\">\n",
       "      <th></th>\n",
       "      <th>affair_id</th>\n",
       "      <th>affair_type</th>\n",
       "      <th>council</th>\n",
       "      <th>legislative_period</th>\n",
       "      <th>language</th>\n",
       "      <th>affair_title</th>\n",
       "      <th>affair_text</th>\n",
       "      <th>answer</th>\n",
       "      <th>councillor_id</th>\n",
       "      <th>firstname</th>\n",
       "      <th>lastname</th>\n",
       "      <th>canton</th>\n",
       "      <th>party</th>\n",
       "      <th>fullname</th>\n",
       "    </tr>\n",
       "  </thead>\n",
       "  <tbody>\n",
       "    <tr>\n",
       "      <th>0</th>\n",
       "      <td>20155540</td>\n",
       "      <td>14</td>\n",
       "      <td>NR</td>\n",
       "      <td>50</td>\n",
       "      <td>de</td>\n",
       "      <td>Prinzip der Wahrung der Interessen der Schweiz...</td>\n",
       "      <td>&lt;p&gt;Die Wahrung der Interessen der Schweiz in d...</td>\n",
       "      <td></td>\n",
       "      <td>4025</td>\n",
       "      <td>Roland Rino</td>\n",
       "      <td>Büchel</td>\n",
       "      <td>SG</td>\n",
       "      <td>SVP</td>\n",
       "      <td>Roland Rino Büchel</td>\n",
       "    </tr>\n",
       "  </tbody>\n",
       "</table>\n",
       "</div>"
      ],
      "text/plain": [
       "  affair_id affair_type council legislative_period language  \\\n",
       "0  20155540          14      NR                 50       de   \n",
       "\n",
       "                                        affair_title  \\\n",
       "0  Prinzip der Wahrung der Interessen der Schweiz...   \n",
       "\n",
       "                                         affair_text answer councillor_id  \\\n",
       "0  <p>Die Wahrung der Interessen der Schweiz in d...                 4025   \n",
       "\n",
       "     firstname lastname canton party            fullname  \n",
       "0  Roland Rino   Büchel     SG   SVP  Roland Rino Büchel  "
      ]
     },
     "execution_count": 98,
     "metadata": {},
     "output_type": "execute_result"
    }
   ],
   "source": [
    "df.head(1)"
   ]
  },
  {
   "cell_type": "code",
   "execution_count": 102,
   "metadata": {},
   "outputs": [],
   "source": [
    "q_dicts = df[['canton', 'fullname', 'party', 'affair_title', 'affair_text']]"
   ]
  },
  {
   "cell_type": "code",
   "execution_count": 115,
   "metadata": {},
   "outputs": [
    {
     "data": {
      "text/html": [
       "<div>\n",
       "<style>\n",
       "    .dataframe thead tr:only-child th {\n",
       "        text-align: right;\n",
       "    }\n",
       "\n",
       "    .dataframe thead th {\n",
       "        text-align: left;\n",
       "    }\n",
       "\n",
       "    .dataframe tbody tr th {\n",
       "        vertical-align: top;\n",
       "    }\n",
       "</style>\n",
       "<table border=\"1\" class=\"dataframe\">\n",
       "  <thead>\n",
       "    <tr style=\"text-align: right;\">\n",
       "      <th></th>\n",
       "      <th>canton</th>\n",
       "      <th>fullname</th>\n",
       "      <th>party</th>\n",
       "      <th>affair_title</th>\n",
       "      <th>affair_text</th>\n",
       "    </tr>\n",
       "  </thead>\n",
       "  <tbody>\n",
       "    <tr>\n",
       "      <th>0</th>\n",
       "      <td>SG</td>\n",
       "      <td>Roland Rino Büchel</td>\n",
       "      <td>SVP</td>\n",
       "      <td>Prinzip der Wahrung der Interessen der Schweiz...</td>\n",
       "      <td>&lt;p&gt;Die Wahrung der Interessen der Schweiz in d...</td>\n",
       "    </tr>\n",
       "  </tbody>\n",
       "</table>\n",
       "</div>"
      ],
      "text/plain": [
       "  canton            fullname party  \\\n",
       "0     SG  Roland Rino Büchel   SVP   \n",
       "\n",
       "                                        affair_title  \\\n",
       "0  Prinzip der Wahrung der Interessen der Schweiz...   \n",
       "\n",
       "                                         affair_text  \n",
       "0  <p>Die Wahrung der Interessen der Schweiz in d...  "
      ]
     },
     "execution_count": 115,
     "metadata": {},
     "output_type": "execute_result"
    }
   ],
   "source": [
    "q_dicts.head(1)"
   ]
  },
  {
   "cell_type": "code",
   "execution_count": 111,
   "metadata": {
    "collapsed": true
   },
   "outputs": [],
   "source": [
    "questions_json = {}"
   ]
  },
  {
   "cell_type": "code",
   "execution_count": 112,
   "metadata": {},
   "outputs": [],
   "source": [
    "for cant_id in cant_ids:\n",
    "    q_dict = q_dicts[q_dicts['canton'] == cant_id].sort_values('affair_title').to_dict(orient=\"records\")\n",
    "    questions_json[cant_id] = q_dict"
   ]
  },
  {
   "cell_type": "markdown",
   "metadata": {},
   "source": [
    "# 4 Save the modified json into a new file"
   ]
  },
  {
   "cell_type": "markdown",
   "metadata": {},
   "source": [
    "*first, we dump the cantons&councillors json into a new file called `schweizer_kantone.js`"
   ]
  },
  {
   "cell_type": "code",
   "execution_count": 116,
   "metadata": {
    "collapsed": true
   },
   "outputs": [],
   "source": [
    "with open('schweizer_kantone.js', 'w') as fp:\n",
    "    fp.write('var cantonsData = ')\n",
    "    json.dump(cantons_json, fp)"
   ]
  },
  {
   "cell_type": "markdown",
   "metadata": {},
   "source": [
    "*second, we dump the questions json into a new file called questions.js"
   ]
  },
  {
   "cell_type": "code",
   "execution_count": 117,
   "metadata": {
    "collapsed": true
   },
   "outputs": [],
   "source": [
    "with open('questions.js', 'w') as fp:\n",
    "    fp.write('var questionsData = ')\n",
    "    json.dump(questions_json, fp)"
   ]
  },
  {
   "cell_type": "code",
   "execution_count": null,
   "metadata": {
    "collapsed": true
   },
   "outputs": [],
   "source": []
  }
 ],
 "metadata": {
  "kernelspec": {
   "display_name": "Python 3",
   "language": "python",
   "name": "python3"
  },
  "language_info": {
   "codemirror_mode": {
    "name": "ipython",
    "version": 3
   },
   "file_extension": ".py",
   "mimetype": "text/x-python",
   "name": "python",
   "nbconvert_exporter": "python",
   "pygments_lexer": "ipython3",
   "version": "3.6.1"
  }
 },
 "nbformat": 4,
 "nbformat_minor": 2
}
