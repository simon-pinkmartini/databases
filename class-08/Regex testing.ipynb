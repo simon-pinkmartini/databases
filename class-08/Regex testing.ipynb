{
 "cells": [
  {
   "cell_type": "code",
   "execution_count": 6,
   "metadata": {
    "collapsed": true
   },
   "outputs": [],
   "source": [
    "import re"
   ]
  },
  {
   "cell_type": "code",
   "execution_count": 221,
   "metadata": {
    "collapsed": true
   },
   "outputs": [],
   "source": [
    "text = '''Auch Warenhäuser Warenhäuser1 Warenhäuser12 wie Globus und Jelmoli rüsten mit Barber-Services auf: Jelmoli bietet immer wieder Barber-Pop-Ups an. Herren-Globus führt gar einen eigenen Barbershop in der Zürcher Filiale an der Löwenstrasse. Hier steigen die Preise für die Rasuren je nach Behandlung bis auf 189 Franken. Sogar Färben oder Highlights für den Bart liegen drin.\n",
    "'''"
   ]
  },
  {
   "cell_type": "code",
   "execution_count": 222,
   "metadata": {},
   "outputs": [
    {
     "data": {
      "text/plain": [
       "'Auch Warenhäuser Warenhäuser1 Warenhäuser12 wie Globus und Jelmoli rüsten mit Barber-Services auf: Jelmoli bietet immer wieder Barber-Pop-Ups an. Herren-Globus führt gar einen eigenen Barbershop in der Zürcher Filiale an der Löwenstrasse. Hier steigen die Preise für die Rasuren je nach Behandlung bis auf 189 Franken. Sogar Färben oder Highlights für den Bart liegen drin.\\n'"
      ]
     },
     "execution_count": 222,
     "metadata": {},
     "output_type": "execute_result"
    }
   ],
   "source": [
    "text"
   ]
  },
  {
   "cell_type": "code",
   "execution_count": 232,
   "metadata": {},
   "outputs": [],
   "source": [
    "result = re.findall(r\"Globus|Jelmoli\", text)"
   ]
  },
  {
   "cell_type": "code",
   "execution_count": 233,
   "metadata": {},
   "outputs": [
    {
     "data": {
      "text/plain": [
       "['Globus', 'Jelmoli', 'Jelmoli', 'Globus']"
      ]
     },
     "execution_count": 233,
     "metadata": {},
     "output_type": "execute_result"
    }
   ],
   "source": [
    "result"
   ]
  },
  {
   "cell_type": "code",
   "execution_count": 204,
   "metadata": {},
   "outputs": [
    {
     "data": {
      "text/plain": [
       "['Auch Warenhäuser wie Globus und Jelmoli rüsten mit Barber-Services auf',\n",
       " ' Jelmoli bietet immer wieder Barber-Pop-Ups an',\n",
       " ' Herren-Globus führt gar einen eigenen Barbershop in der Zürcher Filiale an der Löwenstrasse',\n",
       " ' Hier steigen die Preise für die Rasuren je nach Behandlung bis auf 189 Franken',\n",
       " ' Sogar Färben oder Highlights für den Bart liegen drin',\n",
       " '\\n']"
      ]
     },
     "execution_count": 204,
     "metadata": {},
     "output_type": "execute_result"
    }
   ],
   "source": [
    "part_sentences = re.split(r\"[,:.]\", text)\n",
    "part_sentences"
   ]
  },
  {
   "cell_type": "code",
   "execution_count": null,
   "metadata": {
    "collapsed": true
   },
   "outputs": [],
   "source": []
  }
 ],
 "metadata": {
  "kernelspec": {
   "display_name": "Python 3",
   "language": "python",
   "name": "python3"
  },
  "language_info": {
   "codemirror_mode": {
    "name": "ipython",
    "version": 3
   },
   "file_extension": ".py",
   "mimetype": "text/x-python",
   "name": "python",
   "nbconvert_exporter": "python",
   "pygments_lexer": "ipython3",
   "version": "3.6.1"
  }
 },
 "nbformat": 4,
 "nbformat_minor": 2
}
