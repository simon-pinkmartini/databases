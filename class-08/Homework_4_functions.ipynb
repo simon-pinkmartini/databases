{
 "cells": [
  {
   "cell_type": "markdown",
   "metadata": {},
   "source": [
    "## homework 4: part two: investigating lists and dictionaries\n",
    "In this assignment I will ask you to pick five relatively short texts (poems, paragraphs, short essays, song lyrics, whatever interests you). The main thing is to make sure that each text is around 10 - 20 lines or sentences long. Below, I have selected five poems by Wallace Stevens. In each cell I have made a variable that contains each poem, and then I pass that poem through a function called `text_to_dict` that makes a dictionary for each poem. The dictionary contains the title of the poem, the full text as one string, and a list that contains each line of the poem. The function will also make lists of sentences instead of lines if you want to investigate a prose text (sentence by sentence) instead of a poem (line by line).\n",
    "\n",
    "There are two parts of this assignment. \n",
    "\n",
    "**Part 1**, which should be easy, is to replace the poems with texts of your own choice--and choose to split them by lines or sentences. \n",
    "\n",
    "**Part 2** is to write functions that and investigate your texts. If you want to focus on the functions first, you can go straight to Part 2 and use the pomes I have chosen. You can then go back and enter your own texts--your functions should work no matter what text you've chosen.\n"
   ]
  },
  {
   "cell_type": "code",
   "execution_count": 1,
   "metadata": {
    "collapsed": true
   },
   "outputs": [],
   "source": [
    "#Run this cell toImport regular expressions\n",
    "#And to initialize the all texts list that will contain all of your dictionaries of text\n",
    "import re\n",
    "all_texts = []"
   ]
  },
  {
   "cell_type": "markdown",
   "metadata": {},
   "source": [
    "** understanding the text_to_dict function**\n",
    "\n",
    "You don't have to completely understand this function to use it, but you do need to understand its parameters. It takes three parameters:\n",
    "* `title` is a string you need to write inside function's parameters\n",
    "* `text` is the variable that holds the entire text\n",
    "* `poem` True/False parameter --if it is true it will split your text by line (`\\n`) \n",
    " \tIf it is false it will split your text by sentence ('[.?!])\n",
    "\n",
    "If you look at the function you will see that it builds a dictionary with the following fields:\n",
    "* `title` is the title of the text\n",
    "* `text` is the full text as a string\n",
    "* `lines` is a list of lines or sentences\n",
    "\n",
    "It returns a dictionary with those fields."
   ]
  },
  {
   "cell_type": "code",
   "execution_count": 2,
   "metadata": {
    "collapsed": true
   },
   "outputs": [],
   "source": [
    "def text_to_dict(title,text,poem):\n",
    "    dict_of_this_text = {}\n",
    "    dict_of_this_text['title'] = title\n",
    "    dict_of_this_text['alltext'] = text\n",
    "    if poem:\n",
    "        text_to_list = text.strip().split('\\n')\n",
    "    else:\n",
    "        text_to_list = re.split(r\"[.?!]\",text)\n",
    "    dict_of_this_text['lines'] = text_to_list\n",
    "    return dict_of_this_text"
   ]
  },
  {
   "cell_type": "markdown",
   "metadata": {},
   "source": [
    "## Part One\n",
    "\n",
    "The next five cells are exactly the same. They define five different texts, and then they pass each text through the `text_to_dict` function. And then they add the resulting dictionary to the all_texts list. \n",
    "\n",
    "In the five cells below enter your five selected texts.\n",
    "\n",
    "**You should do no coding at any point** until the very last cell before part two."
   ]
  },
  {
   "cell_type": "code",
   "execution_count": 3,
   "metadata": {
    "collapsed": true
   },
   "outputs": [],
   "source": [
    "#To change the text, just put a new text between the quotation mark\n",
    "text0 = '''\n",
    "Call the roller of big cigars, \n",
    "The muscular one, and bid him whip \n",
    "In kitchen cups concupiscent curds. \n",
    "Let the wenches dawdle in such dress \n",
    "As they are used to wear, and let the boys \n",
    "Bring flowers in last month's newspapers. \n",
    "Let be be finale of seem. \n",
    "The only emperor is the emperor of ice-cream. \n",
    "\n",
    "Take from the dresser of deal, \n",
    "Lacking the three glass knobs, that sheet \n",
    "On which she embroidered fantails once \n",
    "And spread it so as to cover her face. \n",
    "If her horny feet protrude, they come \n",
    "To show how cold she is, and dumb. \n",
    "Let the lamp affix its beam. \n",
    "The only emperor is the emperor of ice-cream.\n",
    "'''\n",
    "#Remember: you need to type the title into the first parameter\n",
    "#If you want to split by line choose True for the third parameter\n",
    "#If you want to split by sentence, choose False\n",
    "transform_it = text_to_dict(\"Emperor of Ice Cream\",text0,True)\n",
    "all_texts.append(transform_it)"
   ]
  },
  {
   "cell_type": "code",
   "execution_count": 4,
   "metadata": {
    "collapsed": true
   },
   "outputs": [],
   "source": [
    "text1 = '''\n",
    "One must have a mind of winter \n",
    "To regard the frost and the boughs \n",
    "Of the pine-trees crusted with snow; \n",
    "\n",
    "And have been cold a long time \n",
    "To behold the junipers shagged with ice, \n",
    "The spruces rough in the distant glitter \n",
    "\n",
    "Of the January sun; and not to think \n",
    "Of any misery in the sound of the wind, \n",
    "In the sound of a few leaves, \n",
    "\n",
    "Which is the sound of the land \n",
    "Full of the same wind \n",
    "That is blowing in the same bare place \n",
    "\n",
    "For the listener, who listens in the snow, \n",
    "And, nothing himself, beholds \n",
    "Nothing that is not there and the nothing that is.\n",
    "'''\n",
    "transform_it = text_to_dict(\"The Snow Man\",text1,True)\n",
    "all_texts.append(transform_it)"
   ]
  },
  {
   "cell_type": "code",
   "execution_count": 5,
   "metadata": {
    "collapsed": true
   },
   "outputs": [],
   "source": [
    "text2 = '''\n",
    "The palm at the end of the mind,\n",
    "Beyond the last thought, rises\n",
    "In the bronze decor,\n",
    "\n",
    "A gold-feathered bird\n",
    "Sings in the palm, without human meaning,\n",
    "Without human feeling, a foreign song.\n",
    "\n",
    "You know then that it is not the reason \n",
    "That makes us happy or unhappy. \n",
    "The bird sings. Its feathers shine.\n",
    "\n",
    "The palm stands on the edge of space. \n",
    "The wind moves slowly in the branches. \n",
    "The bird's fire-fangled feathers dangle down.\n",
    "'''\n",
    "transform_it = text_to_dict(\"Of Mere Being\",text2,True)\n",
    "all_texts.append(transform_it)"
   ]
  },
  {
   "cell_type": "code",
   "execution_count": 6,
   "metadata": {
    "collapsed": true
   },
   "outputs": [],
   "source": [
    "text3 = '''\n",
    "As the immense dew of Florida \n",
    "Brings forth\n",
    "The big-finned palm\n",
    "And green vine angering for life,\n",
    "\n",
    "As the immense dew of Florida\n",
    "Brings forth hymn and hymn\n",
    "From the beholder,\n",
    "Beholding all these green sides\n",
    "And gold sides of green sides,\n",
    "\n",
    "And blessed mornings,\n",
    "Meet for the eye of the young alligator,\n",
    "And lightning colors\n",
    "So, in me, come flinging\n",
    "Forms, flames, and the flakes of flames.\n",
    "'''\n",
    "transform_it = text_to_dict(\"Nomad Exquisite\",text3,True)\n",
    "all_texts.append(transform_it)"
   ]
  },
  {
   "cell_type": "code",
   "execution_count": 7,
   "metadata": {
    "collapsed": true
   },
   "outputs": [],
   "source": [
    "text4 = '''\n",
    "I placed a jar in Tennessee, \n",
    "And round it was, upon a hill. \n",
    "It made the slovenly wilderness \n",
    "Surround that hill. \n",
    "\n",
    "The wilderness rose up to it, \n",
    "And sprawled around, no longer wild. \n",
    "The jar was round upon the ground \n",
    "And tall and of a port in air. \n",
    "\n",
    "It took dominion everywhere. \n",
    "The jar was gray and bare. \n",
    "It did not give of bird or bush, \n",
    "Like nothing else in Tennessee.\n",
    "'''\n",
    "transform_it = text_to_dict(\"Anecdote of the Jar\",text4,True)\n",
    "all_texts.append(transform_it)"
   ]
  },
  {
   "cell_type": "markdown",
   "metadata": {},
   "source": [
    "Run the two cells below to confirm that first, you only have five texts in the all_texts list, and next, look at the all_texts list to see the dictionary inside it. "
   ]
  },
  {
   "cell_type": "code",
   "execution_count": 8,
   "metadata": {},
   "outputs": [
    {
     "data": {
      "text/plain": [
       "5"
      ]
     },
     "execution_count": 8,
     "metadata": {},
     "output_type": "execute_result"
    }
   ],
   "source": [
    "len(all_texts)"
   ]
  },
  {
   "cell_type": "code",
   "execution_count": 9,
   "metadata": {},
   "outputs": [
    {
     "data": {
      "text/plain": [
       "[{'alltext': \"\\nCall the roller of big cigars, \\nThe muscular one, and bid him whip \\nIn kitchen cups concupiscent curds. \\nLet the wenches dawdle in such dress \\nAs they are used to wear, and let the boys \\nBring flowers in last month's newspapers. \\nLet be be finale of seem. \\nThe only emperor is the emperor of ice-cream. \\n\\nTake from the dresser of deal, \\nLacking the three glass knobs, that sheet \\nOn which she embroidered fantails once \\nAnd spread it so as to cover her face. \\nIf her horny feet protrude, they come \\nTo show how cold she is, and dumb. \\nLet the lamp affix its beam. \\nThe only emperor is the emperor of ice-cream.\\n\",\n",
       "  'lines': ['Call the roller of big cigars, ',\n",
       "   'The muscular one, and bid him whip ',\n",
       "   'In kitchen cups concupiscent curds. ',\n",
       "   'Let the wenches dawdle in such dress ',\n",
       "   'As they are used to wear, and let the boys ',\n",
       "   \"Bring flowers in last month's newspapers. \",\n",
       "   'Let be be finale of seem. ',\n",
       "   'The only emperor is the emperor of ice-cream. ',\n",
       "   '',\n",
       "   'Take from the dresser of deal, ',\n",
       "   'Lacking the three glass knobs, that sheet ',\n",
       "   'On which she embroidered fantails once ',\n",
       "   'And spread it so as to cover her face. ',\n",
       "   'If her horny feet protrude, they come ',\n",
       "   'To show how cold she is, and dumb. ',\n",
       "   'Let the lamp affix its beam. ',\n",
       "   'The only emperor is the emperor of ice-cream.'],\n",
       "  'title': 'Emperor of Ice Cream'},\n",
       " {'alltext': '\\nOne must have a mind of winter \\nTo regard the frost and the boughs \\nOf the pine-trees crusted with snow; \\n\\nAnd have been cold a long time \\nTo behold the junipers shagged with ice, \\nThe spruces rough in the distant glitter \\n\\nOf the January sun; and not to think \\nOf any misery in the sound of the wind, \\nIn the sound of a few leaves, \\n\\nWhich is the sound of the land \\nFull of the same wind \\nThat is blowing in the same bare place \\n\\nFor the listener, who listens in the snow, \\nAnd, nothing himself, beholds \\nNothing that is not there and the nothing that is.\\n',\n",
       "  'lines': ['One must have a mind of winter ',\n",
       "   'To regard the frost and the boughs ',\n",
       "   'Of the pine-trees crusted with snow; ',\n",
       "   '',\n",
       "   'And have been cold a long time ',\n",
       "   'To behold the junipers shagged with ice, ',\n",
       "   'The spruces rough in the distant glitter ',\n",
       "   '',\n",
       "   'Of the January sun; and not to think ',\n",
       "   'Of any misery in the sound of the wind, ',\n",
       "   'In the sound of a few leaves, ',\n",
       "   '',\n",
       "   'Which is the sound of the land ',\n",
       "   'Full of the same wind ',\n",
       "   'That is blowing in the same bare place ',\n",
       "   '',\n",
       "   'For the listener, who listens in the snow, ',\n",
       "   'And, nothing himself, beholds ',\n",
       "   'Nothing that is not there and the nothing that is.'],\n",
       "  'title': 'The Snow Man'},\n",
       " {'alltext': \"\\nThe palm at the end of the mind,\\nBeyond the last thought, rises\\nIn the bronze decor,\\n\\nA gold-feathered bird\\nSings in the palm, without human meaning,\\nWithout human feeling, a foreign song.\\n\\nYou know then that it is not the reason \\nThat makes us happy or unhappy. \\nThe bird sings. Its feathers shine.\\n\\nThe palm stands on the edge of space. \\nThe wind moves slowly in the branches. \\nThe bird's fire-fangled feathers dangle down.\\n\",\n",
       "  'lines': ['The palm at the end of the mind,',\n",
       "   'Beyond the last thought, rises',\n",
       "   'In the bronze decor,',\n",
       "   '',\n",
       "   'A gold-feathered bird',\n",
       "   'Sings in the palm, without human meaning,',\n",
       "   'Without human feeling, a foreign song.',\n",
       "   '',\n",
       "   'You know then that it is not the reason ',\n",
       "   'That makes us happy or unhappy. ',\n",
       "   'The bird sings. Its feathers shine.',\n",
       "   '',\n",
       "   'The palm stands on the edge of space. ',\n",
       "   'The wind moves slowly in the branches. ',\n",
       "   \"The bird's fire-fangled feathers dangle down.\"],\n",
       "  'title': 'Of Mere Being'},\n",
       " {'alltext': '\\nAs the immense dew of Florida \\nBrings forth\\nThe big-finned palm\\nAnd green vine angering for life,\\n\\nAs the immense dew of Florida\\nBrings forth hymn and hymn\\nFrom the beholder,\\nBeholding all these green sides\\nAnd gold sides of green sides,\\n\\nAnd blessed mornings,\\nMeet for the eye of the young alligator,\\nAnd lightning colors\\nSo, in me, come flinging\\nForms, flames, and the flakes of flames.\\n',\n",
       "  'lines': ['As the immense dew of Florida ',\n",
       "   'Brings forth',\n",
       "   'The big-finned palm',\n",
       "   'And green vine angering for life,',\n",
       "   '',\n",
       "   'As the immense dew of Florida',\n",
       "   'Brings forth hymn and hymn',\n",
       "   'From the beholder,',\n",
       "   'Beholding all these green sides',\n",
       "   'And gold sides of green sides,',\n",
       "   '',\n",
       "   'And blessed mornings,',\n",
       "   'Meet for the eye of the young alligator,',\n",
       "   'And lightning colors',\n",
       "   'So, in me, come flinging',\n",
       "   'Forms, flames, and the flakes of flames.'],\n",
       "  'title': 'Nomad Exquisite'},\n",
       " {'alltext': '\\nI placed a jar in Tennessee, \\nAnd round it was, upon a hill. \\nIt made the slovenly wilderness \\nSurround that hill. \\n\\nThe wilderness rose up to it, \\nAnd sprawled around, no longer wild. \\nThe jar was round upon the ground \\nAnd tall and of a port in air. \\n\\nIt took dominion everywhere. \\nThe jar was gray and bare. \\nIt did not give of bird or bush, \\nLike nothing else in Tennessee.\\n',\n",
       "  'lines': ['I placed a jar in Tennessee, ',\n",
       "   'And round it was, upon a hill. ',\n",
       "   'It made the slovenly wilderness ',\n",
       "   'Surround that hill. ',\n",
       "   '',\n",
       "   'The wilderness rose up to it, ',\n",
       "   'And sprawled around, no longer wild. ',\n",
       "   'The jar was round upon the ground ',\n",
       "   'And tall and of a port in air. ',\n",
       "   '',\n",
       "   'It took dominion everywhere. ',\n",
       "   'The jar was gray and bare. ',\n",
       "   'It did not give of bird or bush, ',\n",
       "   'Like nothing else in Tennessee.'],\n",
       "  'title': 'Anecdote of the Jar'}]"
      ]
     },
     "execution_count": 9,
     "metadata": {},
     "output_type": "execute_result"
    }
   ],
   "source": [
    "all_texts"
   ]
  },
  {
   "cell_type": "markdown",
   "metadata": {},
   "source": [
    "In the cell below, loop through all_texts and print out the title of each text. (This is the only code you need to write for Part One.)"
   ]
  },
  {
   "cell_type": "code",
   "execution_count": 10,
   "metadata": {},
   "outputs": [
    {
     "data": {
      "text/plain": [
       "['Emperor of Ice Cream',\n",
       " 'The Snow Man',\n",
       " 'Of Mere Being',\n",
       " 'Nomad Exquisite',\n",
       " 'Anecdote of the Jar']"
      ]
     },
     "execution_count": 10,
     "metadata": {},
     "output_type": "execute_result"
    }
   ],
   "source": [
    "[text[\"title\"] for text in all_texts]"
   ]
  },
  {
   "cell_type": "markdown",
   "metadata": {},
   "source": [
    "## Part Two:  searching within lists and dictionaries\n",
    "In this part, we will be searching through each text and printing out a desired result. The searches, including loops and printing should all be defined in the function. The second cell should just have to function call that executes the function. I have written an example function and call for the first search. For each function that you write you should copy the original function and modify it so what does what I ask for.\n",
    "\n",
    "For the first five functions, there are no parameters passed to the functions--the calls will just execute the function. Go step-by-step and take your time."
   ]
  },
  {
   "cell_type": "code",
   "execution_count": 11,
   "metadata": {
    "collapsed": true
   },
   "outputs": [],
   "source": [
    "def get_lengths():\n",
    "    for text in all_texts:\n",
    "        print(text['title'])\n",
    "        print(len(text['alltext']))\n",
    "        print(\"------------\")"
   ]
  },
  {
   "cell_type": "code",
   "execution_count": 12,
   "metadata": {},
   "outputs": [
    {
     "name": "stdout",
     "output_type": "stream",
     "text": [
      "Emperor of Ice Cream\n",
      "612\n",
      "------------\n",
      "The Snow Man\n",
      "558\n",
      "------------\n",
      "Of Mere Being\n",
      "427\n",
      "------------\n",
      "Nomad Exquisite\n",
      "390\n",
      "------------\n",
      "Anecdote of the Jar\n",
      "379\n",
      "------------\n"
     ]
    }
   ],
   "source": [
    "get_lengths()"
   ]
  },
  {
   "cell_type": "markdown",
   "metadata": {},
   "source": [
    "Question 1\n",
    "Now write a function that gets the **line count for each poem** (or sentence count for each piece of prose). This function is going to be very similar to the last one. Instead of accessing the whole text via text['alltext'] which is a string, you need to access the list of lines/sentences and get the length of that list. Everything else should be the same."
   ]
  },
  {
   "cell_type": "code",
   "execution_count": 13,
   "metadata": {
    "collapsed": true
   },
   "outputs": [],
   "source": [
    "#Write your function here, name it get_line_count()\n",
    "def get_line_count():\n",
    "    for text in all_texts:\n",
    "        print (text['title'])\n",
    "        print (len(text['lines']))\n",
    "        print ('------------')"
   ]
  },
  {
   "cell_type": "code",
   "execution_count": 14,
   "metadata": {},
   "outputs": [
    {
     "name": "stdout",
     "output_type": "stream",
     "text": [
      "Emperor of Ice Cream\n",
      "17\n",
      "------------\n",
      "The Snow Man\n",
      "19\n",
      "------------\n",
      "Of Mere Being\n",
      "15\n",
      "------------\n",
      "Nomad Exquisite\n",
      "16\n",
      "------------\n",
      "Anecdote of the Jar\n",
      "14\n",
      "------------\n"
     ]
    }
   ],
   "source": [
    "get_line_count()"
   ]
  },
  {
   "cell_type": "markdown",
   "metadata": {},
   "source": [
    "Question 2\n",
    "Now write a function that prints out a **random line or sentence from each text**. Again, this function will look much the same as the last ones, but instead of getting numbers you need to get actual lines. I have included the necessary import and an example of how to get random integers. Basically, for each text you need to get one element from the list of lines/ sentences with a random number between 0 and the length of the list."
   ]
  },
  {
   "cell_type": "code",
   "execution_count": 15,
   "metadata": {
    "collapsed": true
   },
   "outputs": [],
   "source": [
    "from random import randint"
   ]
  },
  {
   "cell_type": "code",
   "execution_count": 16,
   "metadata": {
    "collapsed": true
   },
   "outputs": [],
   "source": [
    "#Write your function here name it show_random_lines()\n",
    "def show_random_lines():\n",
    "    for text in all_texts:\n",
    "\n",
    "        #This should be inside the inner loop \n",
    "        #so you get a fresh random number for each text\n",
    "        #And it should not be from 0 to 9, but 0 to what?\n",
    "        random_num = randint(0, len(text['lines']) - 1)\n",
    "        print (text['title'])\n",
    "        print (text['lines'][random_num])\n",
    "        print ('--------------')"
   ]
  },
  {
   "cell_type": "code",
   "execution_count": 17,
   "metadata": {},
   "outputs": [
    {
     "name": "stdout",
     "output_type": "stream",
     "text": [
      "Emperor of Ice Cream\n",
      "Take from the dresser of deal, \n",
      "--------------\n",
      "The Snow Man\n",
      "Of the pine-trees crusted with snow; \n",
      "--------------\n",
      "Of Mere Being\n",
      "The bird sings. Its feathers shine.\n",
      "--------------\n",
      "Nomad Exquisite\n",
      "As the immense dew of Florida \n",
      "--------------\n",
      "Anecdote of the Jar\n",
      "It did not give of bird or bush, \n",
      "--------------\n"
     ]
    }
   ],
   "source": [
    "show_random_lines()"
   ]
  },
  {
   "cell_type": "markdown",
   "metadata": {},
   "source": [
    "Question 3\n",
    "This is a little bit different--instead of printing out something from each text, I want you to **print the entire text of the longest text**. Remember in the first function, I printed out the length of each text. Well, you need to test for the longest text as you look through and when you're done looping through print out the one that is longest.\n",
    "\n",
    "**Major hints!**: To do this you will need a counter variable (count = 0) set before the loop runs, and you will also need a text variable (longest_text = '') that you set before the loop. When you loop through you need to test if each text was longer than the last one, and if it is longer--you update count and longest_text to reflect the highest count, and the actual text. When the loop is over you then print out that longest_text string."
   ]
  },
  {
   "cell_type": "code",
   "execution_count": 18,
   "metadata": {
    "collapsed": true
   },
   "outputs": [],
   "source": [
    "#Write your function here, name it longest_text()\n",
    "def longest_text():    \n",
    "    lengths = [len(text['alltext']) for text in all_texts]\n",
    "    longest_i = lengths.index(max(lengths))\n",
    "    print (all_texts[longest_i]['alltext'])"
   ]
  },
  {
   "cell_type": "code",
   "execution_count": 19,
   "metadata": {},
   "outputs": [
    {
     "name": "stdout",
     "output_type": "stream",
     "text": [
      "\n",
      "Call the roller of big cigars, \n",
      "The muscular one, and bid him whip \n",
      "In kitchen cups concupiscent curds. \n",
      "Let the wenches dawdle in such dress \n",
      "As they are used to wear, and let the boys \n",
      "Bring flowers in last month's newspapers. \n",
      "Let be be finale of seem. \n",
      "The only emperor is the emperor of ice-cream. \n",
      "\n",
      "Take from the dresser of deal, \n",
      "Lacking the three glass knobs, that sheet \n",
      "On which she embroidered fantails once \n",
      "And spread it so as to cover her face. \n",
      "If her horny feet protrude, they come \n",
      "To show how cold she is, and dumb. \n",
      "Let the lamp affix its beam. \n",
      "The only emperor is the emperor of ice-cream.\n",
      "\n"
     ]
    }
   ],
   "source": [
    "longest_text()"
   ]
  },
  {
   "cell_type": "markdown",
   "metadata": {},
   "source": [
    "Question 4\n",
    "This is kind of a combination of the first two functions--write a function that gets the **average line/sentence length for each text**."
   ]
  },
  {
   "cell_type": "code",
   "execution_count": 20,
   "metadata": {
    "collapsed": true
   },
   "outputs": [],
   "source": [
    "#Write your function here\n",
    "def average_line_length():\n",
    "    for text in all_texts:\n",
    "        line_lengths = [len(line) for line in text['lines']]\n",
    "        print (text['title'])\n",
    "        print (sum(line_lengths) / len(line_lengths))\n",
    "        print ('-----------')"
   ]
  },
  {
   "cell_type": "code",
   "execution_count": 21,
   "metadata": {},
   "outputs": [
    {
     "name": "stdout",
     "output_type": "stream",
     "text": [
      "Emperor of Ice Cream\n",
      "34.94117647058823\n",
      "-----------\n",
      "The Snow Man\n",
      "28.31578947368421\n",
      "-----------\n",
      "Of Mere Being\n",
      "27.4\n",
      "-----------\n",
      "Nomad Exquisite\n",
      "23.3125\n",
      "-----------\n",
      "Anecdote of the Jar\n",
      "26.0\n",
      "-----------\n"
     ]
    }
   ],
   "source": [
    "average_line_length()"
   ]
  },
  {
   "cell_type": "markdown",
   "metadata": {},
   "source": [
    "Question 5\n",
    "**Print the longest line/sentence in each text**. \n",
    "This is similar to question 3--but your counter, and your string variable need to be placed right before the inside loop--and then you print the lines each time the inside loop ends."
   ]
  },
  {
   "cell_type": "code",
   "execution_count": 22,
   "metadata": {
    "collapsed": true
   },
   "outputs": [],
   "source": [
    "#Write your function here\n",
    "def longest_line_in_each():\n",
    "    for text in all_texts:\n",
    "        line_lengths = [len(line) for line in text['lines']]\n",
    "        longest_i = line_lengths.index(max(line_lengths))\n",
    "        print (text['title'])\n",
    "        print (text['lines'][longest_i])\n",
    "        print ('-----------')"
   ]
  },
  {
   "cell_type": "code",
   "execution_count": 23,
   "metadata": {},
   "outputs": [
    {
     "name": "stdout",
     "output_type": "stream",
     "text": [
      "Emperor of Ice Cream\n",
      "The only emperor is the emperor of ice-cream. \n",
      "-----------\n",
      "The Snow Man\n",
      "Nothing that is not there and the nothing that is.\n",
      "-----------\n",
      "Of Mere Being\n",
      "The bird's fire-fangled feathers dangle down.\n",
      "-----------\n",
      "Nomad Exquisite\n",
      "Meet for the eye of the young alligator,\n",
      "-----------\n",
      "Anecdote of the Jar\n",
      "And sprawled around, no longer wild. \n",
      "-----------\n"
     ]
    }
   ],
   "source": [
    "longest_line_in_each()"
   ]
  },
  {
   "cell_type": "markdown",
   "metadata": {},
   "source": [
    "Question 6\n",
    "**Print the shortest single line/sentence out of all of the texts that is greater than zero**\n",
    "This is the tricky-ish: You need to place a counter and empty string outside the loop (like question 4, but the loop through all of the lines, test for the shortest one (greater than 0)."
   ]
  },
  {
   "cell_type": "code",
   "execution_count": 24,
   "metadata": {
    "collapsed": true
   },
   "outputs": [],
   "source": [
    "#Write your function here\n",
    "#I had to erase two whitespaces in poem n.3 to make this code work\n",
    "def shortest_of_all_lines():\n",
    "    shortest_lines = []\n",
    "    for text in all_texts:\n",
    "        line_lengths = [len(line) for line in text['lines']]\n",
    "        shortest_line_length = min(line_length for line_length in line_lengths if line_length > 0)\n",
    "        shortest_lines.append(text['lines'][line_lengths.index(shortest_line_length)])\n",
    "    print (min(shortest_lines))"
   ]
  },
  {
   "cell_type": "code",
   "execution_count": 25,
   "metadata": {},
   "outputs": [
    {
     "name": "stdout",
     "output_type": "stream",
     "text": [
      "Brings forth\n"
     ]
    }
   ],
   "source": [
    "shortest_of_all_lines()"
   ]
  },
  {
   "cell_type": "markdown",
   "metadata": {},
   "source": [
    "## searching with regular expressions\n",
    "In the functions below you will search all the texts using regular expressions. The first few of these functions should not be too challenging--you just need to adjust the regular expression inside the function. At points it gets a little more complex as you have to control the looping through the lists and dictionaries."
   ]
  },
  {
   "cell_type": "code",
   "execution_count": 26,
   "metadata": {
    "collapsed": true
   },
   "outputs": [],
   "source": [
    "#This prints out all the lines in all poems containing the passed word\n",
    "def get_this_word(word):\n",
    "    my_regex = r\"\\b\" + word + r\"\\b\"\n",
    "    for text in all_texts:\n",
    "        result = [line for line in text['lines'] if re.search(my_regex, line, re.IGNORECASE)]\n",
    "        if len(result) > 0:\n",
    "            print(text['title'])\n",
    "            [print(line) for line in result]\n",
    "            print(\"------------\")\n",
    "            "
   ]
  },
  {
   "cell_type": "code",
   "execution_count": 27,
   "metadata": {},
   "outputs": [
    {
     "name": "stdout",
     "output_type": "stream",
     "text": [
      "Emperor of Ice Cream\n",
      "Call the roller of big cigars, \n",
      "The muscular one, and bid him whip \n",
      "Let the wenches dawdle in such dress \n",
      "As they are used to wear, and let the boys \n",
      "The only emperor is the emperor of ice-cream. \n",
      "Take from the dresser of deal, \n",
      "Lacking the three glass knobs, that sheet \n",
      "Let the lamp affix its beam. \n",
      "The only emperor is the emperor of ice-cream.\n",
      "------------\n",
      "The Snow Man\n",
      "To regard the frost and the boughs \n",
      "Of the pine-trees crusted with snow; \n",
      "To behold the junipers shagged with ice, \n",
      "The spruces rough in the distant glitter \n",
      "Of the January sun; and not to think \n",
      "Of any misery in the sound of the wind, \n",
      "In the sound of a few leaves, \n",
      "Which is the sound of the land \n",
      "Full of the same wind \n",
      "That is blowing in the same bare place \n",
      "For the listener, who listens in the snow, \n",
      "Nothing that is not there and the nothing that is.\n",
      "------------\n",
      "Of Mere Being\n",
      "The palm at the end of the mind,\n",
      "Beyond the last thought, rises\n",
      "In the bronze decor,\n",
      "Sings in the palm, without human meaning,\n",
      "You know then that it is not the reason \n",
      "The bird sings. Its feathers shine.\n",
      "The palm stands on the edge of space. \n",
      "The wind moves slowly in the branches. \n",
      "The bird's fire-fangled feathers dangle down.\n",
      "------------\n",
      "Nomad Exquisite\n",
      "As the immense dew of Florida \n",
      "The big-finned palm\n",
      "As the immense dew of Florida\n",
      "From the beholder,\n",
      "Meet for the eye of the young alligator,\n",
      "Forms, flames, and the flakes of flames.\n",
      "------------\n",
      "Anecdote of the Jar\n",
      "It made the slovenly wilderness \n",
      "The wilderness rose up to it, \n",
      "The jar was round upon the ground \n",
      "The jar was gray and bare. \n",
      "------------\n"
     ]
    }
   ],
   "source": [
    "get_this_word('the')"
   ]
  },
  {
   "cell_type": "markdown",
   "metadata": {},
   "source": [
    "Question 7\n",
    "Print out the lines that start with the word entered.  You just need to adjust the regular expression here."
   ]
  },
  {
   "cell_type": "code",
   "execution_count": 28,
   "metadata": {
    "collapsed": true
   },
   "outputs": [],
   "source": [
    "#Write your function here\n",
    "def line_starts_with(word):\n",
    "    my_regex = r\"^\" + word + r\"\\b\"\n",
    "    for text in all_texts:\n",
    "        result = [line for line in text['lines'] if re.search(my_regex, line, re.IGNORECASE)]\n",
    "        if len(result) > 0:\n",
    "            print (text['title'])\n",
    "            [print(line) for line in result]\n",
    "            print ('--------------')"
   ]
  },
  {
   "cell_type": "code",
   "execution_count": 29,
   "metadata": {},
   "outputs": [
    {
     "name": "stdout",
     "output_type": "stream",
     "text": [
      "Emperor of Ice Cream\n",
      "The muscular one, and bid him whip \n",
      "The only emperor is the emperor of ice-cream. \n",
      "The only emperor is the emperor of ice-cream.\n",
      "--------------\n",
      "The Snow Man\n",
      "The spruces rough in the distant glitter \n",
      "--------------\n",
      "Of Mere Being\n",
      "The palm at the end of the mind,\n",
      "The bird sings. Its feathers shine.\n",
      "The palm stands on the edge of space. \n",
      "The wind moves slowly in the branches. \n",
      "The bird's fire-fangled feathers dangle down.\n",
      "--------------\n",
      "Nomad Exquisite\n",
      "The big-finned palm\n",
      "--------------\n",
      "Anecdote of the Jar\n",
      "The wilderness rose up to it, \n",
      "The jar was round upon the ground \n",
      "The jar was gray and bare. \n",
      "--------------\n"
     ]
    }
   ],
   "source": [
    "line_starts_with('the')"
   ]
  },
  {
   "cell_type": "markdown",
   "metadata": {},
   "source": [
    "Question 8\n",
    "Print out the lines that end with the word entered.  You just need to adjust the regular expression here."
   ]
  },
  {
   "cell_type": "code",
   "execution_count": 30,
   "metadata": {
    "collapsed": true
   },
   "outputs": [],
   "source": [
    "#Write your function here\n",
    "def line_ends_with(word):\n",
    "    my_regex = r\"\\b\" + word + r\".$\"\n",
    "    for text in all_texts:\n",
    "        result = [line for line in text['lines'] if re.search(my_regex, line, re.IGNORECASE)]\n",
    "        if len(result) > 0:\n",
    "            print (text['title'])\n",
    "            [print(line) for line in result]\n",
    "            print ('--------------')"
   ]
  },
  {
   "cell_type": "code",
   "execution_count": 31,
   "metadata": {},
   "outputs": [
    {
     "name": "stdout",
     "output_type": "stream",
     "text": [
      "The Snow Man\n",
      "Which is the sound of the land \n",
      "--------------\n"
     ]
    }
   ],
   "source": [
    "line_ends_with('land')"
   ]
  },
  {
   "cell_type": "markdown",
   "metadata": {},
   "source": [
    "Question 9\n",
    "Print out **how many times the word was found in each text.** In this case, instead of the list comprehension, you want to run a re.findall() on the string of the text (not the list) and then count the number of elements in the list of results.\n",
    "\n",
    "Hint: use the original function at the beginning of this section, and make the proper adjustments to the variable \"result\""
   ]
  },
  {
   "cell_type": "code",
   "execution_count": 32,
   "metadata": {
    "collapsed": true
   },
   "outputs": [],
   "source": [
    "def how_many_times(word):\n",
    "    my_regex = r\"\\b\" + word + r\"\\b\"\n",
    "    for text in all_texts:\n",
    "        result = re.findall(my_regex, text['alltext'])\n",
    "        print (text['title'])\n",
    "        print (len(result))\n",
    "        print (\"------------\")"
   ]
  },
  {
   "cell_type": "code",
   "execution_count": 33,
   "metadata": {},
   "outputs": [
    {
     "name": "stdout",
     "output_type": "stream",
     "text": [
      "Emperor of Ice Cream\n",
      "8\n",
      "------------\n",
      "The Snow Man\n",
      "16\n",
      "------------\n",
      "Of Mere Being\n",
      "8\n",
      "------------\n",
      "Nomad Exquisite\n",
      "6\n",
      "------------\n",
      "Anecdote of the Jar\n",
      "2\n",
      "------------\n"
     ]
    }
   ],
   "source": [
    "how_many_times('the')"
   ]
  },
  {
   "cell_type": "markdown",
   "metadata": {},
   "source": [
    "Question 10\n",
    "Print out **the text that has the highest occurrence of the word** you searched for. This is similar to the last function, but here you need the counter and a mostfreqtext variable better placed outside the loop that you run comparisons on. (See Question 3)\n"
   ]
  },
  {
   "cell_type": "code",
   "execution_count": 34,
   "metadata": {
    "collapsed": true
   },
   "outputs": [],
   "source": [
    "#Write your function here\n",
    "def text_with_most_occurance_of(word):\n",
    "    my_regex = r\"\\b\" + word + r\"\\b\"\n",
    "    occurances = []\n",
    "    for text in all_texts:\n",
    "        result = re.findall(my_regex, text['alltext'])\n",
    "        occurances.append(result)\n",
    "    print ( all_texts[occurances.index(max(occurances))]['title'] )"
   ]
  },
  {
   "cell_type": "code",
   "execution_count": 35,
   "metadata": {},
   "outputs": [
    {
     "name": "stdout",
     "output_type": "stream",
     "text": [
      "The Snow Man\n"
     ]
    }
   ],
   "source": [
    "text_with_most_occurance_of('the')"
   ]
  },
  {
   "cell_type": "markdown",
   "metadata": {},
   "source": [
    "Question 11\n",
    "Print out **lines containing words of the length asked**. We are sort of back to basics here, you just need to modify the regular expression of the first function (get_this_word(word)) so that it can take a number parameter for the late characters in a word."
   ]
  },
  {
   "cell_type": "code",
   "execution_count": 36,
   "metadata": {
    "collapsed": true
   },
   "outputs": [],
   "source": [
    "#Write your function here\n",
    "def lines_with_words_this_length(length):\n",
    "    my_regex = r\"\\b\\w{\" + length + r\"}\\b\"\n",
    "    for text in all_texts:\n",
    "        result = [line for line in text['lines'] if re.search(my_regex, line, re.IGNORECASE)]\n",
    "        if len(result) > 0:\n",
    "            print(text['title'])\n",
    "            [print(line) for line in result]\n",
    "            print(\"------------\")"
   ]
  },
  {
   "cell_type": "code",
   "execution_count": 37,
   "metadata": {},
   "outputs": [
    {
     "name": "stdout",
     "output_type": "stream",
     "text": [
      "Emperor of Ice Cream\n",
      "Bring flowers in last month's newspapers. \n",
      "------------\n",
      "Anecdote of the Jar\n",
      "It made the slovenly wilderness \n",
      "The wilderness rose up to it, \n",
      "It took dominion everywhere. \n",
      "------------\n"
     ]
    }
   ],
   "source": [
    "lines_with_words_this_length('10')"
   ]
  },
  {
   "cell_type": "markdown",
   "metadata": {
    "collapsed": true
   },
   "source": [
    "**Final question:** in this cell, describe two functions that you would like to write, not ones that you're able to write, but ones you think would be useful or interesting or fun."
   ]
  },
  {
   "cell_type": "code",
   "execution_count": 54,
   "metadata": {
    "collapsed": true
   },
   "outputs": [],
   "source": [
    "#I wrote some stuff, just for fun"
   ]
  },
  {
   "cell_type": "markdown",
   "metadata": {},
   "source": [
    "## 1 Check a poem rhymes (come up with a \"ryhme-score\" between 0 and 100)"
   ]
  },
  {
   "cell_type": "code",
   "execution_count": 38,
   "metadata": {
    "collapsed": true
   },
   "outputs": [],
   "source": [
    "# - check how many syllables are in a line and see if it's the same number with the next line\n",
    "# - ...could add other conditions if we want to make it more complicated\n",
    "# - summarize the comparisons over all the lines in a poem"
   ]
  },
  {
   "cell_type": "code",
   "execution_count": 39,
   "metadata": {
    "collapsed": true
   },
   "outputs": [],
   "source": [
    "#This is a function to compare the syllables in two lines\n",
    "def rhyme_score(l1, l2, debug=False):\n",
    "    \n",
    "    if debug:\n",
    "        print ('-------------')\n",
    "    \n",
    "    #fenction to get a list of possible number of syllables for a line\n",
    "    def possible_syllables(l, debug=False):\n",
    "    \n",
    "        #find number of vowels in the line, including vowels next to each other\n",
    "        l_vowels = re.findall(r\"[aeiouy]+\", l, re.IGNORECASE)\n",
    "\n",
    "        #e's at the end of a two-syllable word  dont count - these results get substracted later\n",
    "        l_es_at_end = re.findall(r\"\\b\\w*[aeiouy]+\\w*e\\b\", l, re.IGNORECASE)\n",
    "\n",
    "        #subtract the e-at-end-instances from the no of vowels\n",
    "        l_corr_e = len(l_vowels) - len(l_es_at_end)\n",
    "\n",
    "        #We have a problem with words like \"moves\" and \"bushes\" - sometimes 1, sometimes 2 syllables\n",
    "        #also: \"smacked\" is 1 syllable, \"wicked\" is 2\n",
    "        l_ambiguous = re.findall(r\"\\b\\w*[aeiouy]+\\w*e[sd]\\b\", l, re.IGNORECASE)\n",
    "\n",
    "        #allow for some ambiguity\n",
    "        l_possible_syllables = list(range(l_corr_e - len(l_ambiguous), l_corr_e + 1))\n",
    "\n",
    "        if debug:\n",
    "            print (l)\n",
    "            print (\"Vowels:\", len(l_vowels), l_vowels)\n",
    "            print (\"E's at end:\", len(l_es_at_end), l_es_at_end)\n",
    "            print (\"Ambiguities:\", len(l_ambiguous), l_ambiguous)\n",
    "            print (\"Number of Syllables:\", l_possible_syllables)\n",
    "        \n",
    "        return l_possible_syllables\n",
    "            \n",
    "    #Apply the function to both lines\n",
    "    l1_possible_syllables = possible_syllables(l1, debug)\n",
    "    l2_possible_syllables = possible_syllables(l2, debug)\n",
    "    \n",
    "    #give 1 point if no of syllables is identical (allowing for ambiguities)\n",
    "    if any(syll in l1_possible_syllables for syll in l2_possible_syllables):\n",
    "        score = 1\n",
    "    else:\n",
    "        score = 0\n",
    "    return score\n",
    "    "
   ]
  },
  {
   "cell_type": "code",
   "execution_count": 40,
   "metadata": {},
   "outputs": [
    {
     "name": "stdout",
     "output_type": "stream",
     "text": [
      "-------------\n",
      "The wilderness rose up to it\n",
      "Vowels: 9 ['e', 'i', 'e', 'e', 'o', 'e', 'u', 'o', 'i']\n",
      "E's at end: 1 ['rose']\n",
      "Ambiguities: 0 []\n",
      "Number of Syllables: [8]\n",
      "And sprawled around, no longer wild\n",
      "Vowels: 9 ['A', 'a', 'e', 'a', 'ou', 'o', 'o', 'e', 'i']\n",
      "E's at end: 0 []\n",
      "Ambiguities: 1 ['sprawled']\n",
      "Number of Syllables: [8, 9]\n"
     ]
    },
    {
     "data": {
      "text/plain": [
       "1"
      ]
     },
     "execution_count": 40,
     "metadata": {},
     "output_type": "execute_result"
    }
   ],
   "source": [
    "#Test this function\n",
    "rhyme_score(\"The wilderness rose up to it\", \"And sprawled around, no longer wild\", debug=True)"
   ]
  },
  {
   "cell_type": "code",
   "execution_count": 41,
   "metadata": {
    "collapsed": true
   },
   "outputs": [],
   "source": [
    "#This is a function to sum up the line-line comparisons over the whole poem\n",
    "#It makes use of the function ryhme_score()\n",
    "#set debug=True to display detail results of the algorithm\n",
    "def rhyme_score_all(debug=False):\n",
    "    \n",
    "    #go through all the texts\n",
    "    for text in all_texts:\n",
    "        print (text['title'])\n",
    "        \n",
    "        #go through all the pairs of lines within a text (in steps of two lines!)\n",
    "        line_scores = []\n",
    "        i = 0\n",
    "        while True:\n",
    "            try:\n",
    "                line1 = text['lines'][i]\n",
    "                line2 = text['lines'][i+1]\n",
    "                if (line1 != \"\") & (line2 != \"\"):\n",
    "                    #get a rhyme_score for each line\n",
    "                    line_score = rhyme_score(line1, line2, debug)\n",
    "                    if debug:\n",
    "                        print ('................')\n",
    "                        print (line1, \"|\", line2, \"|\", line_score)\n",
    "                    line_scores.append(line_score)\n",
    "                    i += 2\n",
    "                else:\n",
    "                    i += 1\n",
    "            except:\n",
    "                break\n",
    "            \n",
    "        #for i in range(0, len(text['lines']) - 2, 2):\n",
    "            #line1 = text['lines'][i]\n",
    "            #line2 = text['lines'][i+1]\n",
    "            \n",
    "            \n",
    "        \n",
    "        #calculate the total score\n",
    "        total_score = sum(line_scores) / len(line_scores) * 100\n",
    "        print (\"Ryhme Score:\", round(total_score), \"percent.\")\n",
    "        print ('------------')"
   ]
  },
  {
   "cell_type": "code",
   "execution_count": 42,
   "metadata": {},
   "outputs": [
    {
     "name": "stdout",
     "output_type": "stream",
     "text": [
      "Emperor of Ice Cream\n",
      "Ryhme Score: 25 percent.\n",
      "------------\n",
      "The Snow Man\n",
      "Ryhme Score: 20 percent.\n",
      "------------\n",
      "Of Mere Being\n",
      "Ryhme Score: 50 percent.\n",
      "------------\n",
      "Nomad Exquisite\n",
      "Ryhme Score: 0 percent.\n",
      "------------\n",
      "Anecdote of the Jar\n",
      "Ryhme Score: 50 percent.\n",
      "------------\n"
     ]
    }
   ],
   "source": [
    "rhyme_score_all()"
   ]
  },
  {
   "cell_type": "code",
   "execution_count": 43,
   "metadata": {},
   "outputs": [
    {
     "name": "stdout",
     "output_type": "stream",
     "text": [
      "Emperor of Ice Cream\n",
      "-------------\n",
      "Call the roller of big cigars, \n",
      "Vowels: 8 ['a', 'e', 'o', 'e', 'o', 'i', 'i', 'a']\n",
      "E's at end: 0 []\n",
      "Ambiguities: 0 []\n",
      "Number of Syllables: [8]\n",
      "The muscular one, and bid him whip \n",
      "Vowels: 10 ['e', 'u', 'u', 'a', 'o', 'e', 'a', 'i', 'i', 'i']\n",
      "E's at end: 1 ['one']\n",
      "Ambiguities: 0 []\n",
      "Number of Syllables: [9]\n",
      "................\n",
      "Call the roller of big cigars,  | The muscular one, and bid him whip  | 0\n",
      "-------------\n",
      "In kitchen cups concupiscent curds. \n",
      "Vowels: 9 ['I', 'i', 'e', 'u', 'o', 'u', 'i', 'e', 'u']\n",
      "E's at end: 0 []\n",
      "Ambiguities: 0 []\n",
      "Number of Syllables: [9]\n",
      "Let the wenches dawdle in such dress \n",
      "Vowels: 9 ['e', 'e', 'e', 'e', 'a', 'e', 'i', 'u', 'e']\n",
      "E's at end: 1 ['dawdle']\n",
      "Ambiguities: 1 ['wenches']\n",
      "Number of Syllables: [7, 8]\n",
      "................\n",
      "In kitchen cups concupiscent curds.  | Let the wenches dawdle in such dress  | 0\n",
      "-------------\n",
      "As they are used to wear, and let the boys \n",
      "Vowels: 12 ['A', 'ey', 'a', 'e', 'u', 'e', 'o', 'ea', 'a', 'e', 'e', 'oy']\n",
      "E's at end: 1 ['are']\n",
      "Ambiguities: 1 ['used']\n",
      "Number of Syllables: [10, 11]\n",
      "Bring flowers in last month's newspapers. \n",
      "Vowels: 9 ['i', 'o', 'e', 'i', 'a', 'o', 'e', 'a', 'e']\n",
      "E's at end: 0 []\n",
      "Ambiguities: 0 []\n",
      "Number of Syllables: [9]\n",
      "................\n",
      "As they are used to wear, and let the boys  | Bring flowers in last month's newspapers.  | 0\n",
      "-------------\n",
      "Let be be finale of seem. \n",
      "Vowels: 8 ['e', 'e', 'e', 'i', 'a', 'e', 'o', 'ee']\n",
      "E's at end: 1 ['finale']\n",
      "Ambiguities: 0 []\n",
      "Number of Syllables: [7]\n",
      "The only emperor is the emperor of ice-cream. \n",
      "Vowels: 15 ['e', 'o', 'y', 'e', 'e', 'o', 'i', 'e', 'e', 'e', 'o', 'o', 'i', 'e', 'ea']\n",
      "E's at end: 1 ['ice']\n",
      "Ambiguities: 0 []\n",
      "Number of Syllables: [14]\n",
      "................\n",
      "Let be be finale of seem.  | The only emperor is the emperor of ice-cream.  | 0\n",
      "-------------\n",
      "Take from the dresser of deal, \n",
      "Vowels: 8 ['a', 'e', 'o', 'e', 'e', 'e', 'o', 'ea']\n",
      "E's at end: 1 ['Take']\n",
      "Ambiguities: 0 []\n",
      "Number of Syllables: [7]\n",
      "Lacking the three glass knobs, that sheet \n",
      "Vowels: 8 ['a', 'i', 'e', 'ee', 'a', 'o', 'a', 'ee']\n",
      "E's at end: 1 ['three']\n",
      "Ambiguities: 0 []\n",
      "Number of Syllables: [7]\n",
      "................\n",
      "Take from the dresser of deal,  | Lacking the three glass knobs, that sheet  | 1\n",
      "-------------\n",
      "On which she embroidered fantails once \n",
      "Vowels: 11 ['O', 'i', 'e', 'e', 'oi', 'e', 'e', 'a', 'ai', 'o', 'e']\n",
      "E's at end: 1 ['once']\n",
      "Ambiguities: 1 ['embroidered']\n",
      "Number of Syllables: [9, 10]\n",
      "And spread it so as to cover her face. \n",
      "Vowels: 11 ['A', 'ea', 'i', 'o', 'a', 'o', 'o', 'e', 'e', 'a', 'e']\n",
      "E's at end: 1 ['face']\n",
      "Ambiguities: 0 []\n",
      "Number of Syllables: [10]\n",
      "................\n",
      "On which she embroidered fantails once  | And spread it so as to cover her face.  | 1\n",
      "-------------\n",
      "If her horny feet protrude, they come \n",
      "Vowels: 11 ['I', 'e', 'o', 'y', 'ee', 'o', 'u', 'e', 'ey', 'o', 'e']\n",
      "E's at end: 2 ['protrude', 'come']\n",
      "Ambiguities: 0 []\n",
      "Number of Syllables: [9]\n",
      "To show how cold she is, and dumb. \n",
      "Vowels: 8 ['o', 'o', 'o', 'o', 'e', 'i', 'a', 'u']\n",
      "E's at end: 0 []\n",
      "Ambiguities: 0 []\n",
      "Number of Syllables: [8]\n",
      "................\n",
      "If her horny feet protrude, they come  | To show how cold she is, and dumb.  | 0\n",
      "-------------\n",
      "Let the lamp affix its beam. \n",
      "Vowels: 7 ['e', 'e', 'a', 'a', 'i', 'i', 'ea']\n",
      "E's at end: 0 []\n",
      "Ambiguities: 0 []\n",
      "Number of Syllables: [7]\n",
      "The only emperor is the emperor of ice-cream.\n",
      "Vowels: 15 ['e', 'o', 'y', 'e', 'e', 'o', 'i', 'e', 'e', 'e', 'o', 'o', 'i', 'e', 'ea']\n",
      "E's at end: 1 ['ice']\n",
      "Ambiguities: 0 []\n",
      "Number of Syllables: [14]\n",
      "................\n",
      "Let the lamp affix its beam.  | The only emperor is the emperor of ice-cream. | 0\n",
      "Ryhme Score: 25 percent.\n",
      "------------\n",
      "The Snow Man\n",
      "-------------\n",
      "One must have a mind of winter \n",
      "Vowels: 10 ['O', 'e', 'u', 'a', 'e', 'a', 'i', 'o', 'i', 'e']\n",
      "E's at end: 2 ['One', 'have']\n",
      "Ambiguities: 0 []\n",
      "Number of Syllables: [8]\n",
      "To regard the frost and the boughs \n",
      "Vowels: 8 ['o', 'e', 'a', 'e', 'o', 'a', 'e', 'ou']\n",
      "E's at end: 0 []\n",
      "Ambiguities: 0 []\n",
      "Number of Syllables: [8]\n",
      "................\n",
      "One must have a mind of winter  | To regard the frost and the boughs  | 1\n",
      "-------------\n",
      "And have been cold a long time \n",
      "Vowels: 9 ['A', 'a', 'e', 'ee', 'o', 'a', 'o', 'i', 'e']\n",
      "E's at end: 2 ['have', 'time']\n",
      "Ambiguities: 0 []\n",
      "Number of Syllables: [7]\n",
      "To behold the junipers shagged with ice, \n",
      "Vowels: 12 ['o', 'e', 'o', 'e', 'u', 'i', 'e', 'a', 'e', 'i', 'i', 'e']\n",
      "E's at end: 1 ['ice']\n",
      "Ambiguities: 1 ['shagged']\n",
      "Number of Syllables: [10, 11]\n",
      "................\n",
      "And have been cold a long time  | To behold the junipers shagged with ice,  | 0\n",
      "-------------\n",
      "Of the January sun; and not to think \n",
      "Vowels: 10 ['O', 'e', 'a', 'ua', 'y', 'u', 'a', 'o', 'o', 'i']\n",
      "E's at end: 0 []\n",
      "Ambiguities: 0 []\n",
      "Number of Syllables: [10]\n",
      "Of any misery in the sound of the wind, \n",
      "Vowels: 12 ['O', 'a', 'y', 'i', 'e', 'y', 'i', 'e', 'ou', 'o', 'e', 'i']\n",
      "E's at end: 0 []\n",
      "Ambiguities: 0 []\n",
      "Number of Syllables: [12]\n",
      "................\n",
      "Of the January sun; and not to think  | Of any misery in the sound of the wind,  | 0\n",
      "-------------\n",
      "Which is the sound of the land \n",
      "Vowels: 7 ['i', 'i', 'e', 'ou', 'o', 'e', 'a']\n",
      "E's at end: 0 []\n",
      "Ambiguities: 0 []\n",
      "Number of Syllables: [7]\n",
      "Full of the same wind \n",
      "Vowels: 6 ['u', 'o', 'e', 'a', 'e', 'i']\n",
      "E's at end: 1 ['same']\n",
      "Ambiguities: 0 []\n",
      "Number of Syllables: [5]\n",
      "................\n",
      "Which is the sound of the land  | Full of the same wind  | 0\n",
      "-------------\n",
      "For the listener, who listens in the snow, \n",
      "Vowels: 11 ['o', 'e', 'i', 'e', 'e', 'o', 'i', 'e', 'i', 'e', 'o']\n",
      "E's at end: 0 []\n",
      "Ambiguities: 0 []\n",
      "Number of Syllables: [11]\n",
      "And, nothing himself, beholds \n",
      "Vowels: 7 ['A', 'o', 'i', 'i', 'e', 'e', 'o']\n",
      "E's at end: 0 []\n",
      "Ambiguities: 0 []\n",
      "Number of Syllables: [7]\n",
      "................\n",
      "For the listener, who listens in the snow,  | And, nothing himself, beholds  | 0\n",
      "Ryhme Score: 20 percent.\n",
      "------------\n",
      "Of Mere Being\n",
      "-------------\n",
      "The palm at the end of the mind,\n",
      "Vowels: 8 ['e', 'a', 'a', 'e', 'e', 'o', 'e', 'i']\n",
      "E's at end: 0 []\n",
      "Ambiguities: 0 []\n",
      "Number of Syllables: [8]\n",
      "Beyond the last thought, rises\n",
      "Vowels: 6 ['eyo', 'e', 'a', 'ou', 'i', 'e']\n",
      "E's at end: 0 []\n",
      "Ambiguities: 1 ['rises']\n",
      "Number of Syllables: [5, 6]\n",
      "................\n",
      "The palm at the end of the mind, | Beyond the last thought, rises | 0\n",
      "-------------\n",
      "A gold-feathered bird\n",
      "Vowels: 6 ['A', 'o', 'ea', 'e', 'e', 'i']\n",
      "E's at end: 0 []\n",
      "Ambiguities: 1 ['feathered']\n",
      "Number of Syllables: [5, 6]\n",
      "Sings in the palm, without human meaning,\n",
      "Vowels: 10 ['i', 'i', 'e', 'a', 'i', 'ou', 'u', 'a', 'ea', 'i']\n",
      "E's at end: 0 []\n",
      "Ambiguities: 0 []\n",
      "Number of Syllables: [10]\n",
      "................\n",
      "A gold-feathered bird | Sings in the palm, without human meaning, | 0\n",
      "-------------\n",
      "You know then that it is not the reason \n",
      "Vowels: 10 ['You', 'o', 'e', 'a', 'i', 'i', 'o', 'e', 'ea', 'o']\n",
      "E's at end: 0 []\n",
      "Ambiguities: 0 []\n",
      "Number of Syllables: [10]\n",
      "That makes us happy or unhappy. \n",
      "Vowels: 10 ['a', 'a', 'e', 'u', 'a', 'y', 'o', 'u', 'a', 'y']\n",
      "E's at end: 0 []\n",
      "Ambiguities: 1 ['makes']\n",
      "Number of Syllables: [9, 10]\n",
      "................\n",
      "You know then that it is not the reason  | That makes us happy or unhappy.  | 1\n",
      "-------------\n",
      "The palm stands on the edge of space. \n",
      "Vowels: 10 ['e', 'a', 'a', 'o', 'e', 'e', 'e', 'o', 'a', 'e']\n",
      "E's at end: 2 ['edge', 'space']\n",
      "Ambiguities: 0 []\n",
      "Number of Syllables: [8]\n",
      "The wind moves slowly in the branches. \n",
      "Vowels: 10 ['e', 'i', 'o', 'e', 'o', 'y', 'i', 'e', 'a', 'e']\n",
      "E's at end: 0 []\n",
      "Ambiguities: 2 ['moves', 'branches']\n",
      "Number of Syllables: [8, 9, 10]\n",
      "................\n",
      "The palm stands on the edge of space.  | The wind moves slowly in the branches.  | 1\n",
      "Ryhme Score: 50 percent.\n",
      "------------\n",
      "Nomad Exquisite\n",
      "-------------\n",
      "As the immense dew of Florida \n",
      "Vowels: 10 ['A', 'e', 'i', 'e', 'e', 'e', 'o', 'o', 'i', 'a']\n",
      "E's at end: 1 ['immense']\n",
      "Ambiguities: 0 []\n",
      "Number of Syllables: [9]\n",
      "Brings forth\n",
      "Vowels: 2 ['i', 'o']\n",
      "E's at end: 0 []\n",
      "Ambiguities: 0 []\n",
      "Number of Syllables: [2]\n",
      "................\n",
      "As the immense dew of Florida  | Brings forth | 0\n",
      "-------------\n",
      "The big-finned palm\n",
      "Vowels: 5 ['e', 'i', 'i', 'e', 'a']\n",
      "E's at end: 0 []\n",
      "Ambiguities: 1 ['finned']\n",
      "Number of Syllables: [4, 5]\n",
      "And green vine angering for life,\n",
      "Vowels: 10 ['A', 'ee', 'i', 'e', 'a', 'e', 'i', 'o', 'i', 'e']\n",
      "E's at end: 2 ['vine', 'life']\n",
      "Ambiguities: 0 []\n",
      "Number of Syllables: [8]\n",
      "................\n",
      "The big-finned palm | And green vine angering for life, | 0\n",
      "-------------\n",
      "As the immense dew of Florida\n",
      "Vowels: 10 ['A', 'e', 'i', 'e', 'e', 'e', 'o', 'o', 'i', 'a']\n",
      "E's at end: 1 ['immense']\n",
      "Ambiguities: 0 []\n",
      "Number of Syllables: [9]\n",
      "Brings forth hymn and hymn\n",
      "Vowels: 5 ['i', 'o', 'y', 'a', 'y']\n",
      "E's at end: 0 []\n",
      "Ambiguities: 0 []\n",
      "Number of Syllables: [5]\n",
      "................\n",
      "As the immense dew of Florida | Brings forth hymn and hymn | 0\n",
      "-------------\n",
      "From the beholder,\n",
      "Vowels: 5 ['o', 'e', 'e', 'o', 'e']\n",
      "E's at end: 0 []\n",
      "Ambiguities: 0 []\n",
      "Number of Syllables: [5]\n",
      "Beholding all these green sides\n",
      "Vowels: 9 ['e', 'o', 'i', 'a', 'e', 'e', 'ee', 'i', 'e']\n",
      "E's at end: 1 ['these']\n",
      "Ambiguities: 1 ['sides']\n",
      "Number of Syllables: [7, 8]\n",
      "................\n",
      "From the beholder, | Beholding all these green sides | 0\n",
      "-------------\n",
      "And blessed mornings,\n",
      "Vowels: 5 ['A', 'e', 'e', 'o', 'i']\n"
     ]
    },
    {
     "name": "stdout",
     "output_type": "stream",
     "text": [
      "E's at end: 0 []\n",
      "Ambiguities: 1 ['blessed']\n",
      "Number of Syllables: [4, 5]\n",
      "Meet for the eye of the young alligator,\n",
      "Vowels: 11 ['ee', 'o', 'e', 'eye', 'o', 'e', 'you', 'a', 'i', 'a', 'o']\n",
      "E's at end: 1 ['eye']\n",
      "Ambiguities: 0 []\n",
      "Number of Syllables: [10]\n",
      "................\n",
      "And blessed mornings, | Meet for the eye of the young alligator, | 0\n",
      "-------------\n",
      "And lightning colors\n",
      "Vowels: 5 ['A', 'i', 'i', 'o', 'o']\n",
      "E's at end: 0 []\n",
      "Ambiguities: 0 []\n",
      "Number of Syllables: [5]\n",
      "So, in me, come flinging\n",
      "Vowels: 7 ['o', 'i', 'e', 'o', 'e', 'i', 'i']\n",
      "E's at end: 1 ['come']\n",
      "Ambiguities: 0 []\n",
      "Number of Syllables: [6]\n",
      "................\n",
      "And lightning colors | So, in me, come flinging | 0\n",
      "Ryhme Score: 0 percent.\n",
      "------------\n",
      "Anecdote of the Jar\n",
      "-------------\n",
      "I placed a jar in Tennessee, \n",
      "Vowels: 9 ['I', 'a', 'e', 'a', 'a', 'i', 'e', 'e', 'ee']\n",
      "E's at end: 1 ['Tennessee']\n",
      "Ambiguities: 1 ['placed']\n",
      "Number of Syllables: [7, 8]\n",
      "And round it was, upon a hill. \n",
      "Vowels: 8 ['A', 'ou', 'i', 'a', 'u', 'o', 'a', 'i']\n",
      "E's at end: 0 []\n",
      "Ambiguities: 0 []\n",
      "Number of Syllables: [8]\n",
      "................\n",
      "I placed a jar in Tennessee,  | And round it was, upon a hill.  | 1\n",
      "-------------\n",
      "It made the slovenly wilderness \n",
      "Vowels: 10 ['I', 'a', 'e', 'e', 'o', 'e', 'y', 'i', 'e', 'e']\n",
      "E's at end: 1 ['made']\n",
      "Ambiguities: 0 []\n",
      "Number of Syllables: [9]\n",
      "Surround that hill. \n",
      "Vowels: 4 ['u', 'ou', 'a', 'i']\n",
      "E's at end: 0 []\n",
      "Ambiguities: 0 []\n",
      "Number of Syllables: [4]\n",
      "................\n",
      "It made the slovenly wilderness  | Surround that hill.  | 0\n",
      "-------------\n",
      "The wilderness rose up to it, \n",
      "Vowels: 9 ['e', 'i', 'e', 'e', 'o', 'e', 'u', 'o', 'i']\n",
      "E's at end: 1 ['rose']\n",
      "Ambiguities: 0 []\n",
      "Number of Syllables: [8]\n",
      "And sprawled around, no longer wild. \n",
      "Vowels: 9 ['A', 'a', 'e', 'a', 'ou', 'o', 'o', 'e', 'i']\n",
      "E's at end: 0 []\n",
      "Ambiguities: 1 ['sprawled']\n",
      "Number of Syllables: [8, 9]\n",
      "................\n",
      "The wilderness rose up to it,  | And sprawled around, no longer wild.  | 1\n",
      "-------------\n",
      "The jar was round upon the ground \n",
      "Vowels: 8 ['e', 'a', 'a', 'ou', 'u', 'o', 'e', 'ou']\n",
      "E's at end: 0 []\n",
      "Ambiguities: 0 []\n",
      "Number of Syllables: [8]\n",
      "And tall and of a port in air. \n",
      "Vowels: 8 ['A', 'a', 'a', 'o', 'a', 'o', 'i', 'ai']\n",
      "E's at end: 0 []\n",
      "Ambiguities: 0 []\n",
      "Number of Syllables: [8]\n",
      "................\n",
      "The jar was round upon the ground  | And tall and of a port in air.  | 1\n",
      "-------------\n",
      "It took dominion everywhere. \n",
      "Vowels: 10 ['I', 'oo', 'o', 'i', 'io', 'e', 'e', 'y', 'e', 'e']\n",
      "E's at end: 1 ['everywhere']\n",
      "Ambiguities: 0 []\n",
      "Number of Syllables: [9]\n",
      "The jar was gray and bare. \n",
      "Vowels: 7 ['e', 'a', 'a', 'ay', 'a', 'a', 'e']\n",
      "E's at end: 1 ['bare']\n",
      "Ambiguities: 0 []\n",
      "Number of Syllables: [6]\n",
      "................\n",
      "It took dominion everywhere.  | The jar was gray and bare.  | 0\n",
      "-------------\n",
      "It did not give of bird or bush, \n",
      "Vowels: 9 ['I', 'i', 'o', 'i', 'e', 'o', 'i', 'o', 'u']\n",
      "E's at end: 1 ['give']\n",
      "Ambiguities: 0 []\n",
      "Number of Syllables: [8]\n",
      "Like nothing else in Tennessee.\n",
      "Vowels: 10 ['i', 'e', 'o', 'i', 'e', 'e', 'i', 'e', 'e', 'ee']\n",
      "E's at end: 3 ['Like', 'else', 'Tennessee']\n",
      "Ambiguities: 0 []\n",
      "Number of Syllables: [7]\n",
      "................\n",
      "It did not give of bird or bush,  | Like nothing else in Tennessee. | 0\n",
      "Ryhme Score: 50 percent.\n",
      "------------\n"
     ]
    }
   ],
   "source": [
    "rhyme_score_all(debug=True)"
   ]
  },
  {
   "cell_type": "markdown",
   "metadata": {},
   "source": [
    "## 2 How are four-letter-words distributed in rap songs"
   ]
  },
  {
   "cell_type": "code",
   "execution_count": 44,
   "metadata": {
    "collapsed": true
   },
   "outputs": [],
   "source": [
    "import pandas as pd\n",
    "%matplotlib inline"
   ]
  },
  {
   "cell_type": "code",
   "execution_count": 45,
   "metadata": {
    "collapsed": true
   },
   "outputs": [],
   "source": [
    "all_texts = []"
   ]
  },
  {
   "cell_type": "code",
   "execution_count": 46,
   "metadata": {
    "collapsed": true
   },
   "outputs": [],
   "source": [
    "#Try it on Tupac - Live and die in L.A.\n",
    "text5 = '''\n",
    "To live and die in L.A., California\n",
    "What you say about Los Angeles?\n",
    "Still the only place for me\n",
    "It never rains in Southern California\n",
    "\n",
    "To live and die in L.A.\n",
    "Where everyday we try to fatten our pockets\n",
    "Us niggas hustle for the cash, so it's hard to knock it\n",
    "Everybody got they own thing, currency chasin'\n",
    "Worldwide through the hard times, worrying faces\n",
    "Shed tears as we bury niggas close to heart\n",
    "Who was a friend is now a ghost in the dark\n",
    "Cold-hearted 'bout it, nigga got smoked by a fiend\n",
    "Tryin' to floss on him, blind to a broken man's dream\n",
    "A hard lesson, court cases keep me guessin'\n",
    "Plea bargain ain't an option now, so I'm stressin'\n",
    "Cost me more to be free than a life in the pen\n",
    "Makin' money off of cuss words, writin' again\n",
    "Learn how to think ahead, so I fight with my pen\n",
    "Late night down sunset, likin' the scene\n",
    "What's the worst they could do to a nigga?\n",
    "Got me lost in Hell, to live and die in L.A. on bail\n",
    "\n",
    "My angel sing\n",
    "To live and die in L.A., it's the place to be\n",
    "And the angels go\n",
    "You've got to be there to know it\n",
    "When everybody wanna see\n",
    "To live and die in L.A.\n",
    "To live and die in L.A., it's the place to be\n",
    "You've got to be there to know it\n",
    "When everybody wanna see\n",
    "\n",
    "It's the city of angels and constant danger\n",
    "South Central L.A. can't get no stranger\n",
    "Full of drama, like a soap opera, on the curb\n",
    "Watchin' the ghetto bird helicopters, I observe\n",
    "So many niggas gettin' three strikes, tossed in jail\n",
    "I swear, the pen right across from hell\n",
    "I can't cry, ‘cause it's on now\n",
    "I'm just a nigga on his own now\n",
    "Livin' life thug style, so I can't smile\n",
    "Writing to my peoples when they ask for pictures\n",
    "Thinkin' Cali just fun and bitches\n",
    "Better learn about the dress code, B's and C's\n",
    "All them other niggas copycats, these is G's\n",
    "I love Cali like I love women\n",
    "‘Cause every nigga in L.A. got a little bit of thug in him\n",
    "We might fight amongst each other\n",
    "But I promise you this: we'll burn this bitch down\n",
    "Get us pissed, to live and die in L.A\n",
    "\n",
    "My angel sing\n",
    "To live and die in L.A., it's the place to be\n",
    "And the angels go\n",
    "You've got to be there to know it\n",
    "When everybody wanna see\n",
    "To live and die in L.A.\n",
    "To live and die in L.A., it's the place to be\n",
    "You've got to be there to know it\n",
    "When everybody wanna see\n",
    "\n",
    "It wouldn't be L.A. without Mexicans\n",
    "Black love, brown pride, and the sets again\n",
    "Pete Wilson tryin' to see us all broke\n",
    "I'm on some bullshit out for everything they owe\n",
    "Remember K-day? Weekends, Crenshaw, MLK?\n",
    "Automatics rang free, niggas lost they way\n",
    "Gang signs being shown, nigga, love your hood\n",
    "But recognize and it's all good\n",
    "Where the weed at? Niggas gettin' shermed out\n",
    "Snoop Dogg in this mothafucka permed out\n",
    "M.O.B., Big Suge in the Lo-Lo, bounce and turn\n",
    "Dogg Pound in the Lex with a ounce to burn\n",
    "Got them Watts niggas with me, O.F.T.B.\n",
    "They got some hash, took the stash, left the rest for me\n",
    "Neckbone, Tray, Heron, Big Buntry too\n",
    "Big Rock got knocked, but this one's for you\n",
    "I hit the studio and drop a jewel, hopin' it pay\n",
    "Gettin' high, watchin' time fly; to live and die in L.A\n",
    "\n",
    "To live and die in L.A., it's the place to be\n",
    "Let my angel sing\n",
    "You've got to be there to know it\n",
    "When everybody wanna see\n",
    "And my angels go\n",
    "To live and die in L.A., it's the place to be\n",
    "To live and die in L.A.\n",
    "You've got to be there to know it\n",
    "When everybody wanna see\n",
    "Let my angel sing\n",
    "\n",
    "This go out for 92.3, and 106\n",
    "All the radio stations that be bumpin' my shit\n",
    "Makin' my shit sells katruple quitraple platinum\n",
    "(To live and die in L.A., mhmmm)\n",
    "This go out to all the magazines that support a nigga\n",
    "All the real motherfuckers\n",
    "(To live and die in L.A., mhmmm)\n",
    "All the stores, the mom and pop spots\n",
    "A&R people, all y'all mothafuckers\n",
    "(To live and die in L.A., mhmmm)\n",
    "L.A., \"California Love\" part mothafuckin' two\n",
    "Without gay ass Dre\n",
    "(To live and die in L.A., mhmmm)\n",
    "'''\n",
    "transform_it = text_to_dict(\"Live and die in L.A.\",text5,True)\n",
    "all_texts.append(transform_it)"
   ]
  },
  {
   "cell_type": "code",
   "execution_count": 47,
   "metadata": {
    "collapsed": true
   },
   "outputs": [],
   "source": [
    "text6 = '''\n",
    "If you're havin' girl problems, I feel bad for you, son\n",
    "I got 99 problems, but a bitch ain't one\n",
    "\n",
    "I've got the Rap Patrol on the gat patrol\n",
    "Foes that wanna make sure my casket's closed\n",
    "Rap critics that say he's Money, Cash, Hoes\n",
    "I'm from the hood, stupid! What type of facts are those?\n",
    "If you grew up with holes in your zapatos\n",
    "You'd celebrate the minute you was havin' dough\n",
    "I'm like, \"Fuck critics, you can kiss my whole asshole!\n",
    "If you don't like my lyrics, you can press fast forward.\"\n",
    "Got beef with radio if I don't play they show\n",
    "They don't play my hits, well, I don't give a shit, so\n",
    "Rap mags try and use my black ass\n",
    "So advertisers can give 'em more cash for ads\n",
    "Fuckers, I don't know what you take me as\n",
    "Or understand the intelligence that Jay Z has\n",
    "I'm from rags to riches, niggas, I ain't dumb\n",
    "I got 99 problems, but a bitch ain't one – hit me!\n",
    "\n",
    "99 problems, but a bitch ain't one\n",
    "If you're havin' girl problems, I feel bad for you, son\n",
    "I got 99 problems, but a bitch ain't one – hit me!\n",
    "\n",
    "The year is '94, in my trunk is raw\n",
    "In my rearview mirror is the motherfuckin' law\n",
    "Got two choices, y'all: pull over the car or\n",
    "Bounce on the devil, put the pedal to the floor\n",
    "And I ain't tryin' to see no highway chase with Jake\n",
    "Plus I got a few dollars, I can fight the case\n",
    "So I pull over to the side of the road\n",
    "I heard, \"Son, do you know why I'm stopping you for?\"\n",
    "‘Cause I'm young and I'm black and my hat's real low?\n",
    "Do I look like a mind reader, sir? I don't know\n",
    "Am I under arrest or should I guess some more?\n",
    "\"Well, you was doing 55 in a 54\n",
    "License and registration and step out of the car\n",
    "Are you carrying a weapon on you? I know a lot of you are.\"\n",
    "I ain't steppin' out of shit, all my paper's legit\n",
    "\"Well, do you mind if I look around the car a little bit?\"\n",
    "Well, my glove compartment is locked, so is the trunk in the back\n",
    "And I know my rights, so you gon' need a warrant for that\n",
    "\"Aren't you sharp as a tack?\n",
    "You some type of lawyer or something?\n",
    "Somebody important or something?\"\n",
    "Well, I ain't passed the bar, but I know a little bit\n",
    "Enough that you won't illegally search my shit\n",
    "\"Well, we'll see how smart you are when the K9 come!\"\n",
    "I got 99 problems, but a bitch ain't one – hit me!\n",
    "\n",
    "99 problems, but a bitch ain't one\n",
    "If you're havin' girl problems, I feel bad for you, son\n",
    "I got 99 problems, but a bitch ain't one – hit me!\n",
    "99 problems, but a bitch ain't one\n",
    "If you're havin' girl problems, I feel bad for you, son\n",
    "I got 99 problems, but a bitch ain't one\n",
    "\n",
    "Now once upon a time not too long ago\n",
    "A nigga like myself had to strong-arm a ho\n",
    "This is not a ho in the sense of havin' a pussy\n",
    "But a pussy havin' no goddamn sense, try and push me\n",
    "I try to ignore him, talk to the Lord\n",
    "Pray for him, but some fools just love to perform\n",
    "You know the type, loud as a motorbike\n",
    "But wouldn't bust a grape in a fruit fight\n",
    "And only thing that's gon' happen is I'ma get to clappin'\n",
    "And he and his boys gonna be yappin' to the Captain\n",
    "And there I go, trapped in the Kit-Kat again\n",
    "Back through the system with the riff-raff again\n",
    "Fiends on the floor, scratchin' again\n",
    "Paparazzis with they cameras, snappin' em\n",
    "D.A. try to give a nigga shaft again\n",
    "Half a mil' for bail ‘cause I'm African\n",
    "All because this fool was harassin' them\n",
    "Tryin' to play the boy like he's saccharine\n",
    "But ain't nothin' sweet 'bout how I hold my gun\n",
    "I got 99 problems, bein' a bitch ain't one – hit me!\n",
    "\n",
    "99 problems, but a bitch ain't one\n",
    "If you're havin' girl problems, I feel bad for you, son\n",
    "I got 99 problems, but a bitch ain't one – hit me!\n",
    "\n",
    "You crazy for this one, Rick\n",
    "It's your boy\n",
    "'''\n",
    "transform_it = text_to_dict(\"99 Problems\",text6,True)\n",
    "all_texts.append(transform_it)"
   ]
  },
  {
   "cell_type": "code",
   "execution_count": 48,
   "metadata": {
    "collapsed": true
   },
   "outputs": [],
   "source": [
    "text7 = '''\n",
    "Yeah!\n",
    "Right about now (whats up)\n",
    "It's time for the real nigga role call\n",
    "Now when you hear your city or state being called\n",
    "You put your motherfuckin' middle finger up in this bitch\n",
    "ATL, St. Louis, Alabahma, Chicago, The Carolina's, Nap Town\n",
    "DC, The Bay Area, VA, Miami, New York niggas, Texas, you know!\n",
    "\n",
    "Y'all niggas can't fuck wit my nigga's ho! (pussy nigga)\n",
    "Y'all niggas can't fuck wit my nigga's ho! (pussy nigga)\n",
    "Y'all niggas can't fuck wit my nigga's ho! (pussy nigga)\n",
    "Y'all niggas can't fuck wit my nigga's ho! (pussy nigga)\n",
    "Motherfuck that nigga!\n",
    "(Motherfuck that bitch!)\n",
    "Motherfuck that nigga!\n",
    "(Motherfuck that bitch!)\n",
    "Motherfuck that nigga!\n",
    "(Motherfuck that bitch!)\n",
    "Motherfuck that nigga!\n",
    "(Motherfuck that bitch!)\n",
    "\n",
    "Y'all bitches!\n",
    "Come on flexin' ass flauntin' ass niggas!\n",
    "My niggas!\n",
    "Be some real ass trill ass niggas!\n",
    "Your niggas!\n",
    "Be some ho ass pussy ass niggas!\n",
    "My niggas!\n",
    "Be some head-bustin' gangsta ass niggas!\n",
    "Your niggas!\n",
    "Be some runnin' ass scary ass niggas!\n",
    "My niggas!\n",
    "Be some Roy Jones beat ya ass niggas!\n",
    "Your niggas!\n",
    "Be some cake and handcuffin' ass niggas!\n",
    "My niggas!\n",
    "Be some \"Send them hoes out!\" niggas!\n",
    "Your niggas!\n",
    "Be some tricking off pay them hoes ass niggas!\n",
    "My niggas!\n",
    "Bishop Don Juan pimpin' ass niggas!\n",
    "Your niggas!\n",
    "Be some .22 havin' ass niggas!\n",
    "My niggas!\n",
    "Be some chopper street sweepin' ass niggas!\n",
    "Your niggas!\n",
    "Them ol' half ounce sellin' ass niggas!\n",
    "My niggas!\n",
    "Be some dirty bird movin' ass niggas!\n",
    "Your niggas!\n",
    "Be some kissin' security ass ass niggas!\n",
    "My niggas!\n",
    "Fuck them hoes and break they jaw ass niggas!\n",
    "\n",
    "Y'all niggas can't fuck wit my nigga's ho! (pussy nigga)\n",
    "Y'all niggas can't fuck wit my nigga's ho! (pussy nigga)\n",
    "Y'all niggas can't fuck wit my nigga's ho! (pussy nigga)\n",
    "Y'all niggas can't fuck wit my nigga's ho! (pussy nigga)\n",
    "Motherfuck that nigga!\n",
    "(Motherfuck that bitch!)\n",
    "Motherfuck that nigga!\n",
    "(Motherfuck that bitch!)\n",
    "Motherfuck that nigga!\n",
    "(Motherfuck that bitch!)\n",
    "Motherfuck that nigga!\n",
    "(Motherfuck that bitch!)\n",
    "\n",
    "See I'mma mean nigga\n",
    "Yous afraid nigga\n",
    "Ol' pretend nigga\n",
    "Smile and grin nigga\n",
    "I hate a false nigga\n",
    "Diana Ross nigga\n",
    "So if ya lost nigga\n",
    "Meet the boss nigga\n",
    "He's a super nigga\n",
    "Wit a groupa nigga\n",
    "Act stupid nigga\n",
    "I'll fuckin' nuke the nigga\n",
    "Cause yous a happy nigga\n",
    "And I'm a nappy nigga\n",
    "Fuckin' scrappy nigga\n",
    "Meet ya pappy nigga\n",
    "It's Ice Cube nigga\n",
    "And Lil' Jon nigga\n",
    "So if ya drunk nigga\n",
    "Keep it crunk nigga\n",
    "Til' you punk nigga\n",
    "Feel the bump nigga\n",
    "Get yo testifying ass in the trunk nigga\n",
    "You wanna tell niggaI'll dump a shell nigga\n",
    "Send a frail nigga\n",
    "Straight ta hell nigga\n",
    "Thats ya shelter nigga\n",
    "\"Heltah-a-Skelta\" nigga\n",
    "And when I belt a nigga\n",
    "They ain't helpin' nigga!\n",
    "\n",
    "Y'all niggas can't fuck wit my nigga's ho! (pussy nigga)\n",
    "Y'all niggas can't fuck wit my nigga's ho! (pussy nigga)\n",
    "Y'all niggas can't fuck wit my nigga's ho! (pussy nigga)\n",
    "Y'all niggas can't fuck wit my nigga's ho! (pussy nigga)\n",
    "Motherfuck that nigga!\n",
    "(Motherfuck that bitch!)\n",
    "Motherfuck that nigga!\n",
    "(Motherfuck that bitch!)\n",
    "Motherfuck that nigga!\n",
    "(Motherfuck that bitch!)\n",
    "Motherfuck that nigga!\n",
    "(Motherfuck that bitch!)\n",
    "\n",
    "Yeah!\n",
    "I see you and your lil click up in the club nigga\n",
    "I see y'all niggas over there talkin' that shit\n",
    "But you know what nigga\n",
    "Bitch niggas get dealt wit motherfuckin' real quick!\n",
    "\n",
    "Here we come boy\n",
    "Real niggas shoot ta kill betta run boy\n",
    "Or you can tell me how I feel as a\n",
    "Real nigga\n",
    "Which nigga\n",
    "Go get a bitch nigga\n",
    "No better\n",
    "Hoes better do what I say\n",
    "Cause I'm \"Insane in the Brain\"\n",
    "Bitch I got Rick James in my veins\n",
    "Real niggas never change\n",
    "We just let it bang\n",
    "Roll thru the gutter lane\n",
    "Daddy said let 'em hang\n",
    "And cut 'em like its butter mayne\n",
    "Skeet skeet skeet - naw that's the other mayne\n",
    "Cause my skeet never leak out this rubber mayne\n",
    "T&A ain't worth a niggas DNA\n",
    "That crazy bitch'll have ya ass off E&J\n",
    "Fake niggas got these real bitches bein gay\n",
    "Til my peoples come around it's like night and day\n",
    "Now she wanna change her God and the way she pray\n",
    "Authentic niggas all know thats the playa way\n",
    "\n",
    "Y'all niggas can't fuck wit my nigga's ho! (pussy nigga)\n",
    "Y'all niggas can't fuck wit my nigga's ho! (pussy nigga)\n",
    "Y'all niggas can't fuck wit my nigga's ho! (pussy nigga)\n",
    "Y'all niggas can't fuck wit my nigga's ho! (pussy nigga)\n",
    "Motherfuck that nigga!\n",
    "(Motherfuck that bitch!)\n",
    "Motherfuck that nigga!\n",
    "(Motherfuck that bitch!)\n",
    "Motherfuck that nigga!\n",
    "(Motherfuck that bitch!)\n",
    "Motherfuck that nigga!\n",
    "(Motherfuck that bitch!)\n",
    "\n",
    "We runnin this bitch\n",
    "Y'all niggas ain't shit\n",
    "We runnin this bitch\n",
    "Y'all niggas ain't shit\n",
    "We in the club gettin' crunk\n",
    "You in the club gettin' stomped\n",
    "We in the club gettin' crunk\n",
    "You in the club gettin' stomped\n",
    "We in the hood on the block\n",
    "You in the hood gettin' shot\n",
    "We in the hood on the block\n",
    "You in the hood gettin' shot\n",
    "We quick ta show you what we bout\n",
    "You quick to run ya fuckin' mouth\n",
    "We quick ta show you what we bout\n",
    "You quick to run ya fuckin' mouth\n",
    "Real niggas from the east\n",
    "And we act a fuckin' beast\n",
    "Real niggas from the east\n",
    "And we act a fuckin' beast\n",
    "We gangsta niggas from the west\n",
    "Puttin' holes in ya vest\n",
    "We gangsta niggas from the west\n",
    "Puttin' holes in ya vest\n",
    "My midwest niggas hard\n",
    "Quick ta pull ya fuckin' card\n",
    "My midwest niggas hard\n",
    "Quick ta pull ya fuckin' card\n",
    "And down south we set if off\n",
    "Blow ya fuckin' face off\n",
    "And down south we set if off\n",
    "Blow ya fuckin' face off (real nigga role call!)\n",
    "'''\n",
    "transform_it = text_to_dict(\"Real Nigga Role Call\",text7,True)\n",
    "all_texts.append(transform_it)"
   ]
  },
  {
   "cell_type": "code",
   "execution_count": 49,
   "metadata": {
    "collapsed": true
   },
   "outputs": [],
   "source": [
    "#Let's make a list of swearwords\n",
    "badwords = [\"fuck\", \"bitch\", \"dick\", \"pussy\", \"shit\", \"nigga\", \"ass\", \"Cock\", \"cunt\"]"
   ]
  },
  {
   "cell_type": "code",
   "execution_count": 50,
   "metadata": {
    "collapsed": true
   },
   "outputs": [],
   "source": [
    "#a function that returns the percentage of swearwords in a line\n",
    "def swear_score(line, debug=False):\n",
    "    \n",
    "    words = re.findall(r\"\\b\\w+\\b\", line, re.IGNORECASE)\n",
    "    \n",
    "    swear_words = []\n",
    "    \n",
    "    #loop over the list of swearwords\n",
    "    for badword in badwords:\n",
    "        found_words = re.findall(r\"\\b\\w*\"+badword+r\"\\w*\\b\", line, re.IGNORECASE)\n",
    "        if len(found_words) > 0:\n",
    "            for found_word in found_words:\n",
    "                swear_words.append(found_word)\n",
    "    \n",
    "    if debug:\n",
    "        print (words)\n",
    "        print (swear_words)\n",
    "        \n",
    "    return len(swear_words) / len(words)"
   ]
  },
  {
   "cell_type": "code",
   "execution_count": 51,
   "metadata": {},
   "outputs": [
    {
     "name": "stdout",
     "output_type": "stream",
     "text": [
      "['Fucker', 'that', 'bitch', 'bitch']\n",
      "['Fucker', 'bitch', 'bitch']\n"
     ]
    },
    {
     "data": {
      "text/plain": [
       "0.75"
      ]
     },
     "execution_count": 51,
     "metadata": {},
     "output_type": "execute_result"
    }
   ],
   "source": [
    "#test the function\n",
    "swear_score(\"Fucker that bitch bitch!\", debug=True)"
   ]
  },
  {
   "cell_type": "code",
   "execution_count": 57,
   "metadata": {
    "collapsed": true
   },
   "outputs": [],
   "source": [
    "#loop over songs and lines\n",
    "def swear_score_all(debug=False):\n",
    "    \n",
    "    #go through all the texts\n",
    "    for text in all_texts:\n",
    "        print (text['title'])\n",
    "        \n",
    "        #go through all the lines\n",
    "        line_scores = []\n",
    "        \n",
    "        for line in text['lines']:\n",
    "            if line != \"\":\n",
    "                line_score = swear_score(line, debug)\n",
    "                line_scores.append(line_score)\n",
    "                if debug:\n",
    "                    print (line, \"|\", line_score)\n",
    "                    print (\"------\")\n",
    "\n",
    "        #calculate the total score\n",
    "        total_score = sum(line_scores) / len(line_scores) * 100\n",
    "        print (\"Swear Score:\", round(total_score), \"percent.\")\n",
    "                \n",
    "        d = {text['title']: line_scores}\n",
    "        df = pd.DataFrame(d)\n",
    "        df.plot(kind=\"line\", title=\"Percentage of swear words per line\")        "
   ]
  },
  {
   "cell_type": "code",
   "execution_count": 58,
   "metadata": {},
   "outputs": [
    {
     "name": "stdout",
     "output_type": "stream",
     "text": [
      "Live and die in L.A.\n",
      "Swear Score: 3 percent.\n",
      "99 Problems\n",
      "Swear Score: 3 percent.\n",
      "Real Nigga Role Call\n",
      "Swear Score: 32 percent.\n"
     ]
    },
    {
     "data": {
      "image/png": "[encoded data removed]",
      "text/plain": [
       "<matplotlib.figure.Figure at 0x66439b0>"
      ]
     },
     "metadata": {},
     "output_type": "display_data"
    },
    {
     "data": {
      "image/png": "[encoded data removed]",
      "text/plain": [
       "<matplotlib.figure.Figure at 0x6719f50>"
      ]
     },
     "metadata": {},
     "output_type": "display_data"
    },
    {
     "data": {
      "image/png": "[encoded data removed]",
      "text/plain": [
       "<matplotlib.figure.Figure at 0x781b030>"
      ]
     },
     "metadata": {},
     "output_type": "display_data"
    }
   ],
   "source": [
    "swear_score_all()"
   ]
  },
  {
   "cell_type": "code",
   "execution_count": null,
   "metadata": {
    "collapsed": true
   },
   "outputs": [],
   "source": []
  }
 ],
 "metadata": {
  "kernelspec": {
   "display_name": "Python 3",
   "language": "python",
   "name": "python3"
  },
  "language_info": {
   "codemirror_mode": {
    "name": "ipython",
    "version": 3
   },
   "file_extension": ".py",
   "mimetype": "text/x-python",
   "name": "python",
   "nbconvert_exporter": "python",
   "pygments_lexer": "ipython3",
   "version": "3.6.1"
  }
 },
 "nbformat": 4,
 "nbformat_minor": 2
}
