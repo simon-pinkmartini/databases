{
 "cells": [
  {
   "cell_type": "markdown",
   "metadata": {},
   "source": [
    "# Col staff dictionary"
   ]
  },
  {
   "cell_type": "code",
   "execution_count": 1,
   "metadata": {
    "collapsed": true
   },
   "outputs": [],
   "source": [
    "#Auth info: -- to login the system\n",
    "auth_url = \"https://cas.columbia.edu/cas/login?\"\n",
    "#<input name=\"username\"> -- username\n",
    "#<input name=\"password\"> -- password\n",
    "#<input name=\"lt\"> -- some random number (token?)\n",
    "\n",
    "#Get info: -- to display web page with directory\n",
    "get_url = \"https://directory.columbia.edu/people/browse/facultyandstaff?filter.lnameFname=2&pageSize=2000&filter.initialLetter=\"\n",
    "# add Letters [A, ... , Z] to the get_url string"
   ]
  },
  {
   "cell_type": "code",
   "execution_count": 2,
   "metadata": {
    "collapsed": true
   },
   "outputs": [],
   "source": [
    "payload = {\n",
    "    \"username\": \"...\", \n",
    "    \"password\": \"...\", \n",
    "    \"lt\": \"...\"\n",
    "}"
   ]
  },
  {
   "cell_type": "code",
   "execution_count": 9,
   "metadata": {},
   "outputs": [],
   "source": [
    "import requests"
   ]
  },
  {
   "cell_type": "code",
   "execution_count": 11,
   "metadata": {
    "collapsed": true
   },
   "outputs": [],
   "source": [
    "from bs4 import BeautifulSoup"
   ]
  },
  {
   "cell_type": "code",
   "execution_count": 5,
   "metadata": {
    "collapsed": true
   },
   "outputs": [],
   "source": [
    "session_requests = requests.session()"
   ]
  },
  {
   "cell_type": "markdown",
   "metadata": {},
   "source": [
    "# Authentication through Login Form"
   ]
  },
  {
   "cell_type": "code",
   "execution_count": 6,
   "metadata": {
    "collapsed": true
   },
   "outputs": [],
   "source": [
    "auth_result = session_requests.get(auth_url) #OK"
   ]
  },
  {
   "cell_type": "code",
   "execution_count": 12,
   "metadata": {},
   "outputs": [],
   "source": [
    "auth_raw = auth_result.text\n",
    "soup_auth = BeautifulSoup(auth_raw, \"html.parser\")\n"
   ]
  },
  {
   "cell_type": "code",
   "execution_count": 21,
   "metadata": {},
   "outputs": [],
   "source": [
    "form = soup_auth.find_all('form')\n",
    "for f in form:\n",
    "    print (f)"
   ]
  },
  {
   "cell_type": "code",
   "execution_count": 22,
   "metadata": {},
   "outputs": [
    {
     "name": "stdout",
     "output_type": "stream",
     "text": [
      "<!DOCTYPE html PUBLIC \"-//W3C//DTD XHTML 1.0 Strict//EN\" \"http://www.w3.org/TR/xhtml1/DTD/xhtml1-strict.dtd\">\n",
      "<html lang=\"en\" xmlns=\"http://www.w3.org/1999/xhtml\">\n",
      " <head>\n",
      "  <title>\n",
      "   Columbia University Authentication\n",
      "  </title>\n",
      "  <link href=\"css/cas.css;jsessionid=16E3205F44316A662D4C3D73A5E40D05\" rel=\"stylesheet\" type=\"text/css\"/>\n",
      "  <link href=\"/cas/css/columbia.css;jsessionid=16E3205F44316A662D4C3D73A5E40D05\" rel=\"stylesheet\" type=\"text/css\"/>\n",
      "  <meta content=\"text/html; charset=utf-8\" http-equiv=\"Content-Type\"/>\n",
      "  <link href=\"/cas/favicon.ico;jsessionid=16E3205F44316A662D4C3D73A5E40D05\" rel=\"icon\" type=\"image/x-icon\"/>\n",
      " </head>\n",
      " <body class=\"fl-theme-iphone\" id=\"cas\">\n",
      "  <div class=\"flc-screenNavigator-view-container\">\n",
      "   <div class=\"fl-screenNavigator-view\">\n",
      "    <div class=\"flc-screenNavigator-navbar fl-navbar fl-table\" id=\"header\">\n",
      "     <!--<h1 id=\"app-name\" class=\"fl-table-cell\">Central Authentication Service (CAS)</h1>-->\n",
      "    </div>\n",
      "    <div class=\"fl-screenNavigator-scroll-container\" id=\"content\">\n",
      "     <div class=\"errors\" id=\"msg\">\n",
      "      <h2>\n",
      "       Application Not Authorized to Use Columbia University Authentication\n",
      "      </h2>\n",
      "      <p>\n",
      "       The application you attempted to authenticate to is not authorized to use Columbia University Authentication.\n",
      "      </p>\n",
      "     </div>\n",
      "    </div>\n",
      "    <div class=\"fl-panel fl-note fl-bevel-white fl-font-size-80\" id=\"footer\">\n",
      "     <div style=\"font-size:12px; color: #104E8B;\">\n",
      "      <p>\n",
      "       By using these resources, you agree to abide by\n",
      "      </p>\n",
      "     </div>\n",
      "    </div>\n",
      "   </div>\n",
      "  </div>\n",
      " </body>\n",
      "</html>\n",
      "Columbia University's\n",
      "<a href=\"http://policylibrary.columbia.edu/acceptable-usage-information-resources-policy\">\n",
      " Acceptable \n",
      "                    Usage of Information Resources Policy\n",
      "</a>\n",
      ".\n",
      "<p>\n",
      " Maintained by CUIT. Please contact the\n",
      " <a href=\"http://www.columbia.edu/acis/support/\">\n",
      "  Helpdesk\n",
      " </a>\n",
      " if you have trouble logging in.\n",
      "</p>\n",
      "<script src=\"https://ajax.googleapis.com/ajax/libs/jquery/1.4.2/jquery.min.js\" type=\"text/javascript\">\n",
      "</script>\n",
      "<script src=\"https://ajax.googleapis.com/ajax/libs/jqueryui/1.8.5/jquery-ui.min.js\" type=\"text/javascript\">\n",
      "</script>\n",
      "<script src=\"/cas/js/cas.js;jsessionid=16E3205F44316A662D4C3D73A5E40D05\" type=\"text/javascript\">\n",
      "</script>\n",
      "\n"
     ]
    }
   ],
   "source": [
    "print (soup_auth.prettify())"
   ]
  },
  {
   "cell_type": "code",
   "execution_count": null,
   "metadata": {
    "collapsed": true
   },
   "outputs": [],
   "source": []
  }
 ],
 "metadata": {
  "kernelspec": {
   "display_name": "Python 3",
   "language": "python",
   "name": "python3"
  },
  "language_info": {
   "codemirror_mode": {
    "name": "ipython",
    "version": 3
   },
   "file_extension": ".py",
   "mimetype": "text/x-python",
   "name": "python",
   "nbconvert_exporter": "python",
   "pygments_lexer": "ipython3",
   "version": "3.6.1"
  }
 },
 "nbformat": 4,
 "nbformat_minor": 2
}
