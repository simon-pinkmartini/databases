{
 "cells": [
  {
   "cell_type": "markdown",
   "metadata": {},
   "source": [
    "# Scrape Data from LinkedIn\n",
    "Goal: Store names (and other possible attributes) of people in search results in variables and display a list."
   ]
  },
  {
   "cell_type": "markdown",
   "metadata": {},
   "source": [
    "1) Get data and set up beautiful soup\n",
    "\n",
    "Didn't get file from internet directly, instead downloaded html.\n",
    "Read file \"Search_LinkedIn.htm\" into string and close again."
   ]
  },
  {
   "cell_type": "code",
   "execution_count": 1,
   "metadata": {
    "collapsed": true
   },
   "outputs": [],
   "source": [
    "file = open(\"Search_LinkedIn.htm\", \"r\")\n",
    "raw_html = file.read()\n",
    "file.close()"
   ]
  },
  {
   "cell_type": "markdown",
   "metadata": {},
   "source": [
    "This didn't work as expected, as no proper html is returned...Try other method"
   ]
  },
  {
   "cell_type": "code",
   "execution_count": 8,
   "metadata": {
    "collapsed": true
   },
   "outputs": [],
   "source": [
    "from urllib.request import urlopen\n",
    "raw_html = urlopen(\"https://www.linkedin.com/search/results/people/?facetCurrentCompany=%5B%221214%22%5D&facetGeoRegion=%5B%22ch%3A4938%22%5D&facetNetwork=%5B%22F%22%2C%22S%22%2C%22O%22%5D&facetPastCompany=%5B%221284%22%5D&origin=FACETED_SEARCH\").read()"
   ]
  },
  {
   "cell_type": "markdown",
   "metadata": {},
   "source": [
    "Again, same problem. Try saving html via Browser-Inspector into file (ANSI!) and read again."
   ]
  },
  {
   "cell_type": "code",
   "execution_count": 28,
   "metadata": {},
   "outputs": [],
   "source": [
    "file = open(\"test-linkedin2.html\", \"r\")\n",
    "raw_html = file.read()\n",
    "file.close()"
   ]
  },
  {
   "cell_type": "markdown",
   "metadata": {},
   "source": [
    "Make the soup"
   ]
  },
  {
   "cell_type": "code",
   "execution_count": 9,
   "metadata": {
    "collapsed": true
   },
   "outputs": [],
   "source": [
    "from bs4 import BeautifulSoup"
   ]
  },
  {
   "cell_type": "code",
   "execution_count": 30,
   "metadata": {},
   "outputs": [],
   "source": [
    "soup_doc = BeautifulSoup(raw_html, \"html.parser\")"
   ]
  },
  {
   "cell_type": "markdown",
   "metadata": {},
   "source": [
    "2) Inspect the page in the browser"
   ]
  },
  {
   "cell_type": "code",
   "execution_count": 31,
   "metadata": {
    "collapsed": true
   },
   "outputs": [],
   "source": [
    "# - Names are placed as: <span class=\"name actor-name\">Firstname Lastname</span>\n",
    "name = soup_doc.find(\"span\", class_=\"name actor-name\")"
   ]
  },
  {
   "cell_type": "code",
   "execution_count": 32,
   "metadata": {},
   "outputs": [
    {
     "name": "stdout",
     "output_type": "stream",
     "text": [
      "<span class=\"name actor-name\">Maria Leistner</span>\n"
     ]
    }
   ],
   "source": [
    "print (name) #Hallelujah!"
   ]
  },
  {
   "cell_type": "code",
   "execution_count": 35,
   "metadata": {},
   "outputs": [
    {
     "name": "stdout",
     "output_type": "stream",
     "text": [
      "Maria Leistner\n",
      "Roger Sueess\n",
      "Santosh Mathew\n",
      "Dr. BOAZ BARACK\n",
      "Daniel Ott\n",
      "Stefan Seiler, PhD\n",
      "Aleksandar Ivanovic\n",
      "Gregor Hirt\n",
      "Daniel Fischer\n",
      "Genico Reyes\n"
     ]
    }
   ],
   "source": [
    "names = soup_doc.find_all(\"span\", class_=\"name actor-name\")\n",
    "for name in names:\n",
    "    print (name.string)"
   ]
  },
  {
   "cell_type": "code",
   "execution_count": 36,
   "metadata": {
    "collapsed": true
   },
   "outputs": [],
   "source": [
    "# - The positions are like: <\"p class=\"subline-level-1 Sans-15px-black-85% search-result__truncate\">Position</span>"
   ]
  },
  {
   "cell_type": "code",
   "execution_count": 46,
   "metadata": {},
   "outputs": [
    {
     "name": "stdout",
     "output_type": "stream",
     "text": [
      "General Counsel Wealth Management, UBS\n",
      "Managing Director / Head Global Engineering  at UBS\n",
      "Management Consultant at UBS Wealth Management\n",
      "Dr. Barack is a veteran & experienced banker currently focusing on New Age Banking ;Transforming finance into digital\n",
      "\n",
      "\n",
      "CIO for UBS Asset Management Global and IT Head for the Region EMEA\n",
      "Group Managing Director, Global Head Talent & Recruiting at UBS\n",
      "Managing Director at UBS Asset Management\n",
      "Chief Investment Officer GIS Europe and Switzerland at UBS Global Asset Management\n",
      "Head of Marketing Switzerland bei UBS\n",
      "Functional Lead Onboarding & Ops CRM at UBS AG\n",
      "10\n"
     ]
    }
   ],
   "source": [
    "positions = soup_doc.find_all(\"p\", class_=\"subline-level-1 Sans-15px-black-85% search-result__truncate\")\n",
    "for position in positions:\n",
    "    print (position.string)\n",
    "print (len(positions))"
   ]
  },
  {
   "cell_type": "markdown",
   "metadata": {},
   "source": [
    "Final display:"
   ]
  },
  {
   "cell_type": "code",
   "execution_count": 48,
   "metadata": {},
   "outputs": [
    {
     "name": "stdout",
     "output_type": "stream",
     "text": [
      "Here are the 10 people:\n",
      "0 : Maria Leistner works as General Counsel Wealth Management, UBS\n",
      "1 : Roger Sueess works as Managing Director / Head Global Engineering  at UBS\n",
      "2 : Santosh Mathew works as Management Consultant at UBS Wealth Management\n",
      "3 : Dr. BOAZ BARACK works as Dr. Barack is a veteran & experienced banker currently focusing on New Age Banking ;Transforming finance into digital\n",
      "\n",
      "\n",
      "4 : Daniel Ott works as CIO for UBS Asset Management Global and IT Head for the Region EMEA\n",
      "5 : Stefan Seiler, PhD works as Group Managing Director, Global Head Talent & Recruiting at UBS\n",
      "6 : Aleksandar Ivanovic works as Managing Director at UBS Asset Management\n",
      "7 : Gregor Hirt works as Chief Investment Officer GIS Europe and Switzerland at UBS Global Asset Management\n",
      "8 : Daniel Fischer works as Head of Marketing Switzerland bei UBS\n",
      "9 : Genico Reyes works as Functional Lead Onboarding & Ops CRM at UBS AG\n"
     ]
    }
   ],
   "source": [
    "print (\"Here are the 10 people:\")\n",
    "for i in range(0, len(names)):\n",
    "    print (i, \":\", names[i].string, \"works as\", positions[i].string)"
   ]
  },
  {
   "cell_type": "code",
   "execution_count": null,
   "metadata": {
    "collapsed": true
   },
   "outputs": [],
   "source": []
  }
 ],
 "metadata": {
  "kernelspec": {
   "display_name": "Python 3",
   "language": "python",
   "name": "python3"
  },
  "language_info": {
   "codemirror_mode": {
    "name": "ipython",
    "version": 3
   },
   "file_extension": ".py",
   "mimetype": "text/x-python",
   "name": "python",
   "nbconvert_exporter": "python",
   "pygments_lexer": "ipython3",
   "version": "3.6.1"
  }
 },
 "nbformat": 4,
 "nbformat_minor": 2
}
