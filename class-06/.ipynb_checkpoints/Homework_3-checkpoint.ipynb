{
 "cells": [
  {
   "cell_type": "markdown",
   "metadata": {},
   "source": [
    "## Homework 3\n",
    "This homework asks you to scrape from three different sources, please follow the instructions and do the best you can. With the exception of the first cell that imports the URL request and the beautiful soup library, I have not pre-written any code for you. Do not be afraid--you may look at the tutorial for examples, as well as the Beautiful Soup documentation, and any other Python resource (such a Stack overflow) if need be. \n",
    "\n",
    "This homework is intended to be challenging, if you only get 70% of the stuff done than you did very well."
   ]
  },
  {
   "cell_type": "code",
   "execution_count": 1,
   "metadata": {
    "collapsed": true
   },
   "outputs": [],
   "source": [
    "from urllib.request import urlopen\n",
    "from bs4 import BeautifulSoup"
   ]
  },
  {
   "cell_type": "markdown",
   "metadata": {},
   "source": [
    "## Shakespeare \n",
    "I've posted some relatively simple HTML of the first act of William Shakespeare's The Tempest here: http://floatingmedia.com/columbia/tempest.html please use that URL to download the HTML and put it through Beautiful Soup. (It also may be very helpful for you to go to that page in chrome and inspect elements why you do this.) \n",
    "**Please note: there are 2 scenes in Act 1**\n",
    "\n"
   ]
  },
  {
   "cell_type": "markdown",
   "metadata": {},
   "source": [
    "In the cells below you should you make two lines--a variable that requests and reads the HTML from the URL (http://floatingmedia.com/columbia/tempest.html), and a second variable that passes the raw HTML into Beautiful Soup. You will use that beautiful soup variable to search the HTML."
   ]
  },
  {
   "cell_type": "code",
   "execution_count": 2,
   "metadata": {
    "collapsed": true
   },
   "outputs": [],
   "source": [
    "raw_html = urlopen(\"http://floatingmedia.com/columbia/tempest.html\").read()"
   ]
  },
  {
   "cell_type": "code",
   "execution_count": 3,
   "metadata": {
    "collapsed": true
   },
   "outputs": [],
   "source": [
    "doc = BeautifulSoup(raw_html, \"html.parser\")"
   ]
  },
  {
   "cell_type": "markdown",
   "metadata": {},
   "source": [
    "Get the title of the play:"
   ]
  },
  {
   "cell_type": "code",
   "execution_count": 4,
   "metadata": {},
   "outputs": [
    {
     "data": {
      "text/plain": [
       "'The Tempest'"
      ]
     },
     "execution_count": 4,
     "metadata": {},
     "output_type": "execute_result"
    }
   ],
   "source": [
    "doc.title.text"
   ]
  },
  {
   "cell_type": "markdown",
   "metadata": {},
   "source": [
    "Get the HTML that contains the setting of Act One Scene 1:"
   ]
  },
  {
   "cell_type": "code",
   "execution_count": 5,
   "metadata": {},
   "outputs": [
    {
     "data": {
      "text/plain": [
       "<p class=\"playsubhead\">Act I, Scene 1</p>"
      ]
     },
     "execution_count": 5,
     "metadata": {},
     "output_type": "execute_result"
    }
   ],
   "source": [
    "doc.p"
   ]
  },
  {
   "cell_type": "markdown",
   "metadata": {},
   "source": [
    "Get the setting of Act One Scene 1 (as a string):"
   ]
  },
  {
   "cell_type": "code",
   "execution_count": 6,
   "metadata": {},
   "outputs": [
    {
     "data": {
      "text/plain": [
       "'Act I, Scene 1'"
      ]
     },
     "execution_count": 6,
     "metadata": {},
     "output_type": "execute_result"
    }
   ],
   "source": [
    "doc.p.text"
   ]
  },
  {
   "cell_type": "markdown",
   "metadata": {},
   "source": [
    "Get the setting of scene 2"
   ]
  },
  {
   "cell_type": "code",
   "execution_count": 7,
   "metadata": {},
   "outputs": [
    {
     "data": {
      "text/plain": [
       "'Act I, Scene 2'"
      ]
     },
     "execution_count": 7,
     "metadata": {},
     "output_type": "execute_result"
    }
   ],
   "source": [
    "doc.find_all(\"p\", class_=\"playsubhead\")[1].text"
   ]
  },
  {
   "cell_type": "markdown",
   "metadata": {},
   "source": [
    "Get the name of the first character in Scene 1"
   ]
  },
  {
   "cell_type": "code",
   "execution_count": 8,
   "metadata": {},
   "outputs": [
    {
     "data": {
      "text/plain": [
       "'Master'"
      ]
     },
     "execution_count": 8,
     "metadata": {},
     "output_type": "execute_result"
    }
   ],
   "source": [
    "doc.ul.strong.text[:-2]"
   ]
  },
  {
   "cell_type": "markdown",
   "metadata": {},
   "source": [
    "Get a list of all of characters in Scene 1 (repeats are fine, you need a loop here)"
   ]
  },
  {
   "cell_type": "code",
   "execution_count": 9,
   "metadata": {},
   "outputs": [
    {
     "name": "stdout",
     "output_type": "stream",
     "text": [
      "['Master', 'Boatswain', 'Alonso', 'Antonio', 'Gonzalo', 'Sebastian', 'Mariners']\n"
     ]
    }
   ],
   "source": [
    "characters_sc1 = doc.find_all(\"div\")[1].find_all(\"strong\")\n",
    "characters = []\n",
    "for characters_sc1 in characters_sc1:\n",
    "    character_temp = characters_sc1.text[:-2]\n",
    "    if character_temp not in characters:\n",
    "        characters.append(character_temp)\n",
    "print (characters)    "
   ]
  },
  {
   "cell_type": "markdown",
   "metadata": {},
   "source": [
    "**Bonus:** write a script that takes all the duplicates out of the list. (This is a python thing, not a beautiful soup thing.)"
   ]
  },
  {
   "cell_type": "code",
   "execution_count": 10,
   "metadata": {
    "collapsed": true
   },
   "outputs": [],
   "source": [
    "#done already"
   ]
  },
  {
   "cell_type": "markdown",
   "metadata": {},
   "source": [
    "Display every stage direction in _scene 2_"
   ]
  },
  {
   "cell_type": "code",
   "execution_count": 11,
   "metadata": {},
   "outputs": [
    {
     "name": "stdout",
     "output_type": "stream",
     "text": [
      "[Enter PROSPERO and MIRANDA]\n",
      "[Enter ARIEL]\n",
      "[Exit]\n",
      "[Enter CALIBAN]\n",
      "[Draws, and is charmed from moving]\n",
      "[Exeunt]\n"
     ]
    }
   ],
   "source": [
    "stagedirs_sc2 = doc.find_all(\"div\")[3].find_all(\"p\", class_=\"stagedir\")\n",
    "for stagedir_sc2 in stagedirs_sc2:\n",
    "    print (stagedir_sc2.text)"
   ]
  },
  {
   "cell_type": "markdown",
   "metadata": {},
   "source": [
    "Get the HTML containing Miranda's first speech in Scene 2"
   ]
  },
  {
   "cell_type": "code",
   "execution_count": 12,
   "metadata": {},
   "outputs": [
    {
     "name": "stdout",
     "output_type": "stream",
     "text": [
      "<li class=\"playtext\"><strong>Miranda. </strong>If by your art, my dearest father, you have\n",
      " <span class=\"playlinenum\">85</span><br/>Put the wild waters in this roar, allay them.\n",
      "<br/>The sky, it seems, would pour down stinking pitch,\n",
      "<br/>But that the sea, mounting to the welkin's cheek,\n",
      "<br/>Dashes the fire out. O, I have suffered\n",
      "<br/>With those that I saw suffer: a brave vessel,\n",
      " <span class=\"playlinenum\">90</span><br/>Who had, no doubt, some noble creature in her,\n",
      "<br/>Dash'd all to pieces. O, the cry did knock\n",
      "<br/>Against my very heart. Poor souls, they perish'd.\n",
      "<br/>Had I been any god of power, I would\n",
      "<br/>Have sunk the sea within the earth or ere\n",
      " <span class=\"playlinenum\">95</span><br/>It should the good ship so have swallow'd and\n",
      "<br/>The fraughting souls within her.\n",
      "</li>\n"
     ]
    }
   ],
   "source": [
    "miranda_speech = doc.find_all(\"div\")[3].find_all(\"li\", class_=\"playtext\")[0]\n",
    "print (miranda_speech)"
   ]
  },
  {
   "cell_type": "markdown",
   "metadata": {},
   "source": [
    "Now display those same lines without the speaker's name (need to use siblings and a loop to get this)"
   ]
  },
  {
   "cell_type": "code",
   "execution_count": 13,
   "metadata": {},
   "outputs": [
    {
     "name": "stdout",
     "output_type": "stream",
     "text": [
      "If by your art, my dearest father, you have\n",
      " \n",
      "<span class=\"playlinenum\">85</span>\n",
      "<br/>\n",
      "Put the wild waters in this roar, allay them.\n",
      "\n",
      "<br/>\n",
      "The sky, it seems, would pour down stinking pitch,\n",
      "\n",
      "<br/>\n",
      "But that the sea, mounting to the welkin's cheek,\n",
      "\n",
      "<br/>\n",
      "Dashes the fire out. O, I have suffered\n",
      "\n",
      "<br/>\n",
      "With those that I saw suffer: a brave vessel,\n",
      " \n",
      "<span class=\"playlinenum\">90</span>\n",
      "<br/>\n",
      "Who had, no doubt, some noble creature in her,\n",
      "\n",
      "<br/>\n",
      "Dash'd all to pieces. O, the cry did knock\n",
      "\n",
      "<br/>\n",
      "Against my very heart. Poor souls, they perish'd.\n",
      "\n",
      "<br/>\n",
      "Had I been any god of power, I would\n",
      "\n",
      "<br/>\n",
      "Have sunk the sea within the earth or ere\n",
      " \n",
      "<span class=\"playlinenum\">95</span>\n",
      "<br/>\n",
      "It should the good ship so have swallow'd and\n",
      "\n",
      "<br/>\n",
      "The fraughting souls within her.\n",
      "\n",
      "None\n"
     ]
    }
   ],
   "source": [
    "for child in miranda_speech.children:\n",
    "    print (child.next_sibling)\n"
   ]
  },
  {
   "cell_type": "markdown",
   "metadata": {},
   "source": [
    "Get the HTML containing the speech after Miranda's"
   ]
  },
  {
   "cell_type": "code",
   "execution_count": 14,
   "metadata": {},
   "outputs": [
    {
     "data": {
      "text/plain": [
       "<li class=\"playtext\"><strong>Prospero. </strong>Be collected:\n",
       "<br/>No more amazement: tell your piteous heart\n",
       "<br/>There's no harm done.\n",
       " <span class=\"playlinenum\">100</span></li>"
      ]
     },
     "execution_count": 14,
     "metadata": {},
     "output_type": "execute_result"
    }
   ],
   "source": [
    "miranda_speech.parent.next_sibling.next_sibling.find_all(\"li\", class_=\"playtext\")[0]"
   ]
  },
  {
   "cell_type": "markdown",
   "metadata": {},
   "source": [
    "## Box Office Mojo \n",
    "I've posted some slightly simplified HTML of the current worldwide box office leaders here: http://floatingmedia.com/columbia/boxoffice.htm please use that URL to download the HTML and put it through Beautiful Soup. (It also may be very helpful for you to go to that page in chrome and inspect elements why you do this.) \n",
    "\n",
    "For this part of the assignment you should focus mostly on tr (table rows) amd td (table cells) -- and search them using find_all('tr')[1] in order to get a specific row, and find_all('td')[2] to get a specific cell."
   ]
  },
  {
   "cell_type": "markdown",
   "metadata": {},
   "source": [
    "Just like with the Shakespeare write two lines get the raw HTML and then transform the raw HTML into a beautiful soup variable"
   ]
  },
  {
   "cell_type": "code",
   "execution_count": 15,
   "metadata": {
    "collapsed": true
   },
   "outputs": [],
   "source": [
    "raw_html2 = urlopen(\"http://floatingmedia.com/columbia/boxoffice.htm\").read()"
   ]
  },
  {
   "cell_type": "code",
   "execution_count": 16,
   "metadata": {
    "collapsed": true
   },
   "outputs": [],
   "source": [
    "doc2 = BeautifulSoup(raw_html2, \"html.parser\")"
   ]
  },
  {
   "cell_type": "markdown",
   "metadata": {},
   "source": [
    "Get the text \"2017 worldwide grosses\""
   ]
  },
  {
   "cell_type": "code",
   "execution_count": 17,
   "metadata": {},
   "outputs": [
    {
     "data": {
      "text/plain": [
       "'2017 WORLDWIDE GROSSES'"
      ]
     },
     "execution_count": 17,
     "metadata": {},
     "output_type": "execute_result"
    }
   ],
   "source": [
    "doc2.h1.text"
   ]
  },
  {
   "cell_type": "markdown",
   "metadata": {},
   "source": [
    "Get an HTML list of all of the column names from the header of the table: rank, title, etc..."
   ]
  },
  {
   "cell_type": "code",
   "execution_count": 18,
   "metadata": {},
   "outputs": [
    {
     "name": "stdout",
     "output_type": "stream",
     "text": [
      "Rank\n",
      "Title\n",
      "Studio\n",
      "Worldwide\n",
      "Domestic\n",
      "Overseas\n"
     ]
    }
   ],
   "source": [
    "header_cols = doc2.tr.find_all(\"td\")\n",
    "headers = []\n",
    "for header_col in header_cols:\n",
    "    print (header_col.text)\n",
    "    headers.append(header_col.text)"
   ]
  },
  {
   "cell_type": "markdown",
   "metadata": {},
   "source": [
    "Make a variable called \"headers\" and set it equal to the list of strings of the column names and header. In the next line write: \"headers[1]\" your output should be \"Title\""
   ]
  },
  {
   "cell_type": "code",
   "execution_count": 19,
   "metadata": {},
   "outputs": [
    {
     "data": {
      "text/plain": [
       "'Title'"
      ]
     },
     "execution_count": 19,
     "metadata": {},
     "output_type": "execute_result"
    }
   ],
   "source": [
    "headers[1]"
   ]
  },
  {
   "cell_type": "markdown",
   "metadata": {},
   "source": [
    "Get the HTML for the row that contains the #1 movie"
   ]
  },
  {
   "cell_type": "code",
   "execution_count": 20,
   "metadata": {},
   "outputs": [
    {
     "data": {
      "text/plain": [
       "<tr bgcolor=\"#ffffff\"><td align=\"center\"><font size=\"2\">1</font></td>\n",
       "<td><font size=\"2\"><a href=\"http://www.boxofficemojo.com/movies/?id=beautyandthebeast2017.htm\"><b>Beauty and the Beast (2017)</b></a></font></td>\n",
       "<td><font size=\"2\">BV</font></td>\n",
       "<td align=\"right\"><font size=\"2\"><b>$1,241.3</b></font></td>\n",
       "<td align=\"right\"><font size=\"2\">$502.2</font></td>\n",
       "<td align=\"right\"><font size=\"2\">$739.1</font></td>\n",
       "</tr>"
      ]
     },
     "execution_count": 20,
     "metadata": {},
     "output_type": "execute_result"
    }
   ],
   "source": [
    "doc2.find_all(\"tr\")[1]"
   ]
  },
  {
   "cell_type": "markdown",
   "metadata": {},
   "source": [
    "Get the HTML for the row that contains the #10 movie "
   ]
  },
  {
   "cell_type": "code",
   "execution_count": 21,
   "metadata": {},
   "outputs": [
    {
     "data": {
      "text/plain": [
       "<tr bgcolor=\"#f4f4ff\"><td align=\"center\"><font size=\"2\">10</font></td>\n",
       "<td><font size=\"2\"><a href=\"http://www.boxofficemojo.com/movies/?id=xxx3.htm\"><b>xXx: The Return of Xander Cage</b></a></font></td>\n",
       "<td><font size=\"2\">Par.</font></td>\n",
       "<td align=\"right\"><font size=\"2\"><b>$346.1</b></font></td>\n",
       "<td align=\"right\"><font size=\"2\">$44.9</font></td>\n",
       "<td align=\"right\"><font size=\"2\">$301.2</font></td>\n",
       "</tr>"
      ]
     },
     "execution_count": 21,
     "metadata": {},
     "output_type": "execute_result"
    }
   ],
   "source": [
    "doc2.find_all(\"tr\")[10]"
   ]
  },
  {
   "cell_type": "markdown",
   "metadata": {},
   "source": [
    "Get a list of the top 10 films (You'll need to use the loop and specify a range for the loop.) The list should look like this:\n",
    "\n",
    "`Beauty and the Beast (2017)\n",
    "The Fate of the Furious\n",
    "Guardians of the Galaxy Vol. 2\n",
    "Logan\n",
    "Kong: Skull Island\n",
    "Pirates of the Caribbean: Dead Men Tell No Tales\n",
    "The Boss Baby\n",
    "Fifty Shades Darker\n",
    "Your Name.\n",
    "xXx: The Return of Xander Cage`"
   ]
  },
  {
   "cell_type": "code",
   "execution_count": 22,
   "metadata": {},
   "outputs": [
    {
     "name": "stdout",
     "output_type": "stream",
     "text": [
      "Beauty and the Beast (2017)\n",
      "The Fate of the Furious\n",
      "Guardians of the Galaxy Vol. 2\n",
      "Logan\n",
      "Kong: Skull Island\n",
      "Pirates of the Caribbean: Dead Men Tell No Tales\n",
      "The Boss Baby\n",
      "Fifty Shades Darker\n",
      "Your Name.\n",
      "xXx: The Return of Xander Cage\n"
     ]
    }
   ],
   "source": [
    "for i in range(1,11):\n",
    "    print (doc2.find_all(\"tr\")[i].b.text)"
   ]
  },
  {
   "cell_type": "markdown",
   "metadata": {},
   "source": [
    "Display as strings the top 10 films by name and worldwide gross. Like this:\n",
    "\n",
    "`Beauty and the Beast (2017) $502.2\n",
    "The Fate of the Furious $223.9\n",
    "Guardians of the Galaxy Vol. 2 $356.7\n",
    "Logan $226.2\n",
    "Kong: Skull Island $167.8\n",
    "Pirates of the Caribbean: Dead Men Tell No Tales $117.6\n",
    "The Boss Baby $171.0\n",
    "Fifty Shades Darker $114.4\n",
    "Your Name. $4.9\n",
    "xXx: The Return of Xander Cage $44.9`"
   ]
  },
  {
   "cell_type": "code",
   "execution_count": 23,
   "metadata": {},
   "outputs": [
    {
     "name": "stdout",
     "output_type": "stream",
     "text": [
      "Beauty and the Beast (2017) $1,241.3\n",
      "The Fate of the Furious $1,229.4\n",
      "Guardians of the Galaxy Vol. 2 $818.6\n",
      "Logan $612.4\n",
      "Kong: Skull Island $565.9\n",
      "Pirates of the Caribbean: Dead Men Tell No Tales $510.5\n",
      "The Boss Baby $483.6\n",
      "Fifty Shades Darker $378.8\n",
      "Your Name. $354.4\n",
      "xXx: The Return of Xander Cage $346.1\n"
     ]
    }
   ],
   "source": [
    "for i in range(1,11):\n",
    "    print (doc2.find_all(\"tr\")[i].b.text, doc2.find_all(\"tr\")[i].find_all(\"b\")[1].text)\n",
    "#your are actually showing the domestic gross"
   ]
  },
  {
   "cell_type": "markdown",
   "metadata": {},
   "source": [
    "Display the link for the movie `Logan`:"
   ]
  },
  {
   "cell_type": "code",
   "execution_count": 24,
   "metadata": {},
   "outputs": [
    {
     "data": {
      "text/plain": [
       "'http://www.boxofficemojo.com/movies/?id=wolverine2017.htm'"
      ]
     },
     "execution_count": 24,
     "metadata": {},
     "output_type": "execute_result"
    }
   ],
   "source": [
    "logan = doc2.find_all(\"tr\")[4]\n",
    "logan.a[\"href\"]"
   ]
  },
  {
   "cell_type": "markdown",
   "metadata": {},
   "source": [
    "Create a list for `Logan` that looks like this:\n",
    "\n",
    "`['4', 'Logan', 'Fox', '$612.4', '$226.2', '$386.2']`"
   ]
  },
  {
   "cell_type": "code",
   "execution_count": 25,
   "metadata": {},
   "outputs": [
    {
     "name": "stdout",
     "output_type": "stream",
     "text": [
      "['4', 'Logan', 'Fox', '$612.4', '$226.2', '$386.2']\n"
     ]
    }
   ],
   "source": [
    "logan_list = []\n",
    "logan_list.append(logan.find_all(\"td\")[0].font.text)\n",
    "logan_list.append(logan.find_all(\"td\")[1].a.b.text)\n",
    "logan_list.append(logan.find_all(\"td\")[2].text)\n",
    "logan_list.append(logan.find_all(\"td\")[3].font.text)\n",
    "logan_list.append(logan.find_all(\"td\")[4].font.text)\n",
    "logan_list.append(logan.find_all(\"td\")[5].font.text)\n",
    "print (logan_list)"
   ]
  },
  {
   "cell_type": "markdown",
   "metadata": {},
   "source": [
    "Here is some premade code. If you got your headers list and your logan_list right, this will make you a nice dictionary for Logan."
   ]
  },
  {
   "cell_type": "code",
   "execution_count": 26,
   "metadata": {},
   "outputs": [
    {
     "name": "stdout",
     "output_type": "stream",
     "text": [
      "{'Rank': '4', 'Title': 'Logan', 'Studio': 'Fox', 'Worldwide': '$612.4', 'Domestic': '$226.2', 'Overseas': '$386.2'}\n"
     ]
    }
   ],
   "source": [
    "logan_dict = dict(zip(headers, logan_list))\n",
    "print(logan_dict)"
   ]
  },
  {
   "cell_type": "markdown",
   "metadata": {},
   "source": [
    "## Advanced Challenge\n",
    "Pitchfork is no go, so try to get out all of the artists and albums (and synopses) from NPRs 2015 list: http://www.npr.org/2015/12/07/458447213/npr-musics-50-favorite-albums-of-2015\n",
    "\n",
    "Use as many cells as you would like, and don't forget to make a new URL request and a new beautiful soup variable"
   ]
  },
  {
   "cell_type": "code",
   "execution_count": 27,
   "metadata": {
    "collapsed": true
   },
   "outputs": [],
   "source": [
    "raw_html3 = urlopen(\"http://www.npr.org/2015/12/07/458447213/npr-musics-50-favorite-albums-of-2015\").read()"
   ]
  },
  {
   "cell_type": "code",
   "execution_count": 28,
   "metadata": {},
   "outputs": [],
   "source": [
    "doc3 = BeautifulSoup(raw_html3, \"html.parser\")"
   ]
  },
  {
   "cell_type": "code",
   "execution_count": 29,
   "metadata": {},
   "outputs": [
    {
     "name": "stdout",
     "output_type": "stream",
     "text": [
      "AFRICA EXPRESS PRESENTS : Terry Riley's In C Mali\n",
      "Terry Riley's iconic In C, originally composed in 1964, is an infinitely malleable feast of sound: It's a piece playable by any group of musicians for whatever duration they desire. Here, it travels to West Africa with a group of performers playing instruments like the ngoni lute, the xylophone-like balafon and the kora, a cousin of the harp along with guitar, melodica and vocals. Their ranks include such English and American heavy-hitters as Brian Eno, Damon Albarn and the Yeah Yeah Yeahs' Nick Zinner. Earlier this year, Terry Riley himself told me that this conception of In C was incredibly creative, and \"treated so freely that you see it as a whole new piece.\" What higher compliment could there be for this fresh-sounding, absolutely transporting 41-minute ride? —Anastasia Tsioulcas\n",
      "--------------\n",
      "ALABAMA SHAKES : Sound & Color\n",
      "Even though we were momentarily distracted this year by Brittany Howard's alter ego garage punk band Thunderbitch, it all comes back to Sound & Color, Alabama Shakes' second album. It's a timeless yet transformative album for the Shakes, who shake loose the roots-rock conventions of their debut, Boys & Girls. The band members unhinge any notion of what a \"roots-rock\" band is capable of if it's willing to be daring, experimental, and on some level, not willing to give a f***. Sound & Color is rooted in psychedelic soul like The Chambers Brothers, The Isleys, Sly & The Family Stone's There's A Riot Goin' On and Cloud Nine era Temptations sides. You'll find the blues and R&B; here; a dirty, gritty Stax bottom and touches of punk and classic rock. Sound & Color is a construct of sound (that voice) and vision (Zeppelin soul-stew). The results are invigorating and liberating, warm and easy to love. —Bruce Warren (WXPN)\n",
      "--------------\n",
      "ANTHONY de MARE : Liaisons — Re-imagining Sondheim From The Piano\n",
      "Stephen Sondheim fanatics and first-timers can discover a treasure trove of delight and despair in pianist Anthony de Mare's lovingly wrought 36-song tribute to the great man of Broadway. Ten years ago, de Mare began commissioning three dozen composers to each revamp a Sondheim song for solo piano. The list reads like a who's who of today's top American composers, from Steve Reich, William Bolcom and Frederic Rzewski to Nico Muhly, Tania León and Jake Heggie. The moods swing (sometimes literally, as in the version of \"That Old Piano Roll\" from Follies by Wynton Marsalis) from a perky take on \"Into the Woods\" by Andy Akiho, for prepared piano, to a wrenching portrait of regret in Ethan Iverson's poignant reworking of \"Send in the Clowns.\" Fred Hersch's \"No One is Alone\" pays respect to the original, while Daniel Bernard Romain's brilliant \"Another Hundred People\" deconstructs the show stopper from Company with wistful complexity and a hint of Radiohead. —Tom Huizenga\n",
      "--------------\n",
      "ASHLEY MONROE : The Blade\n",
      "29-year-old Ashley Monroe is a well-heeled Nashville pro in vintage go-go boots. Two solo albums into her adult career, the Pistol Annie (alongside Miranda Lambert and Angaleena Presley) and Vince Gill protégé has made an album that's both utterly assured and frankly ambitious. The Blade is virtuosic on so many levels, from the wide and deep emotional intelligence of the songwriting to the way it traverses styles, showing her well-cultivated grasp of Glen Campbellesque pop and bluegrass, vanilla pop and serious torch and twang. Never clever just for the sake of it, always luminous in her insights, Monroe sings of day-to-day heartache and small joys in the kind of calm, generous voice we all need in today's lonesome world. —Ann Powers\n",
      "--------------\n",
      "BEAUTY PILL : Describes Things As They Are\n",
      "Few records felt more alive in 2015 than the D.C. band's Beauty Pill Describes Things As They Are, which is saying a lot since it took eight years to make and during that time, bandleader Chad Clark's heart nearly killed him. It's a hell of a story, but it'd only be a story if the record didn't pulse ecstatically with a gorgeous patchwork of samples, floating atmospheres and funky rhythms (\"I got more into technology because I could not lift a guitar,\" Clark told All Things Considered) that work in and against weighty themes of mortality, perspective and survival. —Lars Gotrich\n",
      "--------------\n",
      "BOMBA ESTEREO : Amanecer\n",
      "When the two musicians who make up Bomba Estereo first hit the scene over ten years ago, no one knew quite what to make of them. Where they a one hit wonder? A fun electronica band? An alternative to stale Latin pop? Since then, not being able to define the Colombian duo has become one of its most endearing qualities. Through the course of their career they've managed to pen electronic dance hits, odes to Colombia's African heritage and ethereal, melancholy anthems. They can wow the Alternative Latin crowd and the Top 40 followers. They are fine on their own, but if Will Smith wants to join on a remix, cool. The new album, Amanecer, is like everything Bomba Estereo does, in that it's not quite like anything they've ever done before. \"Fiesta\" is Colombian carnival in a jar, for you to open at a European nightclub, and \"Mar (Lo Que Siento)\" is like lying on a beach after a night of dancing. Bomba Estereo doesn't just have one of the albums of the year. It's one of the best bands to come out of Latin America in the last decade. —Jasmine Garsd\n",
      "--------------\n",
      "BOSTON MODERN ORCHESTRA PROJECT : Play (Andrew Norman)\n",
      "Already, at just five seconds into Andrew Norman's Play, you've tumbled through some kind of rabbit hole into a spectacular wonderland of sounds. The music is bold, ferocious and rigorously built, yet can also shine with wit and tenderness. The 43-minute symphonic thrill ride just may be the finest large-scale orchestral work so far in the 21st century. The title is a play on words: Norman sees a story arc with characters in the piece, while admitting it's also about the sheer physicality of playing such rambunctious music. The committed, playful performance by Gil Rose and his Boston Modern Orchestra Project is nothing short of heroic. Play is a roller coaster with an intellectual component. It takes you for a ride that stimulates the brain, leaves you breathless but anxious to play again. —Tom Huizenga\n",
      "--------------\n",
      "BRANDI CARLILE : The Firewatcher's Daughter\n",
      "For many years, the singer-songwriter Brandi Carlile has been striving toward a breakthrough, making albums that showcase her chills-giving voice in settings that should have made her a pop star. On her fifth studio album and her first for an independent label, Carlile gave up. She gave up other people's star-making ideas, the quest for perfection, and the nervous nursing of a well-bottled sound. Instead, Carlile and her core bandmates, Phil and Tim Hanseroth, booked some studio time and ran wherever their inspiration took them, keeping in mind the devoted audience that believes in Carlile's frankness and sincerity. Moving from deep harmonies to playful garage rock, clarifying the confessional style Carlile had already perfected, she and the twins focused on the elemental stuff: the joy of their young children and the commitment demanded by their marriages; the fears and pleasures that occupy, as one song here says, blood, muscle, skin and bone. What they happened upon is glorious. It unlocks the true meaning of heartfelt. —Ann Powers\n",
      "--------------\n",
      "CARLA MORRISON : Amor Supremo\n",
      "There is nothing like a Carla Morrison love song. Her emotionally powerful lyrics, which get right to either the joys or pains of giving all of yourself to another, have very few peers in either English or Spanish. The Mexican-born Morrison certainly has the history of the bolero to draw from in terms of gut wrenching emotion, but she takes it to a completely different place on this album with lingering melodies couched in production that dramatically draws the attention back to the heart. Amor Supremo is a major artistic step forward in a career that Morrison continues to keep in her control by staying with an indie label that lets her be who she wants rather than forcing her into the mold of another disposable, over-produced major label pop starlet. Her music, accordingly, has a very long shelf life. —Felix Contreras\n",
      "--------------\n",
      "CARLY RAE JEPSEN : E•MO•TION\n",
      "The biggest stars of this pop moment are queens of self-empowerment. Beyonce, Rihanna, Taylor Swift and Adele all glint like flawless motivational totems. (Are there any men we should include in this conversation? There are not.) Maybe the reason Carly Rae Jepsen stands apart from this field is that she can't keep need out of her songs. E•MO•TION (all three syllables get equal heavy emphasis) is a heart-bursting '80s-indebted album levitating on Jepsen's desires: to run away with you, to be there with you, to take the long way home, for you to dream about her, for you to brush her hair behind her ear. She's coming to hijack you. She needs to tell you something. It's the year's thirstiest pop album and its most recognizable, the only one where you'll hear the lyric \"I think I broke up with my boyfriend today and I don't really care,\" on an ode to friendship-maintenance. It may have failed to cement Jepsen in pop's firmament, but it gave us a capable, earnest, thoroughly human star-next-door for the ages. —Jacob Ganz\n",
      "--------------\n",
      "CECILE McLORIN SALVANT : For One To Love\n",
      "The jazz world is buzzing about the performances of a 26-year-old singer named Cecile McLorin Salvant. Her new album, For One To Love, is a good snapshot of why. Her proficiencies are broad: fast or slow, full gas to whisper soft, croaks and clarity and precision and bleed. Her palette is both broad and odd: love songs, loveless songs, French songs, really old songs, bawdy and sometimes fundamentally strange really old songs, disquieting and overtly racist and sexist songs (purposefully so) and now five unconventionally structured original songs. Do also note how this music has grown up around a band — pianist Aaron Diehl's trio — and how that relationship makes all these costumes not only wearable, but elegant. Someone more prone to grand pronouncement may inveigh that this all adds up to a postmodern auteur's vision for jazz vocals, one strewn with organic peculiarities and historical provocation and a nascent personal songwriting voice. Mostly it gets you pumped to see her perform live — as a great jazz record should. —Patrick Jarenwattananon\n",
      "--------------\n",
      "Chris Stapleton : Traveller\n",
      "At the start of 2015, people knew Chris Stapleton for his country hit-writing, studio session singing and bluegrass band-fronting, if they knew him at all. Such is the rep of a guy who's spent the last decade and a half either behind the scenes or on smaller stages. Stapleton's debut solo album Traveller — which received a mighty bump in popularity from his CMA Awards sweep and show-stopping on-screen Justin Timberlake duet — finally shifted the emphasis to his magnetism as a marquee performer. Even when you subtract the visual of Stapleton's bearded, mountain man mien, his ruggedly masculine soulfulness comes through in the music, a potent stew of stoicism and sentimentality, excess and gravity, tenderness and melancholy. A big part of it is the songs, built from a sturdy, whiskey-drenched country lexicon of primal need, along with Dave Cobb's naturalistic production. But it's the voices that really get you, not only Stapleton's resonant, tortured roar — as gritty and dynamic as anybody's in his business — but the incandescent harmonizing of his wife Morgane, a powerhouse singer in her own right. —Jewly Hight\n",
      "--------------\n",
      "CHRISTIAN SCOTT aTUNDE ADJUAH : Stretch Music\n",
      "The trumpeter Christian Scott aTunde Adjuah has long been a lodestar for a loud subset of the millennial generation in jazz. Though raised through the Tradition Of Good Music in New Orleans, his course as a bandleader has consciously charted away from typifying said Tradition; it's a genre-agnostic sort of jazz fusion he calls \"stretch music.\" This album is named for that idea, and so the changes within are more iterative than revolutionary. An evolving band lineup adds more and younger horn players for more and different colors. A double-drummer team immerses all in percussion, including the earthy thud of various West African drums and the trap beat emulation of an electronic drum pad. This thing pops in headphones, due less to heavy compression than for the timber brought to the timbre. Scott has never had issues peaking in emotional intensity, and the tweaks here encourage that tendency, creating the most realized recording of his new-school calisthenic aesthetic to date. —Patrick Jarenwattananon\n",
      "--------------\n",
      "COLLEEN : Captain of None\n",
      "Cécile Schott and her viola da gamba make beguiling loop-based music together under the mononym Colleen. The unusual pairing, now in their 14th year together, reaches new heights on Captain Of None by aiming low; Schott's fifth album is her first to feature bass (via an octaver pedal). The addition was inspired by her deep love of Jamaican music, an affinity that extends to the album's acoustics. Generous coats of reverb transform Schott's pizzicato reveries into a world of echo. When she adds her voice to the mix, the results rival Arthur Russell at his most celestial. This is a melting pot of dub, electronic, classical and pop that sounds like nothing else released in 2015. —Otis Hart\n",
      "--------------\n",
      "COURTNEY BARNETT : Sometimes I Sit And Think, And Sometimes I Just Sit\n",
      "Courtney Barnett first emerged as a shambling slacker storyteller — the kind who'd take an anaphylactic attack and turn it into a long, easygoing, deadpan folk-rock ramble. On her first official full-length album, Sometimes I Sit And Think, And Sometimes I Just Sit, the Melbourne singer recasts herself as a full-blown rock star, while retaining the gift for wordplay and lightness that first attracted international attention. \"Pedestrian At Best\" channels Nirvana at its most blustery while filling the air with impeccably chosen words, but that song still fits neatly alongside the more thoughtful, laconically paced rumination of \"Depreston.\" Forcefulness and quotability abound, commingling comfortably with Barnett's approachable charm. —Stephen Thompson\n",
      "--------------\n",
      "DAYME AROCENA : Nueva Era\n",
      "I tell anyone who will listen that, for me, Cuban vocalist Dayme Arocena is a cross between Celia Cruz and Aretha Franklin. While I usually hate to use those kinds of comparisons, Arocena's name deserves to be alongside those two legendary voices. With a voice that is a rich as the deep Cuban mahogany called cahoba, she is steeped in the Afro-Cuban Santeria tradition and she sings with a combination of a jazz sensibility and African-American gospel fervor. The result is an album full of material that basically redefines what you might think of as Cuban music. While she isn't the only young Cuban musician turning heads and catching ears, after hearing Nueva Era you'll see why she deserves to be standing in the front of that genre-defying pack. —Felix Contreras\n",
      "--------------\n",
      "DEAD TO A DYING WORLD : Litany\n",
      "In the apocalypse that Dead to a Dying World imagines, natural resources are depleted by our own doing, and we are suffering dearly for it. On Litany, the Dallas seven-piece blurs the spaces between crust-punk, black- and doom-metal with movements that gnash teeth one moment and bow in supplication the next. To intone these grim hymns, members of Pallbearer, Sabbath Assembly and Pinkish Black offer their voices in support of the band's dual vocalists, often joined by the drawn-out melodies played on a viola. Make no mistake, Litany is 72 minutes of savage bleakness, but is rendered with a metallic reverence befitting a Cormac McCarthy novel. —Lars Gotrich\n",
      "--------------\n",
      "DJ SOTOFETT : Drippin' For A Tripp\n",
      "One of the most peculiar LPs to come out in 2015 was DJ Sotofett's Drippin' for a Tripp. Everything from its hip-hop mixtape-inspired sleeve art to its blend of ambient, west-African and techno influences felt like nothing else that came out this year. Sotofett's own record label, Sex Tags Mania, has put out consistently oddball singles and EPs for over a decade ... safe to say that very little about this artist is traditional. But even with an unusual mix of sounds, the end result isn't difficult. Whether the breezy Balearic warmth of the \"Main Bar Mix\" or the early morning lullaby chanted over \"Nondo,\" Sotofett manages to sound alien without alienating. —Sami Yenigun\n",
      "--------------\n",
      "EARL SWEATSHIRT : I Don't Like S***, I Don't Go Outside\n",
      "Earl Sweatshirt has absorbed enough hypocrisy and disappointment in his 21 years to fell a lesser man; he's also been the recipient of some no joke emotional home training and the beneficiary of his own hard work. As a result, he's operating with better information, he's more in command of his history and he sees you. Plus: You know how you keep a list of books you want to read? He finished them. It's real crazy how often he's patronized by writers. If you don't know his story, here you go. On I Don't Like S***, I Don't Go Outside, Earl code-switches between high and low, between language that's therapeutic and four-letter, like a pro. He is, at times, a comedian who takes as his subject the fear of adulthood's loneliness. But when you listen to this album, you have to remember that he was done with it months before you got there. I'm always smiling listening to Earl. He makes me feel like the rewards of solitary pursuits are real and levitational and there for everybody. —Frannie Kelley\n",
      "--------------\n",
      "FLOATING POINTS : Elaenia\n",
      "Funk and jazz have colored Floating Points' music for the better part of a decade, but for the most part they've been used as references within dance music. The U.K. producer, whose real name is Sam Shepherd, has crafted DJ sets and productions rich with lively keys and swinging percussion, usually with a steady bass kick underneath. For his long-awaited debut LP, Eleania, Shepherd filtered the dance floor thump out of the mix but left the jazz intact, making for one of the years dreamiest full lengths. This is no traditional jazz record. Synths loop patiently, running up and down steady arpeggios. More often than not Shepherd develops his sounds rather than his scales. Stringy ribbons turn into scratchy textures; oddball synths duck in and out of the mix. It almost sounds as if it's one long jam, layered sounds that make sense only after they've danced next to each other for a little while. It's more subdued music than what Shepherd is traditionally known for, and much of its beauty lies in that calm. —Sami Yenigun\n",
      "--------------\n",
      "FLORENCE + THE MACHINE : How Big, How Blue, How Beautiful\n",
      "Florence Welch has always been able to conjure weather with her voice, but never before has the English singer marshaled a set of tunes to match the bluster. For How Big, How Blue, How Beautiful, she worked with the producer Markus Dravs (Arcade Fire, Björk, Mumford & Sons) to pare the arrangements back without diminishing the drama, and the result is emotional precision where her previous albums simply aimed to blow you over. There were already few singers who could match Welch for vocal power, but on songs like \"Queen of Peace\" and \"Long & Lost\" she lets pain mix with the pageantry and lands somewhere near the tarnished uplift of Rattle & Hum-era Bono, only more concerned with seeing herself clearly than standing next to heroes. On \"Mother,\" she sings herself into Robert Plant territory, and asks a maternal spirit to make her into a \"big tall tree\" and a \"bird of prey.\" As if she weren't already a force of nature. —Jacob Ganz\n",
      "--------------\n",
      "FOUR TET : Morning/Evening\n",
      "Almost two decades into his recording career as Four Tet, it is less of a wonder that Kieran Hebden's music continues to grow than that its evolution seems so natural and effortless. On the one hand, the atmospheric techno ragas making up this linear narrative bear familiar Four Tet traces: inviting melodic touches and use of voices, a supple (yet firm) rhythmic hand and a warm spirit to the overall proceedings. On the other, there's little precedent in Hebden's recorded catalog for a hypnotic two-chapter (see album title) cycle that begins with what'd best be described as a Bollywood remix, unfolding into an elemental, new-age journey — and ending with a drum machine circle. Is it all the gigs he's been playing on the Mayan Riviera? Is it an exploration of familial roots? It doesn't really matter, as long he continues doing whatever it is that he does. —Piotr Orlov\n",
      "--------------\n",
      "FUTURE : DS2\n",
      "Nayvadius Wilburn is a polarizing figure by nature. Some of us can't stop talking about him long enough to accept criticism, while others cover their ears, close their eyes and rattle off nonsensical mumblings to avoid discussing him. At the end of the day, Future, as we best know him, is unabashedly true to himself — and his latest solo record, DS2, is the epitome of that quality. On the album, he's an honest a****** when he harks back to his time with and beyond his ex(es) (see: \"Groupies\"); he's an open book when he talks about his need to constantly self-medicate (see: entire album) and he finally evolves into the supernova trap star we've long been itchin' for (\"I Serve the Base\"). With DS2, which is bolstered by undeniably fire production (one time for Metro Boomin), Future finally ripped through the space-time continuum and reached a great deal of folks stranded on Earth, not quite able to make the trip to Pluto to join him in years past. —Kiana Fitzgerald\n",
      "--------------\n",
      "THE GAME : The Documentary 2\n",
      "Through constant criticism and scrutiny, The Game has stuck to his guns, making the music he's wanted to make for over 10 years. He's also a reality TV star who still finds himself in a rap beef every so often, keeping him in tabloids. On The Documentary 2 & 2.5, he broke every current industry rule. For starters, rap sequels virtually never live up to the expectations created by the original. Released with just a week in between them, each of these two albums is essentially a double LP, clocking in at a total of 151 minutes of music stocked with nearly 60 guest appearances. But almost all of the features mesh perfectly with Game's chameleonic ability on the mic. Documentary 2 delves deeper into the stories of his debut with dramatic cohesiveness and The Game spits with the exhilaration of rookie and production choices that display a perfect balance of quintessential west coast G-Funk, Boom Bap and Trap. For better or worse, The Game is living proof that good art trumps all. —Bobby Carter\n",
      "--------------\n",
      "GIRLPOOL : Before The World Was Big\n",
      "There's power in simplicity and synchronicity. Girlpool is two young women (teens when they recorded this album) who sing strained and resounding songs of an innocence deep inside. Cleo Tucker plays guitar and Harmony Tividad plays bass. Though their unison singing style may be off-putting to some, for me it magnifies the fading child they often write and sing about. \"I just miss how it felt standing next to you, wearing matching dresses before the world was big,\" they sing on the album's title track. That's a hint of the vulnerability shared on Before The World Was Big, ten songs played and sung in less than twenty-five delightful, pleasantly angst-filled minutes. —Bob Boilen\n",
      "--------------\n",
      "IBEYI : Ibeyi\n",
      "Ibeyi's self-titled debut is, in many ways, an album about absences. Lisa-Kainde and Naomi Diaz, young Parisian twin sisters raised in France and Cuba, reflect heavily on the losses in their lives — the deaths of their older sister and musician father, most notably — in songs that invoke Santería tradition, incorporate several languages (English, Yoruba, French) and pepper the mix with dryly snappy Afro-Cuban percussion. But the absences extend beyond inspiration: Appropriately enough, Ibeyi is an album in which silence is a central presence, in spare arrangements that deploy voices (both sung and chanted), piano, drums and programming with an eye toward minimalism. The subtlety of it all is hard to distinguish from boldness. —Stephen Thompson\n",
      "--------------\n",
      "ICE : In the Light of Air (Anna Thorvaldsdottir)\n",
      "With its rumbling, atmospheric textures, In the Light of Air could serve as a soundtrack to the beautifully austere landscapes of Iceland. Booming bass drums, droning cellos, scratchy strings and subtle electronics, performed by ICE (International Contemporary Ensemble), sound like stand-ins for spurting geysers, bleak lava fields and smoldering volcanoes in this continuously flowing four-movement suite. The music, composed for ICE, is by Anna Thorvaldsdottir, a 38-year-old Iceland native who holds a PhD in composition from the University of California, San Diego. She even designed her own percussion instruments, the klakabönd, which hang like giant snowflakes but sound like gongs. The music moves slowly, deliberately from one intricate intermixture to another, pulling you in with subtle colorations and a cinematic sense of place. —Tom Huizenga\n",
      "--------------\n",
      "THE INTERNET : Ego Death\n",
      "The Internet's Ego Death is a breath of fresh air, redefining the R&B; realm by living outside of the genre's archaic definition. The collective's third studio album explores the many shades of soul, implementing elements of jazz and hip-hop throughout the 12-track jam session. The album's few guest appearances — Janelle Monáe, Vic Mensa, James Fauntleroy, Steve Lacy and Tyler, the Creator — play as adornments more than pillars. Some amplify a song melodically, such as Monáe's enchanting ad-libs on the latter end of \"Gabby\" and Fauntleroy's sweet oohs throughout \"For the World.\" And while the production, rich as it is, is what lures you in, the group's lead singer and Odd Future member Syd tha Kyd's storytelling is the grasp; it paints an intimate world for two people who go through highs and lows because of hope and doubt. Syd explores thoughts of love that many can begin only fathom, let alone act on. —Erika Ramirez\n",
      "--------------\n",
      "JAMIE XX : In Colour\n",
      "Let's start with one of the songs of the summer. Before In Colour was even officially released, when it was still in its leaked infancy with Jamie \"xx\" Smith playing its tracks in his DJ sets, the greatness of \"I Know There's Gonna Be (Good Times)\" was already rumored and agreed-upon. Built from a sample of a 1972 a cappella track by The Persuasions, adding vocals from roots reggae crooner Popcaan and one of the year's most discussed MCs, Young Thug, it was about as natural and feel-good a crossover song as could be hoped for in 2015, perfect on street-corners, beaches and three different types of dance-floors. Of course the album had other highlights: moments of globally aware, soulful and ravey pop, as well as a thoroughly modern sonic sheen that strived to be this year's model of timelessness, and achieved its goal. Good times indeed. —Piotr Orlov\n",
      "--------------\n",
      "JASON ISBELL : Something More Than Free\n",
      "Jason Isbell has always been a consummate spinner of tales, exploring themes of hard work, small towns, addiction, loss, recovery, family — the ups and downs and sideways of life. Something More Than Free offers plenty of musical variety: There's a traditional honky-tonk country feel on the opening track, \"If It Takes A Lifetime,\" echoed on \"Teach Me To Forget,\" a more modern Americana sound on \"The Life You Chose\" and gentle folk reflection on \"Hudson Commodore.\" The most revelatory aspect of Something More Than Free is Isbell's voice. His lyrics, musical craft and the album's production value keep his voice front and center. Sexy, gentle, angry, frustrated, content, sad — every emotion he sings about, every story he tells, every character he creates is made real for us. Jason Isbell is doing what Jason Isbell does: telling stories. But the layers of meaning he reveals as you listen more carefully make the music that much more powerful. —Elena See (Folk Alley)\n",
      "--------------\n",
      "JAZMINE SULLIVAN : Reality Show\n",
      "R&B;'s most slept-on singer-songwriter — and Sam Smith favorite — is blessed with a ninth-wonder-of-the-world voice: She sounds sly, raspy, nimble, battleship-sturdy, gospel-drenched, emotionally devastating. On her third studio album, Reality Show, that voice self-effacingly takes a backseat to a savvy marketing concept — to explore subcutaneous aspects of urban drama otherwise co-opted and made simplistic by cable pulp reality TV programs like Love & Hip Hop and R&B; Divas. On suspense-laden tunes like \"Stupid Girl\" and \"Veins,\" Sullivan and her collaborators (including producers Salaam Remi and Anthony Bell) have delivered a musical treatise on the inner life of contemporary black womanhood in this difficult cultural moment where twerking, Rachel Dolezal and Sandra Bland mean no one can afford to be neutral. The music is eclectic, tough, seductive, full of tension: There's the \"Jesus Walks\"-esque march \"Dumb\" (featuring Meek Mill); the blues lament \"#HoodLove;\" the alt-soul drift \"Mascara\"; the bleeding acoustic guitar lament \"Forever Doesn't Last\"; the electro disco \"Stanley\"; the chromatically jazzy \"Silver Living.\" This is one reality show you shouldn't miss. —Jason King\n",
      "--------------\n",
      "JOAN SHELLEY : Over and Even\n",
      "Many of the best albums demand your attention; Joan Shelley's Over And Even does it by gently tapping you on the shoulder and lulling you into her world. The Kentucky singer and writer of some of 2015's most pastoral and placid songs has made an album that is loosely threaded to the British folk tradition of the 1960s. Shelley and her musical partner guitarist Nathan Salsburg weave a melody with their fingers while Joan paints a setting with her words:\n",
      "--------------\n",
      "JOANNA NEWSOM : Divers\n",
      "\"Anecdotes cannot say what Time may do,\" Joanna Newsom trills at the opening of her fourth studio album, playfully presenting the philosophical puzzle that she then shows has infinite moving parts. How can a storyteller confront experiences that defy narrative: generation, death, the stringlike bendability of time? Newsom's songs, grounded in her harp playing and inimitable soprano, render these heavy topics wondrous. Her intricate wordplay is unmatched in current pop. On Divers, she masters her voice and overall sound in ways that make for essential listening. —Ann Powers\n",
      "--------------\n",
      "KACEY MUSGRAVES : Pageant Material\n",
      "Kacey Musgraves' 2013 debut, Same Trailer Different Park, mixed anthems about individuality with heartbreakingly wrought ballads about small-town life and the forces that compel us to settle for less than we want. By comparison, Pageant Material actually feels more like a debut, leaning heavily on mission statements that define Musgraves' public persona: the mind-your-own-beeswax mantra that drives \"Biscuits,\" the I-am-who-I-am self-definition of \"Dime Store Cowgirl\" and so on. Pageant Material could stand more of the winsome ache that made its predecessor so enduring, but the songs are far too ingratiating to resist across the board, from the aforementioned holler-along ringers to gorgeous, sweet-natured ballads like \"Late To The Party.\" —Stephen Thompson\n",
      "--------------\n",
      "KAMASI WASHINGTON : The Epic\n",
      "What happens when one of the linchpins of a quietly humming, tight-knit L.A. jazz scene buckles down for a month in the studio with his usual working band, plus a 32-member orchestra and 20 vocalists? You get a sprawling three-disc, three-hour feat that's heroic in scale and skill alike. Kamasi Washington's The Epic is vertically expansive music that attains both rich depth and soaring height. Washington's arrangements build up those voices and strings in grand layers, while his own tenor sax tone is aggressive and huge. Bassists Thundercat and Miles Mosley and drummers Tony Austin and Ronald Bruner Jr. (Two of each? You bet.) keep everything grounded in the groove even as the tunes get sweepingly spacey. —Rachel Horn\n",
      "--------------\n",
      "KENDRICK LAMAR : To Pimp A Butterfly\n",
      "Almost as soon as To Pimp a Butterfly dropped, it was weighted down with hyperbole: Our Most Important Rapper had just released The Blackest Album Since Chuck D An' 'Em (and Maybe Marvin.) Yet there's almost no way those characterizations could feel like overstatement this year — Butterfly is a wildly ambitious album thoroughly concerned with the matter of black lives. And since Kendrick doesn't really do easy, he gave us something far chewier to gnaw on. (\"Alright\" quickly became an unofficial anthem for young activists around the country, even while \"The Blacker the Berry\" turns on some of the very \"but what about black-on-black violence?\" sentiments so often weaponized against those activists.) Kendrick can be pretty damn didactic on Butterfly, but he's also thinking bracingly out loud, trying on some big musical and societal ideas on for size. How serendipitous, then, that as the harrowing, messy stories of race and blackness and violence in 2015 unspooled, Kendrick happened to be the cat holding the talking stick? —Gene Demby\n",
      "--------------\n",
      "LOW : Ones and Sixes\n",
      "Somehow both airy and heavy, Low's exquisite, dramatically slow-paced rock has proved incredibly durable and diverse in the more than 20 years since its debut. Without radically speeding up or broadening its palette, the Minnesota band has still found a way to make a dozen albums that each sound different — and that, in the case of Ones And Sixes, find surprising ways to explore new terrain and set new moods. Long-married bandleaders Alan Sparhawk and Mimi Parker use Ones And Sixes as a showcase for some of their most haunting and discordant sounds, without sacrificing the crystalline beauty on which they've made their names. Grace has rarely felt so uneasy; uneasiness has rarely sounded so graceful. —Stephen Thompson\n",
      "--------------\n",
      "MBONGWANA STAR : From Kinshasa\n",
      "The sudden and sad collapse of Congolese soukous band (and documentary film stars) Staff Benda Bilili had a happy ending after all. The inspirational act's polio-stricken stars, Coco Ngambali and Theo Nsituvuidi, rose from the ashes to herald a defining moment in transglobal music: From Kinshasa. \"Mbongwana\" is Lingala for \"change,\" and there's no shortage of innovation on this unpredictable record. The seven-piece ensemble's roots remain deep beneath the streets of the DRC's capital, but its ambition extends to the astral plane, absorbing post-punk, funk and techno along the way. The journey feels nothing short of a new world order. Don't hesitate to hitch your wagon to Mbongwana Star. —Otis Hart\n",
      "--------------\n",
      "ORIGINAL BROADWAY CAST RECORDING : Hamilton\n",
      "\"You think you cry listening to the soundtrack?\" Lin-Manuel Miranda asked the crowd at an artist talk this fall, interrupting his own story about the writing of Hamilton's mournful finale. It got a laugh, and not just because a roomful of fans knew they were busted. That a hip-hop leaning, racially diverse, history-obsessed musical could do blockbuster numbers and forge breakout stars was surprise enough for one year. That its nearly three-hour cast album found a life on its own, making diehards out of the theater-agnostic (and spawning one very funny Star Wars meme) felt more like a once-in-a-lifetime marvel. Hamilton's success is as layered and irreducible as its music, which Miranda correctly predicted would be catnip for rap scholars; like the best hip-hop lyrics, its significance is inseparable from its context. But there's a rare delight in knowing that the show's creators — not least its 35-year-old composer and leading man, as much an overachiever as the dude on the $10 bill — are likely just as amazed as the rest of us. —Daoud Tyler-Ameen\n",
      "--------------\n",
      "PATTY GRIFFIN : Servant of Love\n",
      "What does it mean to be a restless soul? Patty Griffin has always explored such essential questions in her image-rich, shatteringly beautiful songs. On her first self-released album in a long career of high points, she considers the basic human urge to move and change as much in her music as in her storytelling. The title track is a piano ballad Nina Simone would have appreciated; later, there's gospel, a dip into Eastern modalities, a funny rockabilly romp. What's more dazzling than the album's variety, though, is the depth of exploration within each song. Working with an array of great, seasoned players, Griffin and her producer, Craig Ross, create setting that are subtly cinematic, adding deep layers to the writer's tales of slippery love and sustaining faith. \"I'm gonna shine a different way,\" Griffin sings in the album's hymnlike final track; here, she shines in so many ways, like a diamond. —Ann Powers\n",
      "--------------\n",
      "RHIANNON GIDDENS : Tomorrow Is My Turn\n",
      "The joy inherent in the Carolina Chocolate Drops frontwoman's solo debut isn't just her impeccable taste in cover material, ranging from gospel to country to folk to soul. It's also the palpable delight Giddens takes in covering it. She re-interprets Patsy Cline and Nina Simone and Sister Rosetta Tharpe not because their music needs updating, but because she wants to make sure a new group of listeners finds out how good it is. Album standout \"Black Is The Color,\" made famous by Simone, especially showcases Giddens' strengths in full and dazzling array: confidence, ebullience, seemingly effortless emotionality, gripping vocal range and undeniable sensuality. Tomorrow Is My Turn runs on an engine of irrepressible enthusiasm and a degree of sheer talent that, when encountered at full strength, is, fittingly, downright giddy-making. —Katie Presley\n",
      "--------------\n",
      "SAM LEE & FRIENDS : The Fade In Time\n",
      "When British singer and song collector Sam Lee and his band performed at our Tiny Desk this summer, more than one NPR Music staffer told me that they wound up in tears. The arrangements that appear on The Fade In Time are fabulously imaginative and sophisticated for sure, between the warm instrumentals (ranging from trumpet and cello to the Indian sruti box and a Japanese koto) and cleverly interlayed archival folk recordings. They form a gorgeous frame for Lee's voice and underline his undeniable passion for keeping these old songs from England, Ireland and Scotland alive, particularly those from \"outsiders\" like the Roma and the Scottish and Irish Travelers. With songs like the rolling \"Johnny O'the Brine,\" the haunting war ballad \"Bonny Bunch of Roses\" and the achingly lovely \"Blackbird\" beaded like gems on a necklace, I've played this brilliant album countless times already. You will, too. —Anastasia Tsioulcas\n",
      "--------------\n",
      "SAN FRANCISCO SYMPHONY : Absolute Jest (John Adams)\n",
      "Proving that contemporary classical music can pack plenty of wit and charm, here's an album that pops with musical jokes and masterful performances. In two substantial works, dating 30 years apart, John Adams, with humor, confronts the inevitable. Not death — but the ever-looming figure of Beethoven. Fragments from the master's string quartets and symphonies (\"tattoos\" Adams calls them) pop up, pile on and stretch out in Absolute Jest, a recent piece scored for orchestra with string quartet. Grand Pianola Music, which Adams composed in 1982 and once called \"a Whitmanesque Yawp,\" irreverently revels in the opulent, rolling arpeggios of Beethoven's \"Emperor\" Piano Concerto. The San Francisco Symphony, a longtime Adams champion, sounds born to the music whether led by its music director Michael Tilson Thomas (Jest) or the composer himself (Pianola). —Tom Huizenga\n",
      "--------------\n",
      "SUFJAN STEVENS : Carrie & Lowell\n",
      "Sufjan Stevens has released any number of albums that could, alone, define the prolific genius of his career, but Carrie & Lowell will go down as his most personal and heartbreaking. Gorgeously rendered in disarmingly simple piano and synth lines, it's a profoundly moving and emotionally raw account of Stevens' troubled relationship with his mother, a woman who suffered from mental illness and substance abuse and abandoned Stevens when he was a young child. Though the two reconnected years later when she was dying of cancer, much of the reflection on Carrie & Lowell draws from the faint memories Stevens had of her from his childhood. The anguish is almost unbearable as he attempts to fathom his mother's heart, particularly on \"The Fourth Of July,\" an imagined conversation in which she wishes Stevens a good life without her. \"And did you find enough love, my little dove? Why do you cry?\" Stevens sings in falsetto. \"I'm sorry I left, but it was for the best, though it never felt right.\" Stevens could be forgiven for feeling bitter. But as Carrie & Lowell draws to an end with the soaring and majestic \"Blue Bucket Of Gold,\" he finds nothing but love. —Robin Hilton\n",
      "--------------\n",
      "TORRES : Sprinter\n",
      "Mackenzie Scott, who writes and records as Torres, was adopted, grew up in the deep south and had a strict religious upbringing. And while she found much to love and appreciate, it was a life she often found herself running from. That's the foundation for much of the incendiary rock that scorches the landscape of Torres' acutely emotional, sophomore album. Blunt, unapologetic and at times vicious, Sprinter finds the 25-year old singer baring the scars left from a lifetime of traumatic relationships. She contemplates the complicated relationship she had with her parents, revisits her childhood and stares down her own mortality. Along the way she swings wildly from unfettered rage to crippling depression, making Sprinter one of the year's most potent rock records. —Robin Hilton\n",
      "--------------\n",
      "TY DOLLA $IGN : Free TC\n",
      "Free TC is the rehumanization of Roger Troutman's talk box, dragging it in the dirt rather than using its tonal implications to conjure some space age type of wooing. But still, if the spectrum of parental advisory has on one end Whoop!, the tape Ty$ made with Joe Moses, and \"Toot It and Boot It\" is in the middle, Free TC is the other end. In a world in which a truthfully monogamous relationship is the real unicorn, I find myself backed into a corner, a corner from where I respect the temerity in his warning: \"Feelings — don't catch those.\" Ty is believably preoccupied with three things: that real thing, nimble melodies and dynamics based off strings, on which he has said he spent $60,000 of his own money. He's a traditionalist at heart. The songs on Free TC express a limited range of emotions with a stacked palette. Listen to the interludes, in which Ty talks with his incarcerated brother: In one, he says his daughter teases him that he wouldn't look good if he cut his dreads. In another he's audibly shaken to hear about a lockdown in the prison. Once they say they love each other. TC himself sings on \"Miracle/Whenever,\" and breaks your heart, singing about what he's learned. But the back half of the song, when Ty takes over, is the moment when he stops f****** around. It's a moment that signals the arrival of the falsetto we deserve. While Frank Ocean is absent and D'Angelo is conflicted, Ty$ is impure, earthy, Claude Jeter fallen all the way down. He has no shame and it's such a relief. —Frannie Kelley\n",
      "--------------\n",
      "VIJAY IYER TRIO : Break Stuff\n",
      "A jazz musician receives plenty of encouragement to be promiscuous, at least on the bandstand; varied experiences add up to deeper artistry and fatter Rolodexes. Yet many of the bands seen as stanchions of the modern art have been stable for over a decade: groups like the Wayne Shorter Quartet, Jason Moran and the Bandwagon, The Bad Plus, Brian Blade and the Fellowship Band, the Maria Schneider Orchestra. Now joining that company is the Vijay Iyer Trio, whose eminence falls sharply into relief on its latest record Break Stuff. The shared lexicon between pianist Iyer, bassist Stephan Crump and drummer Marcus Gilmore — performing in an arrangement where each driver seems equally in control of the steering wheel — has grown enormously thick, ranging from experiments in acoustic glitchy techno (\"Hood\"); to standards in the spirit (if not the texture) of Monk, Coltrane and Strayhorn; to the original ballads of irresolute beauty which bookend the record. At times the harmonies or modes feel so murky or abstruse as to demand your full attention; the next moment they may snap into place with a heavy, head-nodding vamp. \"I'm interested in how things grow when no one's forcing them to,\" Iyer writes; he seems to hint at the longevity of his trio. Every member here is quite busy accruing promiscuity with other projects and duties; it all seems to merge in this setting. With a band so mutable, there's little wonder it finds ways to stoke its own fire, and great wonder at the heat it now generates. —Patrick Jarenwattananon\n",
      "--------------\n",
      "VINCE STAPLES : Summertime '06\n",
      "Vince Staples' Summertime '06 was ambitious, to say the least. Not simply because he had the audacity to put out a double album as his first full-length offering on a major label, but because he had to rise to the challenge of telling a gang-affiliated West Coast rapper's story in a way that hasn't been done before. We need look no further than the fact that 2015 saw an NWA biopic and Dr. Dre's \"final\" album to know the path of West Coast gangsta rap is well trodden. Staples separated himself from the pack with a moody, cohesive project that showed his many facets as a man and not just a G'ed up caricature. He's a gangsta, but that doesn't preclude him from also being a romantic (\"Loca,\" \"Lemme Know\"), a critical thinker (\"Lift Me Up,\" \"Jump Off The Roof\") and a vulnerable person despite how the world perceives him or how hardened he's become due to his lifestyle (\"Summertime\"). He reminds us that a G is often more than meets the eye. —Timmhotep Aku\n",
      "--------------\n",
      "WORRIERS : Imaginary Life\n",
      "\"Sometimes silence is a loaded gun / In the hands of all of us.\" \"What if there's no better word / Than just not saying anything?\" This, songwriters, is how you use a line break. Imaginary Life has a lot going for it in sonics alone, thanks in part to the production work of Against Me!'s Laura Jane Grace. But the debut full-length by Worriers really shimmers in Lauren Denitzio's curveball couplets, where big-picture questions about police brutality or gender inequality glance off their institutional targets and land back in the lap of the listener. —Daoud Tyler-Ameen\n",
      "--------------\n",
      "XAOS : Xaos\n",
      "To be Greek means to be part of a people whose collective identity often seems to exist, for better or worse, in several historical epochs simultaneously, from the ancients to the Byzantines and onward into the present. This is an idea that recurs in the work of some of our greatest poets and authors, but it's a rather hard idea to translate into music — but it's what I thought of immediately upon first hearing this moody and gorgeous album. It's an eponymous release by the duo Xaos (pronounced \"HAH-ohs,\" it translates to \"chaos\"), a collaboration between Ahetas, an electronic music composer, keyboardist and painter born in Australia and raised in Greece, and Dubulah, a German-born producer and artist of Greek-English parentage who has collaborated with artists like Dub Colossus and Samuel Yirga. On each track, they carefully build layers of swirling, moody sound, referencing many points in the Greek experience with instruments like the Pontic lyra (a three-stringed, bowed lute) and the delicate kanonaki zither blended with modern electronics, guitars and keyboards. But you don't have to think about such cultural specificities; just sink deep, deep down into Xaos' wine-dark washes of sound. —Anastasia Tsioulcas\n",
      "--------------\n"
     ]
    }
   ],
   "source": [
    "hrs = doc3.find_all(\"hr\")\n",
    "for hr in hrs:\n",
    "    song_header = hr.parent.next_sibling.next_sibling.next_sibling.next_sibling\n",
    "    song_artist = song_header.strong.text\n",
    "    song_title = song_header.em.text\n",
    "    song_description = song_header.next_sibling.next_sibling.text\n",
    "    print (song_artist, \":\", song_title)\n",
    "    print (song_description)\n",
    "    print (\"--------------\")"
   ]
  },
  {
   "cell_type": "code",
   "execution_count": null,
   "metadata": {
    "collapsed": true
   },
   "outputs": [],
   "source": []
  }
 ],
 "metadata": {
  "kernelspec": {
   "display_name": "Python 3",
   "language": "python",
   "name": "python3"
  },
  "language_info": {
   "codemirror_mode": {
    "name": "ipython",
    "version": 3
   },
   "file_extension": ".py",
   "mimetype": "text/x-python",
   "name": "python",
   "nbconvert_exporter": "python",
   "pygments_lexer": "ipython3",
   "version": "3.6.1"
  }
 },
 "nbformat": 4,
 "nbformat_minor": 2
}
