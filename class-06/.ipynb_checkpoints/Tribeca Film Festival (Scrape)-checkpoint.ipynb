{
 "cells": [
  {
   "cell_type": "markdown",
   "metadata": {},
   "source": [
    "# Scrape movies from Tribeca Festival"
   ]
  },
  {
   "cell_type": "code",
   "execution_count": 1,
   "metadata": {
    "collapsed": true
   },
   "outputs": [],
   "source": [
    "from bs4 import BeautifulSoup\n",
    "from urllib.request import urlopen"
   ]
  },
  {
   "cell_type": "code",
   "execution_count": 5,
   "metadata": {
    "collapsed": true
   },
   "outputs": [],
   "source": [
    "my_url = \"https://tribecafilm.com/filmguide?letter=a\"\n",
    "raw_html = urlopen(my_url).read()\n",
    "soup_doc = BeautifulSoup(raw_html, \"html.parser\")"
   ]
  },
  {
   "cell_type": "code",
   "execution_count": 8,
   "metadata": {},
   "outputs": [
    {
     "data": {
      "text/plain": [
       "<title>Film Guide | Tribeca</title>"
      ]
     },
     "execution_count": 8,
     "metadata": {},
     "output_type": "execute_result"
    }
   ],
   "source": [
    "soup_doc.title"
   ]
  },
  {
   "cell_type": "code",
   "execution_count": 99,
   "metadata": {},
   "outputs": [],
   "source": [
    "movies = soup_doc.find_all('article') #every movie is stored in a separate tag called <article>"
   ]
  },
  {
   "cell_type": "markdown",
   "metadata": {},
   "source": [
    "Check first movie"
   ]
  },
  {
   "cell_type": "code",
   "execution_count": 62,
   "metadata": {},
   "outputs": [],
   "source": [
    "sections = movies[0].find_all('section') #inside the <article>-tag, we have various <section>-tags"
   ]
  },
  {
   "cell_type": "code",
   "execution_count": 63,
   "metadata": {},
   "outputs": [],
   "source": [
    "title = sections[0].find('h1', class_='headerTitle').a.string"
   ]
  },
  {
   "cell_type": "code",
   "execution_count": 85,
   "metadata": {},
   "outputs": [],
   "source": [
    "year = sections[0].find_all('li')[1].string[-4:]"
   ]
  },
  {
   "cell_type": "code",
   "execution_count": 88,
   "metadata": {},
   "outputs": [],
   "source": [
    "runtime = sections[0].find_all('li')[2].string[9:]"
   ]
  },
  {
   "cell_type": "code",
   "execution_count": 82,
   "metadata": {},
   "outputs": [],
   "source": [
    "director = sections[0].find_all('li')[3].string.lstrip()[14:].lstrip().rstrip()"
   ]
  },
  {
   "cell_type": "code",
   "execution_count": 41,
   "metadata": {},
   "outputs": [],
   "source": [
    "country = sections[0].find_all('li')[4].a.string"
   ]
  },
  {
   "cell_type": "code",
   "execution_count": 95,
   "metadata": {},
   "outputs": [],
   "source": [
    "synopsis = sections[1].contents[0].lstrip()[:-3]"
   ]
  },
  {
   "cell_type": "markdown",
   "metadata": {},
   "source": [
    "Go through all the movies"
   ]
  },
  {
   "cell_type": "code",
   "execution_count": null,
   "metadata": {
    "collapsed": true
   },
   "outputs": [],
   "source": [
    "movies = [] #create empty list of movies for later"
   ]
  },
  {
   "cell_type": "code",
   "execution_count": 102,
   "metadata": {},
   "outputs": [
    {
     "name": "stdout",
     "output_type": "stream",
     "text": [
      "Title AARDVARK | 89 minutes | by Brian Shoaf ( USA , 2017 )\n",
      "While battling her own anxieties, therapist Emily Milburton (Jenny Slate) spends her time listening to other people’s problems. Her professional and personal worlds collide when Emily’s newest patient, Josh Norman (Zachary Quinto), walks through her door. Mentally ill and experiencing hallucinations, Josh harbors complex feelings for his estranged brother, Craig (Jon Hamm). Things begin to get interesting when Emily falls for Craig. \n",
      "\n",
      "Title ABUNDANT ACREAGE AVAILABLE | 80 minutes | by Angus MacLachlan ( USA , 2017 )\n",
      "Still reeling over the recent death of their father, siblings Jesse (Terry Kinney) and Tracy (Amy Ryan) are attempting to settle into their new lives in his absence. Their simple existence is unexpectedly disrupted by the sudden arrival of three mysterious brothers, camping on their land and possessing a surprising connection to their family farm.  \n",
      "\n",
      "Title ACORN AND THE FIRESTORM | 84 minutes | by Reuben Atlas and Sam Pollard ( USA , 2017 )\n",
      "For 40 years, the community-organizing group ACORN advocated for America’s poorest communities, while its detractors accused it of promoting government waste and the worst of liberal policies. Riding high on the momentum of Barack Obama’s presidential victory in 2008, ACORN was at its social zenith when a hidden-camera video sparked a national scandal and brought it all crashing down. \n",
      "\n",
      "Title AGAIN | 11 minutes | by Alexis Jacknow ( USA , 2017 )\n",
      "A man watch \n",
      "\n",
      "Title ALADDIN | 90 minutes | by Ron Clements and John Musker ( USA , 1992 )\n",
      "Disney’s beloved animated masterpiece will make your heart race and your spirit soar. Experience the laughter, adventure and Academy Award®-winning music (1992: Best Music, Original Song, “A Whole New World,” Original Score) on the big screen at Tribeca’s 25th anniversary celebration for the whole fami \n",
      "\n",
      "Title ALIVE | 15 minutes | by Sung Hwan Kim ( South Korea , 2016 )\n",
      "A 100-meter sprinter faces challenges around the end of his career and his life \n",
      "\n",
      "Title ALPHAGO | 90 minutes | by Greg Kohs ( USA , 2017 )\n",
      "With simple rules but a near-infinite number of possible outcomes, the ancient Chinese board game Go has long been considered the holy grail of artificial intelligence. Director Greg Kohs' absorbing documentary chronicles Google's DeepMind team as it takes on one of the world's top Go players in a weeklong tournament, pitting man against machine in a competition that reveals as much about the workings of the human mind as it does the future of AI. \n",
      "\n",
      "Title ALTERATION | 18 minutes | by Jérome Blanquet ( France , 2017 )\n",
      "Alexandro volunteers for an experiment carried out to study dreams in this poetic trip into the future. He can’t imagine that he will be subjected to the intrusion of Elsa, a form of Artificial Intelligence who aims to digitize his subconscious in order to feed off of it. She’s a vampire…bit by megabit. \n",
      "\n",
      "Title THE AMAZING ADVENTURES OF WALLY AND THE WORM | 16 minutes | by Colin Hanks ( USA , 2016 )\n",
      "When Dennis Rodman hurts his knee with four weeks to go in the Chicago Bulls '96-'97 NBA championship season, young assistant trainer Wally Blasé is assigned to oversee his rehab, and the two forge a close friendship over 10 wild days of fast living recounted by director Colin Hanks through animation and first-person confessions. \n",
      "\n",
      "Title ANGEL | 8 minutes | by Gregory Casares ( Switzerland , 2016 )\n",
      "Eva and Mr. Corbeau have long felt a reciprocal affection and attraction, but the world of humans and the world of animals don't mix – until one autumn evening at the masked ball organized by Eva's father in honor of his daughter. \n",
      "\n"
     ]
    }
   ],
   "source": [
    "for movie in soup_doc.find_all('article'):\n",
    "    #create individual field variables\n",
    "    sections = movie.find_all('section')\n",
    "    title = sections[0].find('h1', class_='headerTitle').a.string\n",
    "    year = sections[0].find_all('li')[1].string[-4:]\n",
    "    runtime = sections[0].find_all('li')[2].string[9:]\n",
    "    director = sections[0].find_all('li')[3].string.lstrip()[14:].lstrip().rstrip()\n",
    "    country = sections[0].find_all('li')[4].a.string\n",
    "    synopsis = sections[1].contents[0].lstrip()[:-3]\n",
    "    #print them\n",
    "    print (\"Title\", title, \"|\", runtime, \"| by\", director, \"(\", country, \",\", year, \")\")\n",
    "    print (synopsis, \"\\n\")\n",
    "    #store everything in a separate dictionary\n",
    "    movies.append({'title': title, 'year': year, 'runtime': runtime, 'director': director, 'country': country, 'synopsis': synopsis})"
   ]
  },
  {
   "cell_type": "code",
   "execution_count": null,
   "metadata": {
    "collapsed": true
   },
   "outputs": [],
   "source": []
  }
 ],
 "metadata": {
  "kernelspec": {
   "display_name": "Python 3",
   "language": "python",
   "name": "python3"
  },
  "language_info": {
   "codemirror_mode": {
    "name": "ipython",
    "version": 3
   },
   "file_extension": ".py",
   "mimetype": "text/x-python",
   "name": "python",
   "nbconvert_exporter": "python",
   "pygments_lexer": "ipython3",
   "version": "3.6.1"
  }
 },
 "nbformat": 4,
 "nbformat_minor": 2
}
